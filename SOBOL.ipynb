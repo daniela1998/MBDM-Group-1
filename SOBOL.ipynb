{
 "cells": [
  {
   "metadata": {},
   "cell_type": "markdown",
   "source": "Sensitivity analysis, including a linear regression model, SOBOL, and Extra-Trees analysis. Code copied from assignment 6 model answers.",
   "id": "1599eeb690adb57a"
  },
  {
   "metadata": {
    "ExecuteTime": {
     "end_time": "2025-06-05T20:50:35.295106Z",
     "start_time": "2025-06-05T20:50:29.754046Z"
    }
   },
   "cell_type": "code",
   "source": [
    "#First load the necessary libraries and functions\n",
    "%matplotlib inline\n",
    "import numpy as np\n",
    "import pandas as pd\n",
    "\n",
    "import matplotlib.pyplot as plt\n",
    "import seaborn as sns\n",
    "sns.set_style('white')\n",
    "\n",
    "from ema_workbench import (Model, RealParameter, TimeSeriesOutcome,\n",
    "                           perform_experiments, MultiprocessingEvaluator, ema_logging,Policy)\n",
    "\n",
    "from ema_workbench import Samplers\n",
    "\n",
    "from ema_workbench.analysis import feature_scoring\n",
    "from ema_workbench.analysis.scenario_discovery_util import RuleInductionType\n",
    "from ema_workbench.em_framework.salib_samplers import get_SALib_problem\n",
    "\n",
    "from SALib.analyze import sobol"
   ],
   "id": "1f044769f22b1dd0",
   "outputs": [],
   "execution_count": 1
  },
  {
   "metadata": {
    "ExecuteTime": {
     "end_time": "2025-06-05T20:50:36.101399Z",
     "start_time": "2025-06-05T20:50:35.310769Z"
    }
   },
   "cell_type": "code",
   "source": [
    "#Load the model\n",
    "from problem_formulation import get_model_for_problem_formulation"
   ],
   "id": "fbeafe8e1bf486d0",
   "outputs": [],
   "execution_count": 2
  },
  {
   "metadata": {
    "ExecuteTime": {
     "end_time": "2025-06-05T20:50:37.198679Z",
     "start_time": "2025-06-05T20:50:36.265378Z"
    }
   },
   "cell_type": "code",
   "source": [
    "#Choose problem formulation 4 to get results disaggregated over time\n",
    "ema_logging.log_to_stderr(ema_logging.INFO)\n",
    "dike_model, planning_steps = get_model_for_problem_formulation(4)"
   ],
   "id": "267d2cf49b448eae",
   "outputs": [],
   "execution_count": 3
  },
  {
   "metadata": {
    "ExecuteTime": {
     "end_time": "2025-06-05T20:50:37.233459Z",
     "start_time": "2025-06-05T20:50:37.227492Z"
    }
   },
   "cell_type": "code",
   "source": [
    "# Model Uncertainties\n",
    "for uncertainty in dike_model.uncertainties:\n",
    "    print(repr(uncertainty))\n",
    "\n",
    "uncertainties = dike_model.uncertainties"
   ],
   "id": "f5437c16f0b57faa",
   "outputs": [
    {
     "name": "stdout",
     "output_type": "stream",
     "text": [
      "CategoricalParameter('discount rate 0', [0, 1, 2, 3])\n",
      "CategoricalParameter('discount rate 1', [0, 1, 2, 3])\n",
      "CategoricalParameter('discount rate 2', [0, 1, 2, 3])\n",
      "IntegerParameter('A.0_ID flood wave shape', 0, 132, resolution=None, default=None, variable_name=['A.0_ID flood wave shape'], pff=False)\n",
      "RealParameter('A.1_Bmax', 30, 350, resolution=None, default=None, variable_name=['A.1_Bmax'], pff=False)\n",
      "RealParameter('A.1_pfail', 0, 1, resolution=None, default=None, variable_name=['A.1_pfail'], pff=False)\n",
      "CategoricalParameter('A.1_Brate', [0, 1, 2])\n",
      "RealParameter('A.2_Bmax', 30, 350, resolution=None, default=None, variable_name=['A.2_Bmax'], pff=False)\n",
      "RealParameter('A.2_pfail', 0, 1, resolution=None, default=None, variable_name=['A.2_pfail'], pff=False)\n",
      "CategoricalParameter('A.2_Brate', [0, 1, 2])\n",
      "RealParameter('A.3_Bmax', 30, 350, resolution=None, default=None, variable_name=['A.3_Bmax'], pff=False)\n",
      "RealParameter('A.3_pfail', 0, 1, resolution=None, default=None, variable_name=['A.3_pfail'], pff=False)\n",
      "CategoricalParameter('A.3_Brate', [0, 1, 2])\n",
      "RealParameter('A.4_Bmax', 30, 350, resolution=None, default=None, variable_name=['A.4_Bmax'], pff=False)\n",
      "RealParameter('A.4_pfail', 0, 1, resolution=None, default=None, variable_name=['A.4_pfail'], pff=False)\n",
      "CategoricalParameter('A.4_Brate', [0, 1, 2])\n",
      "RealParameter('A.5_Bmax', 30, 350, resolution=None, default=None, variable_name=['A.5_Bmax'], pff=False)\n",
      "RealParameter('A.5_pfail', 0, 1, resolution=None, default=None, variable_name=['A.5_pfail'], pff=False)\n",
      "CategoricalParameter('A.5_Brate', [0, 1, 2])\n"
     ]
    }
   ],
   "execution_count": 4
  },
  {
   "metadata": {
    "ExecuteTime": {
     "end_time": "2025-06-05T20:50:37.299845Z",
     "start_time": "2025-06-05T20:50:37.289587Z"
    }
   },
   "cell_type": "code",
   "source": [
    "# Amaryllis: Trying to make some own policies\n",
    "\n",
    "def get_do_nothing_dict():\n",
    "    return {l.name: 0 for l in dike_model.levers}\n",
    "\n",
    "\n",
    "#RFR in Doesburg and Zuthpen as they talked about in the debate\n",
    "policy_rfr_A1_A3 = Policy(\n",
    "        \"policy RfR in A1 and A3\",\n",
    "        **dict(\n",
    "            get_do_nothing_dict(),\n",
    "            **{\"1_RfR 0\": 1, \"1_RfR 1\": 1, \"1_RfR 2\": 1,\n",
    "               \"3_RfR 0\": 1, \"3_RfR 1\": 1, '3_RfR 2': 1,}\n",
    "        )\n",
    "    )\n",
    "\n",
    "#RFR in Doesburg and Zuthpen and dike heightening in Cortenoever and Gorssel\n",
    "policy_rfr_A1_A3_dike_A2_A4= Policy(\n",
    "        \"policy RfR in A1 and A3 and Dike height in A2 and A4\",\n",
    "        **dict(\n",
    "            get_do_nothing_dict(),\n",
    "            **{# RfR for A1\n",
    "            \"1_RfR 0\": 1, \"1_RfR 1\": 1, \"1_RfR 2\": 1,\n",
    "            # RfR for A3\n",
    "            \"3_RfR 0\": 1, \"3_RfR 1\": 1, \"3_RfR 2\": 1,\n",
    "            # DikeIncrease for A2\n",
    "           # \"2_DikeIncrease 0\": 5, \"2_DikeIncrease 1\": 5, \"2_DikeIncrease 2\": 5,\n",
    "            # DikeIncrease for A4\n",
    "            \"4_DikeIncrease 0\": 5, \"4_DikeIncrease 1\": 5, \"4_DikeIncrease 2\": 5,}\n",
    "        )\n",
    "    )\n",
    "\n",
    "#some random policies\n",
    "import random\n",
    "from ema_workbench import Policy\n",
    "\n",
    "def generate_random_policy(name):\n",
    "    lever_values = {}\n",
    "    for lever in dike_model.levers:\n",
    "        if \"RfR\" in lever.name:\n",
    "            # RfR levers: either 0 or 1\n",
    "            lever_values[lever.name] = random.choice([0, 1])\n",
    "        elif \"DikeIncrease\" in lever.name:\n",
    "            # DikeIncrease levers: 0 to 10\n",
    "            lever_values[lever.name] = random.randint(0, 10)\n",
    "        else:\n",
    "            # other levers if any - set to 0 or default\n",
    "            lever_values[lever.name] = 0\n",
    "    return Policy(name, **lever_values)\n",
    "\n",
    "# Create policies 4 to 10\n",
    "random_policies = [generate_random_policy(f\"random policy {i}\") for i in range(4, 11)]\n",
    "\n",
    "\n",
    "policies = [\n",
    "    Policy(\"do nothing\", **get_do_nothing_dict()),\n",
    "    policy_rfr_A1_A3,\n",
    "    policy_rfr_A1_A3_dike_A2_A4,\n",
    "] + random_policies"
   ],
   "id": "201d295fc47b76f1",
   "outputs": [],
   "execution_count": 5
  },
  {
   "metadata": {
    "ExecuteTime": {
     "end_time": "2025-06-05T21:01:23.626225Z",
     "start_time": "2025-06-05T20:50:37.334513Z"
    }
   },
   "cell_type": "code",
   "source": [
    "#Number of linear regression model experiments, in assignment 6: n_exp = 1000\n",
    "n_exp = 160\n",
    "\n",
    "with MultiprocessingEvaluator(dike_model) as evaluator:\n",
    "    results_lhs = evaluator.perform_experiments(scenarios=n_exp, policies = policies, uncertainty_sampling=Samplers.LHS)\n",
    "\n",
    "exp_lhs, out_lhs = results_lhs"
   ],
   "id": "6f0240a5f1f82db3",
   "outputs": [
    {
     "name": "stderr",
     "output_type": "stream",
     "text": [
      "[MainProcess/INFO] pool started with 8 workers\n",
      "[MainProcess/INFO] performing 160 scenarios * 10 policies * 1 model(s) = 1600 experiments\n",
      "100%|██████████████████████████████████████| 1600/1600 [09:54<00:00,  2.69it/s]\n",
      "[MainProcess/INFO] experiments finished\n",
      "[MainProcess/INFO] terminating pool\n"
     ]
    }
   ],
   "execution_count": 6
  },
  {
   "metadata": {
    "ExecuteTime": {
     "end_time": "2025-06-05T21:01:23.858216Z",
     "start_time": "2025-06-05T21:01:23.832996Z"
    }
   },
   "cell_type": "code",
   "source": "out_lhs['Minimum Water Level'].shape",
   "id": "654d1672b6bd96b5",
   "outputs": [
    {
     "data": {
      "text/plain": [
       "(1600, 3, 30)"
      ]
     },
     "execution_count": 7,
     "metadata": {},
     "output_type": "execute_result"
    }
   ],
   "execution_count": 7
  },
  {
   "metadata": {
    "ExecuteTime": {
     "end_time": "2025-06-05T21:01:24.055742Z",
     "start_time": "2025-06-05T21:01:24.046214Z"
    }
   },
   "cell_type": "code",
   "source": "out_lhs['Minimum Water Level'][:,0,-1]",
   "id": "e32b01f805ddd4d0",
   "outputs": [
    {
     "data": {
      "text/plain": [
       "array([4.5387    , 4.5387    , 5.14018143, ..., 4.5387    , 4.5387    ,\n",
       "       4.5387    ])"
      ]
     },
     "execution_count": 8,
     "metadata": {},
     "output_type": "execute_result"
    }
   ],
   "execution_count": 8
  },
  {
   "metadata": {
    "ExecuteTime": {
     "end_time": "2025-06-05T21:01:24.157343Z",
     "start_time": "2025-06-05T21:01:24.144005Z"
    }
   },
   "cell_type": "code",
   "source": [
    "#Getting the results of the linear regression model run outocomes\n",
    "min_wl_final_lhs = out_lhs['Minimum Water Level'][:,0,-1]\n",
    "min_wl_mean_lhs = np.mean(out_lhs['Minimum Water Level'][:,0,:],axis=1)\n",
    "min_wl_std_lhs = np.std(out_lhs['Minimum Water Level'][:,0,:],axis=1)"
   ],
   "id": "168f4992089d5535",
   "outputs": [],
   "execution_count": 9
  },
  {
   "metadata": {
    "ExecuteTime": {
     "end_time": "2025-06-05T21:01:24.461499Z",
     "start_time": "2025-06-05T21:01:24.281780Z"
    }
   },
   "cell_type": "code",
   "source": [
    "#Make the linear regression\n",
    "import statsmodels.api as sm\n",
    "\n",
    "X = pd.DataFrame(exp_lhs).drop(['model','policy'], inplace=False, axis=1)\n",
    "X_0 = sm.add_constant(X)\n",
    "\n",
    "est = sm.OLS(min_wl_final_lhs, X_0.astype(float)).fit()\n",
    "print(est.summary())\n",
    "print(est.params)"
   ],
   "id": "c4fd7c1f3b86bd83",
   "outputs": [
    {
     "name": "stdout",
     "output_type": "stream",
     "text": [
      "                            OLS Regression Results                            \n",
      "==============================================================================\n",
      "Dep. Variable:                      y   R-squared:                       0.219\n",
      "Model:                            OLS   Adj. R-squared:                  0.205\n",
      "Method:                 Least Squares   F-statistic:                     15.71\n",
      "Date:                Thu, 05 Jun 2025   Prob (F-statistic):           1.28e-65\n",
      "Time:                        23:01:24   Log-Likelihood:                -729.21\n",
      "No. Observations:                1600   AIC:                             1516.\n",
      "Df Residuals:                    1571   BIC:                             1672.\n",
      "Df Model:                          28                                         \n",
      "Covariance Type:            nonrobust                                         \n",
      "===========================================================================================\n",
      "                              coef    std err          t      P>|t|      [0.025      0.975]\n",
      "-------------------------------------------------------------------------------------------\n",
      "const                       4.9213      0.086     57.079      0.000       4.752       5.090\n",
      "A.0_ID flood wave shape    -0.0007      0.000     -2.582      0.010      -0.001      -0.000\n",
      "A.1_Bmax                    0.0002      0.000      1.435      0.152   -5.97e-05       0.000\n",
      "A.1_Brate                  -0.0093      0.002     -3.774      0.000      -0.014      -0.004\n",
      "A.1_pfail                  -0.1138      0.035     -3.280      0.001      -0.182      -0.046\n",
      "A.2_Bmax                 9.197e-05      0.000      0.793      0.428      -0.000       0.000\n",
      "A.2_Brate                  -0.0132      0.003     -5.243      0.000      -0.018      -0.008\n",
      "A.2_pfail                   0.0541      0.037      1.468      0.142      -0.018       0.126\n",
      "A.3_Bmax                   -0.0002      0.000     -2.095      0.036      -0.000   -1.51e-05\n",
      "A.3_Brate                   0.0130      0.002      5.239      0.000       0.008       0.018\n",
      "A.3_pfail                  -0.0754      0.035     -2.131      0.033      -0.145      -0.006\n",
      "A.4_Bmax                   -0.0003      0.000     -2.763      0.006      -0.001   -8.69e-05\n",
      "A.4_Brate                   0.0091      0.002      3.787      0.000       0.004       0.014\n",
      "A.4_pfail                   0.1231      0.035      3.523      0.000       0.055       0.192\n",
      "A.5_Bmax                   -0.0004      0.000     -3.984      0.000      -0.001      -0.000\n",
      "A.5_Brate                  -0.0115      0.002     -4.598      0.000      -0.016      -0.007\n",
      "A.5_pfail                  -0.1738      0.035     -4.925      0.000      -0.243      -0.105\n",
      "discount rate 0             0.0611      0.009      6.786      0.000       0.043       0.079\n",
      "discount rate 1            -0.0193      0.009     -2.086      0.037      -0.038      -0.001\n",
      "discount rate 2             0.0137      0.009      1.535      0.125      -0.004       0.031\n",
      "0_RfR 0                     0.0007      0.000      2.628      0.009       0.000       0.001\n",
      "0_RfR 1                     0.0014      0.001      2.614      0.009       0.000       0.003\n",
      "0_RfR 2                    -0.0016      0.000     -4.309      0.000      -0.002      -0.001\n",
      "1_RfR 0                    -0.0553      0.006     -8.825      0.000      -0.068      -0.043\n",
      "1_RfR 1                    -0.0533      0.006     -8.412      0.000      -0.066      -0.041\n",
      "1_RfR 2                    -0.0555      0.006     -8.986      0.000      -0.068      -0.043\n",
      "2_RfR 0                 -9.818e-05      0.000     -0.370      0.711      -0.001       0.000\n",
      "2_RfR 1                    -0.0017      0.000     -4.845      0.000      -0.002      -0.001\n",
      "2_RfR 2                    -0.0004      0.000     -1.475      0.140      -0.001       0.000\n",
      "3_RfR 0                    -0.0563      0.006     -8.988      0.000      -0.069      -0.044\n",
      "3_RfR 1                    -0.0571      0.006     -9.274      0.000      -0.069      -0.045\n",
      "3_RfR 2                    -0.0573      0.006     -9.302      0.000      -0.069      -0.045\n",
      "4_RfR 0                    -0.0018      0.000     -4.587      0.000      -0.003      -0.001\n",
      "4_RfR 1                    -0.0013      0.001     -2.292      0.022      -0.002      -0.000\n",
      "4_RfR 2                     0.0019      0.000      3.927      0.000       0.001       0.003\n",
      "EWS_DaysToThreat                 0          0        nan        nan           0           0\n",
      "A.1_DikeIncrease 0         -0.0023      0.002     -1.151      0.250      -0.006       0.002\n",
      "A.1_DikeIncrease 1          0.0061      0.002      2.498      0.013       0.001       0.011\n",
      "A.1_DikeIncrease 2          0.0099      0.002      4.902      0.000       0.006       0.014\n",
      "A.2_DikeIncrease 0          0.0005      0.002      0.315      0.752      -0.003       0.004\n",
      "A.2_DikeIncrease 1          0.0011      0.001      0.791      0.429      -0.002       0.004\n",
      "A.2_DikeIncrease 2          0.0027      0.002      1.721      0.085      -0.000       0.006\n",
      "A.3_DikeIncrease 0          0.0097      0.002      4.693      0.000       0.006       0.014\n",
      "A.3_DikeIncrease 1         -0.0028      0.002     -1.450      0.147      -0.007       0.001\n",
      "A.3_DikeIncrease 2         -0.0026      0.001     -1.750      0.080      -0.005       0.000\n",
      "A.4_DikeIncrease 0         -0.0035      0.002     -2.036      0.042      -0.007      -0.000\n",
      "A.4_DikeIncrease 1         -0.0024      0.002     -1.317      0.188      -0.006       0.001\n",
      "A.4_DikeIncrease 2          0.0022      0.002      1.361      0.174      -0.001       0.005\n",
      "A.5_DikeIncrease 0         -0.0098      0.003     -3.720      0.000      -0.015      -0.005\n",
      "A.5_DikeIncrease 1         -0.0026      0.002     -1.664      0.096      -0.006       0.000\n",
      "A.5_DikeIncrease 2          0.0008      0.001      0.580      0.562      -0.002       0.003\n",
      "scenario                    0.0006      0.000      2.939      0.003       0.000       0.001\n",
      "==============================================================================\n",
      "Omnibus:                      140.654   Durbin-Watson:                   2.123\n",
      "Prob(Omnibus):                  0.000   Jarque-Bera (JB):              179.156\n",
      "Skew:                           0.820   Prob(JB):                     1.25e-39\n",
      "Kurtosis:                       3.004   Cond. No.                     1.02e+16\n",
      "==============================================================================\n",
      "\n",
      "Notes:\n",
      "[1] Standard Errors assume that the covariance matrix of the errors is correctly specified.\n",
      "[2] The smallest eigenvalue is 3.06e-24. This might indicate that there are\n",
      "strong multicollinearity problems or that the design matrix is singular.\n",
      "const                      4.921285\n",
      "A.0_ID flood wave shape   -0.000680\n",
      "A.1_Bmax                   0.000163\n",
      "A.1_Brate                 -0.009280\n",
      "A.1_pfail                 -0.113769\n",
      "A.2_Bmax                   0.000092\n",
      "A.2_Brate                 -0.013219\n",
      "A.2_pfail                  0.054052\n",
      "A.3_Bmax                  -0.000236\n",
      "A.3_Brate                  0.013000\n",
      "A.3_pfail                 -0.075406\n",
      "A.4_Bmax                  -0.000300\n",
      "A.4_Brate                  0.009135\n",
      "A.4_pfail                  0.123077\n",
      "A.5_Bmax                  -0.000434\n",
      "A.5_Brate                 -0.011470\n",
      "A.5_pfail                 -0.173816\n",
      "discount rate 0            0.061112\n",
      "discount rate 1           -0.019328\n",
      "discount rate 2            0.013651\n",
      "0_RfR 0                    0.000696\n",
      "0_RfR 1                    0.001444\n",
      "0_RfR 2                   -0.001630\n",
      "1_RfR 0                   -0.055296\n",
      "1_RfR 1                   -0.053325\n",
      "1_RfR 2                   -0.055455\n",
      "2_RfR 0                   -0.000098\n",
      "2_RfR 1                   -0.001694\n",
      "2_RfR 2                   -0.000415\n",
      "3_RfR 0                   -0.056282\n",
      "3_RfR 1                   -0.057098\n",
      "3_RfR 2                   -0.057268\n",
      "4_RfR 0                   -0.001799\n",
      "4_RfR 1                   -0.001322\n",
      "4_RfR 2                    0.001860\n",
      "EWS_DaysToThreat           0.000000\n",
      "A.1_DikeIncrease 0        -0.002264\n",
      "A.1_DikeIncrease 1         0.006052\n",
      "A.1_DikeIncrease 2         0.009939\n",
      "A.2_DikeIncrease 0         0.000509\n",
      "A.2_DikeIncrease 1         0.001078\n",
      "A.2_DikeIncrease 2         0.002680\n",
      "A.3_DikeIncrease 0         0.009733\n",
      "A.3_DikeIncrease 1        -0.002813\n",
      "A.3_DikeIncrease 2        -0.002588\n",
      "A.4_DikeIncrease 0        -0.003455\n",
      "A.4_DikeIncrease 1        -0.002364\n",
      "A.4_DikeIncrease 2         0.002216\n",
      "A.5_DikeIncrease 0        -0.009764\n",
      "A.5_DikeIncrease 1        -0.002611\n",
      "A.5_DikeIncrease 2         0.000773\n",
      "scenario                   0.000645\n",
      "dtype: float64\n"
     ]
    }
   ],
   "execution_count": 10
  },
  {
   "metadata": {},
   "cell_type": "markdown",
   "source": "P>|t| values shows the statistical significance, with a lower value being more significant. Parameters with values of 0 or close to 0 are important",
   "id": "f07d04fa83ae73b1"
  },
  {
   "metadata": {
    "ExecuteTime": {
     "end_time": "2025-06-05T21:01:24.566592Z",
     "start_time": "2025-06-05T21:01:24.557636Z"
    }
   },
   "cell_type": "code",
   "source": [
    "problem = get_SALib_problem(uncertainties)\n",
    "print(problem)"
   ],
   "id": "3d1949657ae5ab82",
   "outputs": [
    {
     "name": "stdout",
     "output_type": "stream",
     "text": [
      "{'num_vars': 19, 'names': ['A.0_ID flood wave shape', 'A.1_Bmax', 'A.1_Brate', 'A.1_pfail', 'A.2_Bmax', 'A.2_Brate', 'A.2_pfail', 'A.3_Bmax', 'A.3_Brate', 'A.3_pfail', 'A.4_Bmax', 'A.4_Brate', 'A.4_pfail', 'A.5_Bmax', 'A.5_Brate', 'A.5_pfail', 'discount rate 0', 'discount rate 1', 'discount rate 2'], 'bounds': [(0, 133), (30, 350), (0, 3), (0, 1), (30, 350), (0, 3), (0, 1), (30, 350), (0, 3), (0, 1), (30, 350), (0, 3), (0, 1), (30, 350), (0, 3), (0, 1), (0, 4), (0, 4), (0, 4)]}\n"
     ]
    }
   ],
   "execution_count": 11
  },
  {
   "metadata": {},
   "cell_type": "markdown",
   "source": "Next up SOBOL. Running it will take a while.",
   "id": "c46795d7703dbf08"
  },
  {
   "metadata": {
    "jupyter": {
     "is_executing": true
    },
    "ExecuteTime": {
     "start_time": "2025-06-05T21:01:24.755486Z"
    }
   },
   "cell_type": "code",
   "source": [
    "n_exp = 8\n",
    "\n",
    "with MultiprocessingEvaluator(dike_model) as evaluator:\n",
    "    experiments_sobol, outcomes_sobol = perform_experiments(dike_model, scenarios=n_exp,\n",
    "                                                            policies=policies,\n",
    "                                                            uncertainty_sampling=Samplers.SOBOL)\n",
    "\n",
    "min_wl_final_sobol = outcomes_sobol['Minimum Water Level'][:,0,-1]\n",
    "min_wl_mean_sobol = np.mean(outcomes_sobol['Minimum Water Level'][:,0,:],axis=1)\n",
    "min_wl_std_sobol = np.std(outcomes_sobol['Minimum Water Level'][:,0,:],axis=1)\n",
    "\n",
    "Si = sobol.analyze(problem, min_wl_mean_sobol, calc_second_order=True, print_to_console=True)"
   ],
   "id": "7ce13db80188dd5d",
   "outputs": [
    {
     "name": "stderr",
     "output_type": "stream",
     "text": [
      "[MainProcess/INFO] pool started with 8 workers\n",
      "[MainProcess/INFO] performing 320 scenarios * 10 policies * 1 model(s) = 3200 experiments\n",
      "  0%|                                                 | 0/3200 [00:00<?, ?it/s][MainProcess/INFO] performing experiments sequentially\n",
      "  4%|█▍                                     | 116/3200 [01:12<38:30,  1.33it/s]"
     ]
    }
   ],
   "execution_count": null
  },
  {
   "metadata": {
    "ExecuteTime": {
     "end_time": "2025-06-05T20:49:57.051735Z",
     "start_time": "2025-06-05T20:01:02.646546Z"
    }
   },
   "cell_type": "code",
   "source": [
    "Si_filter = {k:Si[k] for k in ['ST','ST_conf','S1','S1_conf']}\n",
    "Si_df = pd.DataFrame(Si_filter, index=problem['names'])\n",
    "\n",
    "sns.set_style('white')\n",
    "fig, ax = plt.subplots(1)\n",
    "\n",
    "indices = Si_df[['S1','ST']]\n",
    "err = Si_df[['S1_conf','ST_conf']]\n",
    "\n",
    "indices.plot.bar(yerr=err.values.T,ax=ax)\n",
    "fig.set_size_inches(8,6)\n",
    "fig.subplots_adjust(bottom=0.3)\n",
    "plt.show()"
   ],
   "id": "df5059e6829f931a",
   "outputs": [
    {
     "data": {
      "text/plain": [
       "<Figure size 800x600 with 1 Axes>"
      ],
      "image/png": "[encoded data removed]"
     },
     "metadata": {},
     "output_type": "display_data"
    }
   ],
   "execution_count": 24
  },
  {
   "metadata": {
    "ExecuteTime": {
     "end_time": "2025-06-05T20:49:57.263192Z",
     "start_time": "2025-06-05T20:01:17.414789Z"
    }
   },
   "cell_type": "code",
   "source": [
    "Y = min_wl_mean_sobol\n",
    "\n",
    "s_data = pd.DataFrame(index=problem['names'],\n",
    "                      columns=np.arange(20,n_exp,50)*(2*problem['num_vars']+2))\n",
    "for j in s_data.columns:\n",
    "    scores = sobol.analyze(problem, Y[0:j], calc_second_order=True, print_to_console=False)\n",
    "    s_data.loc[:,j] = scores['ST']"
   ],
   "id": "8b60f3bc270a5531",
   "outputs": [],
   "execution_count": null
  },
  {
   "metadata": {},
   "cell_type": "code",
   "outputs": [],
   "execution_count": null,
   "source": [
    "fig, ax = plt.subplots(1)\n",
    "\n",
    "s_data.T.plot(ax=ax)\n",
    "ax.set_xlabel('Samples')\n",
    "ax.set_ylabel('Total index (ST)')\n",
    "plt.show()"
   ],
   "id": "ae834196e77f108b"
  },
  {
   "metadata": {
    "ExecuteTime": {
     "end_time": "2025-06-05T20:49:57.332630Z",
     "start_time": "2025-06-05T20:01:17.448396Z"
    }
   },
   "cell_type": "code",
   "source": "from ema_workbench.analysis import feature_scoring",
   "id": "af974c6777857178",
   "outputs": [],
   "execution_count": 25
  },
  {
   "metadata": {
    "ExecuteTime": {
     "end_time": "2025-06-05T20:49:57.339714Z",
     "start_time": "2025-06-05T20:06:16.309180Z"
    }
   },
   "cell_type": "code",
   "source": "cleaned_experiments_sobol = experiments_sobol.drop(columns=[l.name for l in dike_model.levers])",
   "id": "44bfbac204c9b8ff",
   "outputs": [],
   "execution_count": 43
  },
  {
   "metadata": {
    "ExecuteTime": {
     "end_time": "2025-06-05T20:49:57.355767Z",
     "start_time": "2025-06-05T20:06:17.149556Z"
    }
   },
   "cell_type": "code",
   "source": [
    "scores = feature_scoring.get_ex_feature_scores(cleaned_experiments_sobol, min_wl_final_sobol,\n",
    "                                      max_features=0.6, mode=RuleInductionType.REGRESSION)[0]\n",
    "scores"
   ],
   "id": "9da60416e04c680d",
   "outputs": [
    {
     "data": {
      "text/plain": [
       "                                1\n",
       "0                                \n",
       "policy                   0.445126\n",
       "A.0_ID flood wave shape  0.387322\n",
       "A.4_Bmax                 0.049062\n",
       "A.4_Brate                0.017767\n",
       "A.5_pfail                0.014784\n",
       "A.2_Bmax                 0.010358\n",
       "discount rate 1          0.010134\n",
       "A.4_pfail                0.009509\n",
       "A.3_Bmax                 0.006348\n",
       "discount rate 0          0.005824\n",
       "A.5_Bmax                 0.005812\n",
       "A.1_Bmax                 0.005723\n",
       "discount rate 2          0.005663\n",
       "A.2_Brate                0.005644\n",
       "A.1_pfail                0.005625\n",
       "A.3_Brate                0.005619\n",
       "A.5_Brate                0.003287\n",
       "A.2_pfail                0.002754\n",
       "A.3_pfail                0.002508\n",
       "A.1_Brate                0.001132"
      ],
      "text/html": [
       "<div>\n",
       "<style scoped>\n",
       "    .dataframe tbody tr th:only-of-type {\n",
       "        vertical-align: middle;\n",
       "    }\n",
       "\n",
       "    .dataframe tbody tr th {\n",
       "        vertical-align: top;\n",
       "    }\n",
       "\n",
       "    .dataframe thead th {\n",
       "        text-align: right;\n",
       "    }\n",
       "</style>\n",
       "<table border=\"1\" class=\"dataframe\">\n",
       "  <thead>\n",
       "    <tr style=\"text-align: right;\">\n",
       "      <th></th>\n",
       "      <th>1</th>\n",
       "    </tr>\n",
       "    <tr>\n",
       "      <th>0</th>\n",
       "      <th></th>\n",
       "    </tr>\n",
       "  </thead>\n",
       "  <tbody>\n",
       "    <tr>\n",
       "      <th>policy</th>\n",
       "      <td>0.445126</td>\n",
       "    </tr>\n",
       "    <tr>\n",
       "      <th>A.0_ID flood wave shape</th>\n",
       "      <td>0.387322</td>\n",
       "    </tr>\n",
       "    <tr>\n",
       "      <th>A.4_Bmax</th>\n",
       "      <td>0.049062</td>\n",
       "    </tr>\n",
       "    <tr>\n",
       "      <th>A.4_Brate</th>\n",
       "      <td>0.017767</td>\n",
       "    </tr>\n",
       "    <tr>\n",
       "      <th>A.5_pfail</th>\n",
       "      <td>0.014784</td>\n",
       "    </tr>\n",
       "    <tr>\n",
       "      <th>A.2_Bmax</th>\n",
       "      <td>0.010358</td>\n",
       "    </tr>\n",
       "    <tr>\n",
       "      <th>discount rate 1</th>\n",
       "      <td>0.010134</td>\n",
       "    </tr>\n",
       "    <tr>\n",
       "      <th>A.4_pfail</th>\n",
       "      <td>0.009509</td>\n",
       "    </tr>\n",
       "    <tr>\n",
       "      <th>A.3_Bmax</th>\n",
       "      <td>0.006348</td>\n",
       "    </tr>\n",
       "    <tr>\n",
       "      <th>discount rate 0</th>\n",
       "      <td>0.005824</td>\n",
       "    </tr>\n",
       "    <tr>\n",
       "      <th>A.5_Bmax</th>\n",
       "      <td>0.005812</td>\n",
       "    </tr>\n",
       "    <tr>\n",
       "      <th>A.1_Bmax</th>\n",
       "      <td>0.005723</td>\n",
       "    </tr>\n",
       "    <tr>\n",
       "      <th>discount rate 2</th>\n",
       "      <td>0.005663</td>\n",
       "    </tr>\n",
       "    <tr>\n",
       "      <th>A.2_Brate</th>\n",
       "      <td>0.005644</td>\n",
       "    </tr>\n",
       "    <tr>\n",
       "      <th>A.1_pfail</th>\n",
       "      <td>0.005625</td>\n",
       "    </tr>\n",
       "    <tr>\n",
       "      <th>A.3_Brate</th>\n",
       "      <td>0.005619</td>\n",
       "    </tr>\n",
       "    <tr>\n",
       "      <th>A.5_Brate</th>\n",
       "      <td>0.003287</td>\n",
       "    </tr>\n",
       "    <tr>\n",
       "      <th>A.2_pfail</th>\n",
       "      <td>0.002754</td>\n",
       "    </tr>\n",
       "    <tr>\n",
       "      <th>A.3_pfail</th>\n",
       "      <td>0.002508</td>\n",
       "    </tr>\n",
       "    <tr>\n",
       "      <th>A.1_Brate</th>\n",
       "      <td>0.001132</td>\n",
       "    </tr>\n",
       "  </tbody>\n",
       "</table>\n",
       "</div>"
      ]
     },
     "execution_count": 44,
     "metadata": {},
     "output_type": "execute_result"
    }
   ],
   "execution_count": 44
  },
  {
   "metadata": {
    "ExecuteTime": {
     "end_time": "2025-06-05T20:49:57.391668Z",
     "start_time": "2025-06-05T20:06:25.547085Z"
    }
   },
   "cell_type": "code",
   "source": [
    "combined_scores = []\n",
    "for j in range(100, experiments_sobol.shape[0], 100):\n",
    "    scores = feature_scoring.get_ex_feature_scores(cleaned_experiments_sobol.iloc[0:j, :],\n",
    "                                                   min_wl_mean_sobol[0:j],\n",
    "                                                   max_features=0.6,\n",
    "                                                   mode=RuleInductionType.REGRESSION)[0]\n",
    "    scores.columns = [j]\n",
    "    combined_scores.append(scores)"
   ],
   "id": "93ada7639bbaedc8",
   "outputs": [],
   "execution_count": 45
  },
  {
   "metadata": {
    "ExecuteTime": {
     "end_time": "2025-06-05T20:49:57.393597Z",
     "start_time": "2025-06-05T20:06:30.524493Z"
    }
   },
   "cell_type": "code",
   "source": "combined_scores = pd.concat(combined_scores, axis=1, sort=True)",
   "id": "64ef923ac8fee7ed",
   "outputs": [],
   "execution_count": 46
  },
  {
   "metadata": {
    "ExecuteTime": {
     "end_time": "2025-06-05T20:49:57.398117Z",
     "start_time": "2025-06-05T20:06:31.302517Z"
    }
   },
   "cell_type": "code",
   "source": [
    "fig, ax = plt.subplots(1)\n",
    "\n",
    "combined_scores.T.plot(ax=ax)\n",
    "ax.legend(bbox_to_anchor=(1,1))\n",
    "ax.set_xlabel('Samples')\n",
    "ax.set_ylabel('feature scores')\n",
    "plt.show()"
   ],
   "id": "74babc7bfd02b93b",
   "outputs": [
    {
     "data": {
      "text/plain": [
       "<Figure size 640x480 with 1 Axes>"
      ],
      "image/png": "[encoded data removed]"
     },
     "metadata": {},
     "output_type": "display_data"
    }
   ],
   "execution_count": 47
  }
 ],
 "metadata": {
  "kernelspec": {
   "display_name": "Python 3",
   "language": "python",
   "name": "python3"
  },
  "language_info": {
   "codemirror_mode": {
    "name": "ipython",
    "version": 2
   },
   "file_extension": ".py",
   "mimetype": "text/x-python",
   "name": "python",
   "nbconvert_exporter": "python",
   "pygments_lexer": "ipython2",
   "version": "2.7.6"
  }
 },
 "nbformat": 4,
 "nbformat_minor": 5
}
