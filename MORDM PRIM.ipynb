{
 "cells": [
  {
   "metadata": {},
   "cell_type": "markdown",
   "source": "## PRIM with MORDM Results",
   "id": "db42d54478eefde"
  },
  {
   "metadata": {
    "collapsed": true
   },
   "cell_type": "code",
   "outputs": [],
   "execution_count": null,
   "source": [
    "import numpy as np\n",
    "import scipy as sp\n",
    "import pandas as pd\n",
    "import matplotlib.pyplot as plt\n",
    "import seaborn as sns\n",
    "import networkx as nx\n",
    "from SALib.analyze import sobol\n",
    "import warnings\n",
    "from ema_workbench.analysis import feature_scoring\n",
    "from ema_workbench.em_framework.salib_samplers import get_SALib_problem\n",
    "import ema_workbench.em_framework.optimization\n",
    "from ema_workbench.em_framework.optimization import to_problem, epsilon_nondominated, EpsilonProgress, ArchiveLogger\n",
    "from ema_workbench import (\n",
    "    Model,\n",
    "    Policy,\n",
    "    ema_logging,\n",
    "    SequentialEvaluator,\n",
    "    MultiprocessingEvaluator,\n",
    "    perform_experiments,\n",
    "    Samplers,\n",
    ")\n",
    "\n",
    "from ema_workbench.analysis import prim\n",
    "from dike_model_function import DikeNetwork\n",
    "from problem_formulation import get_model_for_problem_formulation, sum_over, sum_over_time\n",
    "from ema_workbench.analysis import prim\n",
    "from ema_workbench.em_framework.parameters import Constant\n",
    "import pickle\n",
    "warnings.filterwarnings(\"ignore\")\n",
    "ema_logging.log_to_stderr(ema_logging.INFO)"
   ],
   "id": "initial_id"
  },
  {
   "metadata": {},
   "cell_type": "code",
   "outputs": [],
   "execution_count": null,
   "source": [
    "# Initialize the model\n",
    "dike_model, planning_steps = get_model_for_problem_formulation(2)\n",
    "# Retrieve MORDM results\n",
    "experiments = pd.read_csv('Results/Final_policies_experiments.csv')\n",
    "outcomes = pd.read_csv('Results/Final_policies_outcomes.csv')\n",
    "# Polcies and drop duplicate rows\n",
    "policy_outcomes = experiments[[pol.name for pol in dike_model.levers if pol.name in experiments.columns]]\n",
    "policy_outcomes.drop_duplicates(inplace=True)"
   ],
   "id": "4a9bc731addc21b3"
  },
  {
   "metadata": {},
   "cell_type": "code",
   "outputs": [],
   "execution_count": null,
   "source": [
    "# Store outcomes on a dataframe\n",
    "df_outcomes = pd.DataFrame(outcomes)"
   ],
   "id": "8028dd3a72263a3a"
  },
  {
   "metadata": {},
   "cell_type": "code",
   "outputs": [],
   "execution_count": null,
   "source": [
    "df_outcomes.to_csv('data/Results_Candidate_Solutions_outcomes.csv')\n",
    "experiments.to_csv('data/Results_Candidate_Solutions_experiments.csv')"
   ],
   "id": "11284f60d95ed03a"
  },
  {
   "metadata": {},
   "cell_type": "code",
   "outputs": [],
   "execution_count": null,
   "source": [
    "prim_rob = prim.Prim(experiments,outcomes, threshold=0.8,peel_alpha=0.1)\n",
    "box1 = prim_rob.find_box()\n",
    "box1.show_tradeoff(annotated=True)\n",
    "plt.show()"
   ],
   "id": "67a7867e93107ed1"
  },
  {
   "metadata": {},
   "cell_type": "code",
   "outputs": [],
   "execution_count": null,
   "source": [
    "# (Manually) select a box that has a nice coverage and density\n",
    "#pd.DataFrame(box1.inspect(17, style='data')[0][1]).to_csv('data\\A5_space_Prim3.csv')"
   ],
   "id": "b4ca188f910ddcee"
  },
  {
   "metadata": {},
   "cell_type": "code",
   "outputs": [],
   "execution_count": null,
   "source": "",
   "id": "9c164116eec08450"
  }
 ],
 "metadata": {
  "kernelspec": {
   "display_name": "Python 3",
   "language": "python",
   "name": "python3"
  },
  "language_info": {
   "codemirror_mode": {
    "name": "ipython",
    "version": 2
   },
   "file_extension": ".py",
   "mimetype": "text/x-python",
   "name": "python",
   "nbconvert_exporter": "python",
   "pygments_lexer": "ipython2",
   "version": "2.7.6"
  }
 },
 "nbformat": 4,
 "nbformat_minor": 5
}
