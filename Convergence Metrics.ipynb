{
 "cells": [
  {
   "metadata": {
    "ExecuteTime": {
     "end_time": "2025-06-09T09:46:55.335161Z",
     "start_time": "2025-06-09T09:46:49.788177Z"
    }
   },
   "cell_type": "code",
   "source": [
    "import numpy as np\n",
    "import scipy as sp\n",
    "import pandas as pd\n",
    "import matplotlib.pyplot as plt\n",
    "import seaborn as sns\n",
    "import networkx as nx\n",
    "from SALib.analyze import sobol\n",
    "import warnings\n",
    "from ema_workbench.analysis import feature_scoring\n",
    "from ema_workbench.em_framework.salib_samplers import get_SALib_problem\n",
    "import ema_workbench.em_framework.optimization\n",
    "from ema_workbench.em_framework.optimization import to_problem, epsilon_nondominated, EpsilonProgress, ArchiveLogger\n",
    "from ema_workbench import (\n",
    "    Model,\n",
    "    Policy,\n",
    "    ema_logging,\n",
    "    SequentialEvaluator,\n",
    "    MultiprocessingEvaluator,\n",
    "    perform_experiments,\n",
    "    Samplers,\n",
    ")\n",
    "\n",
    "\n",
    "from dike_model_function import DikeNetwork\n",
    "from problem_formulation import get_model_for_problem_formulation, sum_over, sum_over_time\n",
    "from ema_workbench.analysis import prim\n",
    "from ema_workbench.em_framework.parameters import Constant\n",
    "import pickle\n",
    "warnings.filterwarnings(\"ignore\")\n",
    "ema_logging.log_to_stderr(ema_logging.INFO)\n"
   ],
   "id": "2fd0693fe913fb07",
   "outputs": [
    {
     "data": {
      "text/plain": [
       "<Logger EMA (DEBUG)>"
      ]
     },
     "execution_count": 1,
     "metadata": {},
     "output_type": "execute_result"
    }
   ],
   "execution_count": 1
  },
  {
   "metadata": {},
   "cell_type": "markdown",
   "source": "## Delft Blue Incoming Files",
   "id": "d10bbd4abb05c6a"
  },
  {
   "metadata": {
    "ExecuteTime": {
     "end_time": "2025-06-09T09:46:56.138342Z",
     "start_time": "2025-06-09T09:46:55.529863Z"
    }
   },
   "cell_type": "code",
   "source": [
    "# Model\n",
    "dike_model, planning_steps = get_model_for_problem_formulation(2)"
   ],
   "id": "75ef3466a44c593c",
   "outputs": [],
   "execution_count": 2
  },
  {
   "metadata": {
    "ExecuteTime": {
     "end_time": "2025-06-09T09:46:56.149611Z",
     "start_time": "2025-06-09T09:46:56.146167Z"
    }
   },
   "cell_type": "code",
   "source": "",
   "id": "591c9d79dbb36cd4",
   "outputs": [],
   "execution_count": null
  },
  {
   "metadata": {
    "ExecuteTime": {
     "end_time": "2025-06-09T09:46:56.208451Z",
     "start_time": "2025-06-09T09:46:56.169469Z"
    }
   },
   "cell_type": "code",
   "source": [
    "# Load results from DB\n",
    "scenario_results = []\n",
    "seeds = [27097, 567] # 45646, 90, 676465]  # seeds used un DB - to change later\n",
    "for seed in seeds:\n",
    "    df = pd.read_csv(f\"output/results_seed_{seed}.csv\")  # Use '/'\n",
    "    scenario_results.append(df)\n",
    "    l = df.columns.tolist()\n",
    "len(l)"
   ],
   "id": "19d79e049fff5f0b",
   "outputs": [
    {
     "data": {
      "text/plain": [
       "37"
      ]
     },
     "execution_count": 3,
     "metadata": {},
     "output_type": "execute_result"
    }
   ],
   "execution_count": 3
  },
  {
   "metadata": {
    "ExecuteTime": {
     "end_time": "2025-06-09T09:46:56.283344Z",
     "start_time": "2025-06-09T09:46:56.248531Z"
    }
   },
   "cell_type": "code",
   "source": [
    "# Load archive\n",
    "archive_results = []\n",
    "seeds = [27097, 567] # 45646, 90, 676465]  # seeds used un DB - to change later\n",
    "for seed in seeds:\n",
    "   archives = ArchiveLogger.load_archives(f\"output/seed_{seed}_archive.tar.gz\")  # Use '/'\n",
    "   #for key in archives.keys():\n",
    "   archive_results.append(archives)"
   ],
   "id": "4ff9c8421e9c8009",
   "outputs": [],
   "execution_count": 4
  },
  {
   "metadata": {
    "ExecuteTime": {
     "end_time": "2025-06-09T09:46:56.334058Z",
     "start_time": "2025-06-09T09:46:56.326431Z"
    }
   },
   "cell_type": "code",
   "source": [
    "pol = []\n",
    "for policy in dike_model.levers:\n",
    "    pol.append(policy)\n",
    "\n",
    "for outcome in dike_model.outcomes:\n",
    "    pol.append(outcome)\n",
    "\n",
    "len(pol)\n",
    "dike_model_problem =dike_model\n",
    "dike_model_problem.outcomes"
   ],
   "id": "9c6e42e2a6f05b31",
   "outputs": [
    {
     "data": {
      "text/plain": [
       "<ema_workbench.em_framework.util.NamedObjectMap at 0x13cc94c50>"
      ]
     },
     "execution_count": 5,
     "metadata": {},
     "output_type": "execute_result"
    }
   ],
   "execution_count": 5
  },
  {
   "metadata": {},
   "cell_type": "markdown",
   "source": "## Merge Seeds",
   "id": "49e737238ed75d7f"
  },
  {
   "metadata": {
    "ExecuteTime": {
     "end_time": "2025-06-09T09:46:56.388171Z",
     "start_time": "2025-06-09T09:46:56.380752Z"
    }
   },
   "cell_type": "code",
   "source": [
    "for archive in archive_results:\n",
    "    for key, df in archive.items():\n",
    "        for col in dike_model.levers:\n",
    "            if col.name not in df.columns:\n",
    "                df[col.name] = 0"
   ],
   "id": "2585951ee185fba",
   "outputs": [],
   "execution_count": 6
  },
  {
   "metadata": {
    "ExecuteTime": {
     "end_time": "2025-06-09T09:46:56.495611Z",
     "start_time": "2025-06-09T09:46:56.490183Z"
    }
   },
   "cell_type": "code",
   "source": [
    "#Make sure that the results contain all policies (rest is set to 0)\n",
    "for df in scenario_results:\n",
    "    for col in dike_model.levers:\n",
    "        if col.name not in df.columns:\n",
    "            df[col.name] = 0"
   ],
   "id": "2894263eb927d428",
   "outputs": [],
   "execution_count": 7
  },
  {
   "metadata": {
    "ExecuteTime": {
     "end_time": "2025-06-09T09:46:56.571143Z",
     "start_time": "2025-06-09T09:46:56.563252Z"
    }
   },
   "cell_type": "code",
   "source": [
    "#Rename problem levers and outcomes to compatible name format\n",
    "\n",
    "for lever in dike_model_problem.levers:\n",
    "    lever.name = 'L_' + lever.name.replace(\" \", \"_\").replace(\".\", \"_\")\n",
    "\n",
    "for outcome in dike_model_problem.outcomes:\n",
    "    outcome.name = 'L_' + outcome.name.replace(\" \", \"_\").replace(\".\", \"_\")"
   ],
   "id": "c2c2918865b38125",
   "outputs": [],
   "execution_count": 8
  },
  {
   "metadata": {
    "ExecuteTime": {
     "end_time": "2025-06-09T09:46:56.637777Z",
     "start_time": "2025-06-09T09:46:56.632284Z"
    }
   },
   "cell_type": "code",
   "source": [
    "#Defining the problem\n",
    "problem = to_problem(dike_model_problem, searchover=\"levers\")"
   ],
   "id": "351ba0a8d7bf817c",
   "outputs": [],
   "execution_count": 9
  },
  {
   "metadata": {
    "ExecuteTime": {
     "end_time": "2025-06-09T09:46:56.686166Z",
     "start_time": "2025-06-09T09:46:56.679287Z"
    }
   },
   "cell_type": "code",
   "source": [
    "#Rename the scenario levers and outcomes\n",
    "\n",
    "def clean_names(name_list):\n",
    "    return ['L_' + name.replace(\" \", \"_\").replace(\".\", \"_\") for name in name_list]\n",
    "\n",
    "# Clean column names in the scenario results\n",
    "for i in range(len(scenario_results)):\n",
    "    scenario_results[i].columns = clean_names(scenario_results[i].columns)"
   ],
   "id": "c3a20bcbec164c72",
   "outputs": [],
   "execution_count": 10
  },
  {
   "metadata": {},
   "cell_type": "markdown",
   "source": "",
   "id": "e9e8118f48948ec0"
  },
  {
   "metadata": {
    "ExecuteTime": {
     "end_time": "2025-06-09T09:46:56.725456Z",
     "start_time": "2025-06-09T09:46:56.698692Z"
    }
   },
   "cell_type": "code",
   "source": [
    "#Merge the results from the different seeds for each of the two scenarios\n",
    "epsilons = [0.05] * len(dike_model.outcomes)\n",
    "\n",
    "#Merge the list of results into a single set of non dominated results using the provided epsilon values\n",
    "merged_results = epsilon_nondominated(scenario_results,epsilons,problem)"
   ],
   "id": "6c1034b86c77f9f3",
   "outputs": [],
   "execution_count": 11
  },
  {
   "metadata": {},
   "cell_type": "code",
   "outputs": [],
   "execution_count": null,
   "source": "",
   "id": "3dc3bc97e06c6e0b"
  }
 ],
 "metadata": {
  "kernelspec": {
   "display_name": "Python 3",
   "language": "python",
   "name": "python3"
  },
  "language_info": {
   "codemirror_mode": {
    "name": "ipython",
    "version": 2
   },
   "file_extension": ".py",
   "mimetype": "text/x-python",
   "name": "python",
   "nbconvert_exporter": "python",
   "pygments_lexer": "ipython2",
   "version": "2.7.6"
  }
 },
 "nbformat": 4,
 "nbformat_minor": 5
}
