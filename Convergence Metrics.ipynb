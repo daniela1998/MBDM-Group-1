{
 "cells": [
  {
   "metadata": {
    "ExecuteTime": {
     "end_time": "2025-06-08T17:39:40.703763Z",
     "start_time": "2025-06-08T17:39:40.692801Z"
    }
   },
   "cell_type": "code",
   "source": [
    "import numpy as np\n",
    "import scipy as sp\n",
    "import pandas as pd\n",
    "import matplotlib.pyplot as plt\n",
    "import seaborn as sns\n",
    "import networkx as nx\n",
    "from SALib.analyze import sobol\n",
    "import warnings\n",
    "from ema_workbench.analysis import feature_scoring\n",
    "from ema_workbench.em_framework.salib_samplers import get_SALib_problem\n",
    "import ema_workbench.em_framework.optimization\n",
    "from ema_workbench.em_framework.optimization import to_problem, epsilon_nondominated, EpsilonProgress, ArchiveLogger\n",
    "from ema_workbench import (\n",
    "    Model,\n",
    "    Policy,\n",
    "    ema_logging,\n",
    "    SequentialEvaluator,\n",
    "    MultiprocessingEvaluator,\n",
    "    perform_experiments,\n",
    "    Samplers,\n",
    ")\n",
    "\n",
    "\n",
    "from dike_model_function import DikeNetwork\n",
    "from problem_formulation import get_model_for_problem_formulation, sum_over, sum_over_time\n",
    "from ema_workbench.analysis import prim\n",
    "from ema_workbench.em_framework.parameters import Constant\n",
    "import pickle\n",
    "warnings.filterwarnings(\"ignore\")\n",
    "ema_logging.log_to_stderr(ema_logging.INFO)\n"
   ],
   "id": "2fd0693fe913fb07",
   "outputs": [
    {
     "data": {
      "text/plain": [
       "<Logger EMA (DEBUG)>"
      ]
     },
     "execution_count": 11,
     "metadata": {},
     "output_type": "execute_result"
    }
   ],
   "execution_count": 11
  },
  {
   "metadata": {},
   "cell_type": "markdown",
   "source": "## Delft Blue Incoming Files",
   "id": "d10bbd4abb05c6a"
  },
  {
   "metadata": {
    "ExecuteTime": {
     "end_time": "2025-06-08T17:35:46.627668Z",
     "start_time": "2025-06-08T17:35:45.960634Z"
    }
   },
   "cell_type": "code",
   "source": [
    "# Model\n",
    "dike_model, planning_steps = get_model_for_problem_formulation(2)"
   ],
   "id": "75ef3466a44c593c",
   "outputs": [],
   "execution_count": 2
  },
  {
   "metadata": {
    "ExecuteTime": {
     "end_time": "2025-06-08T17:35:46.813088Z",
     "start_time": "2025-06-08T17:35:46.806819Z"
    }
   },
   "cell_type": "code",
   "source": "",
   "id": "591c9d79dbb36cd4",
   "outputs": [],
   "execution_count": null
  },
  {
   "metadata": {
    "ExecuteTime": {
     "end_time": "2025-06-08T17:35:46.846227Z",
     "start_time": "2025-06-08T17:35:46.831920Z"
    }
   },
   "cell_type": "code",
   "source": [
    "# Load results from DB\n",
    "scenario_results = []\n",
    "seeds = [27097, 567] # 45646, 90, 676465]  # seeds used un DB - to change later\n",
    "for seed in seeds:\n",
    "    df = pd.read_csv(f\"output/results_seed_{seed}.csv\")  # Use '/'\n",
    "    scenario_results.append(df)\n",
    "    l = df.columns.tolist()\n",
    "len(l)"
   ],
   "id": "19d79e049fff5f0b",
   "outputs": [
    {
     "data": {
      "text/plain": [
       "37"
      ]
     },
     "execution_count": 3,
     "metadata": {},
     "output_type": "execute_result"
    }
   ],
   "execution_count": 3
  },
  {
   "metadata": {
    "ExecuteTime": {
     "end_time": "2025-06-08T17:35:53.548901Z",
     "start_time": "2025-06-08T17:35:53.525462Z"
    }
   },
   "cell_type": "code",
   "source": [
    "# Load archive\n",
    "archive_results = []\n",
    "seeds = [27097, 567] # 45646, 90, 676465]  # seeds used un DB - to change later\n",
    "for seed in seeds:\n",
    "   archives = ArchiveLogger.load_archives(f\"output/seed_{seed}_archive.tar.gz\")  # Use '/'\n",
    "   #for key in archives.keys():\n",
    "   archive_results.append(archives)"
   ],
   "id": "4ff9c8421e9c8009",
   "outputs": [],
   "execution_count": 4
  },
  {
   "metadata": {
    "ExecuteTime": {
     "end_time": "2025-06-08T17:35:55.554297Z",
     "start_time": "2025-06-08T17:35:55.543647Z"
    }
   },
   "cell_type": "code",
   "source": [
    "pol = []\n",
    "for policy in dike_model.levers:\n",
    "    pol.append(policy)\n",
    "\n",
    "for outcome in dike_model.outcomes:\n",
    "    pol.append(outcome)\n",
    "\n",
    "len(pol)\n",
    "dike_model_problem =dike_model\n",
    "dike_model_problem.outcomes"
   ],
   "id": "9c6e42e2a6f05b31",
   "outputs": [
    {
     "data": {
      "text/plain": [
       "<ema_workbench.em_framework.util.NamedObjectMap at 0x2090ff085f0>"
      ]
     },
     "execution_count": 5,
     "metadata": {},
     "output_type": "execute_result"
    }
   ],
   "execution_count": 5
  },
  {
   "metadata": {},
   "cell_type": "markdown",
   "source": "## Merge Seeds",
   "id": "49e737238ed75d7f"
  },
  {
   "metadata": {
    "ExecuteTime": {
     "end_time": "2025-06-08T17:36:01.493055Z",
     "start_time": "2025-06-08T17:36:01.484699Z"
    }
   },
   "cell_type": "code",
   "source": [
    "for archive in archive_results:\n",
    "    for key, df in archive.items():\n",
    "        for col in dike_model.levers:\n",
    "            if col.name not in df.columns:\n",
    "                df[col.name] = 0"
   ],
   "id": "2585951ee185fba",
   "outputs": [],
   "execution_count": 6
  },
  {
   "metadata": {
    "ExecuteTime": {
     "end_time": "2025-06-08T17:36:06.633144Z",
     "start_time": "2025-06-08T17:36:06.624195Z"
    }
   },
   "cell_type": "code",
   "source": [
    "#Make sure that the results contain all policies (rest is set to 0)\n",
    "for df in scenario_results:\n",
    "    for col in dike_model.levers:\n",
    "        if col.name not in df.columns:\n",
    "            df[col.name] = 0"
   ],
   "id": "2894263eb927d428",
   "outputs": [],
   "execution_count": 7
  },
  {
   "metadata": {
    "ExecuteTime": {
     "end_time": "2025-06-08T17:36:08.488271Z",
     "start_time": "2025-06-08T17:36:08.479983Z"
    }
   },
   "cell_type": "code",
   "source": [
    "#Defining the problem\n",
    "problem = to_problem(dike_model_problem, searchover=\"levers\")"
   ],
   "id": "351ba0a8d7bf817c",
   "outputs": [],
   "execution_count": 8
  },
  {
   "metadata": {},
   "cell_type": "markdown",
   "source": "",
   "id": "e9e8118f48948ec0"
  },
  {
   "metadata": {
    "ExecuteTime": {
     "end_time": "2025-06-08T17:40:28.668021Z",
     "start_time": "2025-06-08T17:40:28.608946Z"
    }
   },
   "cell_type": "code",
   "source": [
    "#Merge the results from the different seeds for each of the two scenarios\n",
    "epsilons = [0.05] * len(dike_model.outcomes)\n",
    "\n",
    "#Merge the list of results into a single set of non dominated results using the provided epsilon values\n",
    "merged_results = epsilon_nondominated(scenario_results,epsilons,problem)"
   ],
   "id": "6c1034b86c77f9f3",
   "outputs": [
    {
     "ename": "EMAError",
     "evalue": "Parameter names ['0_RfR 0', '0_RfR 1', '0_RfR 2', '1_RfR 0', '1_RfR 1', '1_RfR 2', '2_RfR 0', '2_RfR 1', '2_RfR 2', '3_RfR 0', '3_RfR 1', '3_RfR 2', '4_RfR 0', '4_RfR 1', '4_RfR 2', 'A.1_DikeIncrease 0', 'A.1_DikeIncrease 1', 'A.1_DikeIncrease 2', 'A.2_DikeIncrease 0', 'A.2_DikeIncrease 1', 'A.2_DikeIncrease 2', 'A.3_DikeIncrease 0', 'A.3_DikeIncrease 1', 'A.3_DikeIncrease 2', 'A.4_DikeIncrease 0', 'A.4_DikeIncrease 1', 'A.4_DikeIncrease 2', 'A.5_DikeIncrease 0', 'A.5_DikeIncrease 1', 'A.5_DikeIncrease 2'] not found in archive",
     "output_type": "error",
     "traceback": [
      "\u001B[1;31m---------------------------------------------------------------------------\u001B[0m",
      "\u001B[1;31mAttributeError\u001B[0m                            Traceback (most recent call last)",
      "File \u001B[1;32m~\\AppData\\Local\\Packages\\PythonSoftwareFoundation.Python.3.12_qbz5n2kfra8p0\\LocalCache\\local-packages\\Python312\\site-packages\\ema_workbench\\em_framework\\optimization.py:895\u001B[0m, in \u001B[0;36mrebuild_platypus_population\u001B[1;34m(archive, problem)\u001B[0m\n\u001B[0;32m    894\u001B[0m \u001B[38;5;28;01mtry\u001B[39;00m:\n\u001B[1;32m--> 895\u001B[0m     decision_variables \u001B[38;5;241m=\u001B[39m [\u001B[38;5;28;43mgetattr\u001B[39;49m\u001B[43m(\u001B[49m\u001B[43mrow\u001B[49m\u001B[43m,\u001B[49m\u001B[43m \u001B[49m\u001B[43mattr\u001B[49m\u001B[43m)\u001B[49m \u001B[38;5;28;01mfor\u001B[39;00m attr \u001B[38;5;129;01min\u001B[39;00m problem\u001B[38;5;241m.\u001B[39mparameter_names]\n\u001B[0;32m    896\u001B[0m \u001B[38;5;28;01mexcept\u001B[39;00m \u001B[38;5;167;01mAttributeError\u001B[39;00m:\n",
      "\u001B[1;31mAttributeError\u001B[0m: 'Pandas' object has no attribute '0_RfR 0'",
      "\nDuring handling of the above exception, another exception occurred:\n",
      "\u001B[1;31mEMAError\u001B[0m                                  Traceback (most recent call last)",
      "Cell \u001B[1;32mIn[14], line 5\u001B[0m\n\u001B[0;32m      2\u001B[0m epsilons \u001B[38;5;241m=\u001B[39m [\u001B[38;5;241m0.05\u001B[39m] \u001B[38;5;241m*\u001B[39m \u001B[38;5;28mlen\u001B[39m(dike_model\u001B[38;5;241m.\u001B[39moutcomes)\n\u001B[0;32m      4\u001B[0m \u001B[38;5;66;03m#Merge the list of results into a single set of non dominated results using the provided epsilon values\u001B[39;00m\n\u001B[1;32m----> 5\u001B[0m merged_results \u001B[38;5;241m=\u001B[39m \u001B[43mepsilon_nondominated\u001B[49m\u001B[43m(\u001B[49m\u001B[43mscenario_results\u001B[49m\u001B[43m,\u001B[49m\u001B[43mepsilons\u001B[49m\u001B[43m,\u001B[49m\u001B[43mproblem\u001B[49m\u001B[43m)\u001B[49m\n",
      "File \u001B[1;32m~\\AppData\\Local\\Packages\\PythonSoftwareFoundation.Python.3.12_qbz5n2kfra8p0\\LocalCache\\local-packages\\Python312\\site-packages\\ema_workbench\\em_framework\\optimization.py:787\u001B[0m, in \u001B[0;36mepsilon_nondominated\u001B[1;34m(results, epsilons, problem)\u001B[0m\n\u001B[0;32m    782\u001B[0m     \u001B[38;5;167;01mValueError\u001B[39;00m(\n\u001B[0;32m    783\u001B[0m         \u001B[38;5;124mf\u001B[39m\u001B[38;5;124m\"\u001B[39m\u001B[38;5;124mThe number of epsilon values (\u001B[39m\u001B[38;5;132;01m{\u001B[39;00m\u001B[38;5;28mlen\u001B[39m(epsilons)\u001B[38;5;132;01m}\u001B[39;00m\u001B[38;5;124m) must match the number of objectives \u001B[39m\u001B[38;5;132;01m{\u001B[39;00mproblem\u001B[38;5;241m.\u001B[39mnobjs\u001B[38;5;132;01m}\u001B[39;00m\u001B[38;5;124m\"\u001B[39m\n\u001B[0;32m    784\u001B[0m     )\n\u001B[0;32m    786\u001B[0m results \u001B[38;5;241m=\u001B[39m pd\u001B[38;5;241m.\u001B[39mconcat(results, ignore_index\u001B[38;5;241m=\u001B[39m\u001B[38;5;28;01mTrue\u001B[39;00m)\n\u001B[1;32m--> 787\u001B[0m solutions \u001B[38;5;241m=\u001B[39m \u001B[43mrebuild_platypus_population\u001B[49m\u001B[43m(\u001B[49m\u001B[43mresults\u001B[49m\u001B[43m,\u001B[49m\u001B[43m \u001B[49m\u001B[43mproblem\u001B[49m\u001B[43m)\u001B[49m\n\u001B[0;32m    788\u001B[0m archive \u001B[38;5;241m=\u001B[39m EpsilonBoxArchive(epsilons)\n\u001B[0;32m    789\u001B[0m archive \u001B[38;5;241m+\u001B[39m\u001B[38;5;241m=\u001B[39m solutions\n",
      "File \u001B[1;32m~\\AppData\\Local\\Packages\\PythonSoftwareFoundation.Python.3.12_qbz5n2kfra8p0\\LocalCache\\local-packages\\Python312\\site-packages\\ema_workbench\\em_framework\\optimization.py:900\u001B[0m, in \u001B[0;36mrebuild_platypus_population\u001B[1;34m(archive, problem)\u001B[0m\n\u001B[0;32m    896\u001B[0m \u001B[38;5;28;01mexcept\u001B[39;00m \u001B[38;5;167;01mAttributeError\u001B[39;00m:\n\u001B[0;32m    897\u001B[0m     missing_parameters \u001B[38;5;241m=\u001B[39m [\n\u001B[0;32m    898\u001B[0m         attr \u001B[38;5;28;01mfor\u001B[39;00m attr \u001B[38;5;129;01min\u001B[39;00m problem\u001B[38;5;241m.\u001B[39mparameter_names \u001B[38;5;28;01mif\u001B[39;00m \u001B[38;5;129;01mnot\u001B[39;00m \u001B[38;5;28mhasattr\u001B[39m(row, attr)\n\u001B[0;32m    899\u001B[0m     ]\n\u001B[1;32m--> 900\u001B[0m     \u001B[38;5;28;01mraise\u001B[39;00m EMAError(\u001B[38;5;124mf\u001B[39m\u001B[38;5;124m\"\u001B[39m\u001B[38;5;124mParameter names \u001B[39m\u001B[38;5;132;01m{\u001B[39;00mmissing_parameters\u001B[38;5;132;01m}\u001B[39;00m\u001B[38;5;124m not found in archive\u001B[39m\u001B[38;5;124m\"\u001B[39m)\n\u001B[0;32m    902\u001B[0m \u001B[38;5;28;01mtry\u001B[39;00m:\n\u001B[0;32m    903\u001B[0m     objectives \u001B[38;5;241m=\u001B[39m [\u001B[38;5;28mgetattr\u001B[39m(row, attr) \u001B[38;5;28;01mfor\u001B[39;00m attr \u001B[38;5;129;01min\u001B[39;00m problem\u001B[38;5;241m.\u001B[39moutcome_names]\n",
      "\u001B[1;31mEMAError\u001B[0m: Parameter names ['0_RfR 0', '0_RfR 1', '0_RfR 2', '1_RfR 0', '1_RfR 1', '1_RfR 2', '2_RfR 0', '2_RfR 1', '2_RfR 2', '3_RfR 0', '3_RfR 1', '3_RfR 2', '4_RfR 0', '4_RfR 1', '4_RfR 2', 'A.1_DikeIncrease 0', 'A.1_DikeIncrease 1', 'A.1_DikeIncrease 2', 'A.2_DikeIncrease 0', 'A.2_DikeIncrease 1', 'A.2_DikeIncrease 2', 'A.3_DikeIncrease 0', 'A.3_DikeIncrease 1', 'A.3_DikeIncrease 2', 'A.4_DikeIncrease 0', 'A.4_DikeIncrease 1', 'A.4_DikeIncrease 2', 'A.5_DikeIncrease 0', 'A.5_DikeIncrease 1', 'A.5_DikeIncrease 2'] not found in archive"
     ]
    }
   ],
   "execution_count": 14
  },
  {
   "metadata": {},
   "cell_type": "code",
   "outputs": [],
   "execution_count": null,
   "source": "",
   "id": "d9e83cb5e12c7892"
  },
  {
   "metadata": {},
   "cell_type": "code",
   "outputs": [],
   "execution_count": null,
   "source": "",
   "id": "9a04ba0ed0552d5"
  }
 ],
 "metadata": {
  "kernelspec": {
   "display_name": "Python 3",
   "language": "python",
   "name": "python3"
  },
  "language_info": {
   "codemirror_mode": {
    "name": "ipython",
    "version": 2
   },
   "file_extension": ".py",
   "mimetype": "text/x-python",
   "name": "python",
   "nbconvert_exporter": "python",
   "pygments_lexer": "ipython2",
   "version": "2.7.6"
  }
 },
 "nbformat": 4,
 "nbformat_minor": 5
}
