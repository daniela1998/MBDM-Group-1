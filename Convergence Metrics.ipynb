{
 "cells": [
  {
   "metadata": {
    "ExecuteTime": {
     "end_time": "2025-06-09T16:27:43.432688Z",
     "start_time": "2025-06-09T16:27:35.322488Z"
    }
   },
   "cell_type": "code",
   "source": [
    "import numpy as np\n",
    "import scipy as sp\n",
    "import pandas as pd\n",
    "import matplotlib.pyplot as plt\n",
    "import seaborn as sns\n",
    "import networkx as nx\n",
    "from SALib.analyze import sobol\n",
    "import warnings\n",
    "from ema_workbench.analysis import feature_scoring\n",
    "from ema_workbench.em_framework.salib_samplers import get_SALib_problem\n",
    "import ema_workbench.em_framework.optimization\n",
    "from ema_workbench.em_framework.optimization import to_problem, epsilon_nondominated, EpsilonProgress, ArchiveLogger, GenerationalDistanceMetric,  EpsilonIndicatorMetric, InvertedGenerationalDistanceMetric, SpacingMetric\n",
    "from ema_workbench import (\n",
    "    Model,\n",
    "    Policy,\n",
    "    ema_logging,\n",
    "    SequentialEvaluator,\n",
    "    MultiprocessingEvaluator,\n",
    "    perform_experiments,\n",
    "    Samplers,\n",
    ")\n",
    "\n",
    "\n",
    "from dike_model_function import DikeNetwork\n",
    "from problem_formulation import get_model_for_problem_formulation, sum_over, sum_over_time\n",
    "from ema_workbench.analysis import prim\n",
    "from ema_workbench.em_framework.parameters import Constant\n",
    "import pickle\n",
    "warnings.filterwarnings(\"ignore\")\n",
    "ema_logging.log_to_stderr(ema_logging.INFO)\n"
   ],
   "id": "2fd0693fe913fb07",
   "outputs": [
    {
     "data": {
      "text/plain": [
       "<Logger EMA (DEBUG)>"
      ]
     },
     "execution_count": 1,
     "metadata": {},
     "output_type": "execute_result"
    }
   ],
   "execution_count": 1
  },
  {
   "metadata": {},
   "cell_type": "markdown",
   "source": "## Delft Blue Incoming Files",
   "id": "d10bbd4abb05c6a"
  },
  {
   "metadata": {
    "ExecuteTime": {
     "end_time": "2025-06-09T16:27:44.563702Z",
     "start_time": "2025-06-09T16:27:43.599809Z"
    }
   },
   "cell_type": "code",
   "source": [
    "# Model\n",
    "dike_model, planning_steps = get_model_for_problem_formulation(2)"
   ],
   "id": "75ef3466a44c593c",
   "outputs": [],
   "execution_count": 2
  },
  {
   "metadata": {
    "ExecuteTime": {
     "end_time": "2025-06-09T16:27:44.614212Z",
     "start_time": "2025-06-09T16:27:44.570448Z"
    }
   },
   "cell_type": "code",
   "source": [
    "# Load results from DB\n",
    "scenario_results = []\n",
    "scenario_convergence = []\n",
    "seeds = [27097, 567] # 45646, 90, 676465]  # seeds used un DB - to change later\n",
    "for seed in seeds:\n",
    "    df = pd.read_csv(f\"output/results_seed_{seed}.csv\")\n",
    "    df_c = pd.read_csv(f\"output/convergence_seed_{seed}.csv\")\n",
    "    scenario_results.append(df)\n",
    "    scenario_convergence.append(df_c)\n",
    "    l = df.columns.tolist()"
   ],
   "id": "19d79e049fff5f0b",
   "outputs": [],
   "execution_count": 3
  },
  {
   "metadata": {
    "ExecuteTime": {
     "end_time": "2025-06-09T16:27:44.693332Z",
     "start_time": "2025-06-09T16:27:44.655877Z"
    }
   },
   "cell_type": "code",
   "source": [
    "# Load archive\n",
    "archive_results = []\n",
    "seeds = [27097, 567] # 45646, 90, 676465]  # seeds used un DB - to change later\n",
    "for seed in seeds:\n",
    "   archives = ArchiveLogger.load_archives(f\"output/seed_{seed}_archive.tar.gz\")  # Use '/'\n",
    "   #for key in archives.keys():\n",
    "   archive_results.append(archives)"
   ],
   "id": "4ff9c8421e9c8009",
   "outputs": [],
   "execution_count": 4
  },
  {
   "metadata": {
    "ExecuteTime": {
     "end_time": "2025-06-09T16:27:44.806925Z",
     "start_time": "2025-06-09T16:27:44.797499Z"
    }
   },
   "cell_type": "code",
   "source": [
    "pol = []\n",
    "for policy in dike_model.levers:\n",
    "    pol.append(policy)\n",
    "\n",
    "for outcome in dike_model.outcomes:\n",
    "    pol.append(outcome)\n",
    "\n",
    "len(pol)\n",
    "dike_model_problem =dike_model\n",
    "dike_model_problem.outcomes"
   ],
   "id": "9c6e42e2a6f05b31",
   "outputs": [
    {
     "data": {
      "text/plain": [
       "<ema_workbench.em_framework.util.NamedObjectMap at 0x1410007d0>"
      ]
     },
     "execution_count": 5,
     "metadata": {},
     "output_type": "execute_result"
    }
   ],
   "execution_count": 5
  },
  {
   "metadata": {},
   "cell_type": "markdown",
   "source": "## Merge Seeds",
   "id": "49e737238ed75d7f"
  },
  {
   "metadata": {
    "ExecuteTime": {
     "end_time": "2025-06-09T16:27:44.833574Z",
     "start_time": "2025-06-09T16:27:44.827532Z"
    }
   },
   "cell_type": "code",
   "source": [
    "for archive in archive_results:\n",
    "    for key, df in archive.items():\n",
    "        for col in dike_model.levers:\n",
    "            if col.name not in df.columns:\n",
    "                df[col.name] = 0"
   ],
   "id": "2585951ee185fba",
   "outputs": [],
   "execution_count": 6
  },
  {
   "metadata": {
    "ExecuteTime": {
     "end_time": "2025-06-09T16:27:44.888520Z",
     "start_time": "2025-06-09T16:27:44.881980Z"
    }
   },
   "cell_type": "code",
   "source": [
    "#Make sure that the results contain all policies (rest is set to 0)\n",
    "for df in scenario_results:\n",
    "    for col in dike_model.levers:\n",
    "        if col.name not in df.columns:\n",
    "            df[col.name] = 0"
   ],
   "id": "2894263eb927d428",
   "outputs": [],
   "execution_count": 7
  },
  {
   "metadata": {
    "ExecuteTime": {
     "end_time": "2025-06-09T16:27:44.940244Z",
     "start_time": "2025-06-09T16:27:44.932623Z"
    }
   },
   "cell_type": "code",
   "source": [
    "#Rename problem levers and outcomes to compatible name format\n",
    "\n",
    "for lever in dike_model_problem.levers:\n",
    "    lever.name = 'L_' + lever.name.replace(\" \", \"_\").replace(\".\", \"_\")\n",
    "\n",
    "for outcome in dike_model_problem.outcomes:\n",
    "    outcome.name = 'L_' + outcome.name.replace(\" \", \"_\").replace(\".\", \"_\")"
   ],
   "id": "c2c2918865b38125",
   "outputs": [],
   "execution_count": 8
  },
  {
   "metadata": {
    "ExecuteTime": {
     "end_time": "2025-06-09T16:27:45.045953Z",
     "start_time": "2025-06-09T16:27:45.040852Z"
    }
   },
   "cell_type": "code",
   "source": [
    "#Defining the problem\n",
    "problem = to_problem(dike_model_problem, searchover=\"levers\")"
   ],
   "id": "351ba0a8d7bf817c",
   "outputs": [],
   "execution_count": 9
  },
  {
   "metadata": {
    "ExecuteTime": {
     "end_time": "2025-06-09T16:27:45.058867Z",
     "start_time": "2025-06-09T16:27:45.053964Z"
    }
   },
   "cell_type": "code",
   "source": [
    "#Rename the scenario levers and outcomes\n",
    "\n",
    "def clean_names(name_list):\n",
    "    return ['L_' + name.replace(\" \", \"_\").replace(\".\", \"_\") for name in name_list]\n",
    "\n",
    "# Clean column names in the scenario results\n",
    "for i in range(len(scenario_results)):\n",
    "    scenario_results[i].columns = clean_names(scenario_results[i].columns)"
   ],
   "id": "c3a20bcbec164c72",
   "outputs": [],
   "execution_count": 10
  },
  {
   "metadata": {},
   "cell_type": "markdown",
   "source": "",
   "id": "e9e8118f48948ec0"
  },
  {
   "metadata": {
    "ExecuteTime": {
     "end_time": "2025-06-09T16:27:45.135763Z",
     "start_time": "2025-06-09T16:27:45.102482Z"
    }
   },
   "cell_type": "code",
   "source": [
    "#Merge the results from the different seeds for each of the two scenarios\n",
    "epsilons = [0.05] * len(dike_model.outcomes)\n",
    "\n",
    "#Merge the list of results into a single set of non dominated results using the provided epsilon values\n",
    "merged_results = epsilon_nondominated(scenario_results,epsilons,problem)"
   ],
   "id": "6c1034b86c77f9f3",
   "outputs": [],
   "execution_count": 11
  },
  {
   "metadata": {},
   "cell_type": "markdown",
   "source": "## Convergence Metrics",
   "id": "2ebcb967f511bc2a"
  },
  {
   "metadata": {
    "ExecuteTime": {
     "end_time": "2025-06-09T16:27:45.270854Z",
     "start_time": "2025-06-09T16:27:45.215230Z"
    }
   },
   "cell_type": "code",
   "source": [
    "gen_dis = GenerationalDistanceMetric(merged_results, problem, d=1)\n",
    "e_ind = EpsilonIndicatorMetric(merged_results, problem)\n",
    "i_gen = InvertedGenerationalDistanceMetric(merged_results, problem, d=1)\n",
    "s_met = SpacingMetric(problem)"
   ],
   "id": "3dc3bc97e06c6e0b",
   "outputs": [],
   "execution_count": 12
  },
  {
   "metadata": {
    "ExecuteTime": {
     "end_time": "2025-06-09T16:27:45.452718Z",
     "start_time": "2025-06-09T16:27:45.358590Z"
    }
   },
   "cell_type": "code",
   "source": [
    "metrics_by_seed = []\n",
    "for archives in archive_results:\n",
    "    metrics = []\n",
    "    for nfe, archive in archives.items():\n",
    "        archive.columns=clean_names(archive.columns)\n",
    "        if int(nfe) == 0:\n",
    "            continue\n",
    "        scores = {\n",
    "            \"generational_distance\": gen_dis.calculate(archive),\n",
    "            \"epsilon_indicator\": e_ind.calculate(archive),\n",
    "            \"inverted_gd\": i_gen.calculate(archive),\n",
    "            \"spacing\": s_met.calculate(archive),\n",
    "            \"nfe\": int(nfe),\n",
    "        }\n",
    "        metrics.append(scores)\n",
    "    metrics = pd.DataFrame.from_dict(metrics)\n",
    "\n",
    "    # sort metrics by number of function evaluations\n",
    "    metrics.sort_values(by=\"nfe\", inplace=True)\n",
    "    metrics_by_seed.append(metrics)"
   ],
   "id": "5fd106914ce40d23",
   "outputs": [],
   "execution_count": 13
  },
  {
   "metadata": {},
   "cell_type": "markdown",
   "source": "## Plots",
   "id": "57b4e2c330d609e5"
  },
  {
   "metadata": {
    "ExecuteTime": {
     "end_time": "2025-06-09T16:27:47.510615Z",
     "start_time": "2025-06-09T16:27:45.530078Z"
    }
   },
   "cell_type": "code",
   "source": [
    "sns.set_style(\"white\")\n",
    "\n",
    "fig, axes = plt.subplots(nrows=5, figsize=(8, 12), sharex=True)\n",
    "\n",
    "ax2, ax3, ax4, ax5, ax6 = axes\n",
    "\n",
    "for metrics, convergence in zip(metrics_by_seed, scenario_0_convergences):\n",
    "\n",
    "    ax2.plot(convergence.nfe, convergence.epsilon_progress)\n",
    "    ax2.set_ylabel(\"$\\epsilon$ progress\")\n",
    "\n",
    "    ax3.plot(metrics.nfe, metrics.generational_distance)\n",
    "    ax3.set_ylabel(\"generational distance\")\n",
    "\n",
    "    ax4.plot(metrics.nfe, metrics.epsilon_indicator)\n",
    "    ax4.set_ylabel(\"epsilon indicator\")\n",
    "\n",
    "    ax5.plot(metrics.nfe, metrics.inverted_gd)\n",
    "    ax5.set_ylabel(\"inverted generational\\ndistance\")\n",
    "\n",
    "    ax6.plot(metrics.nfe, metrics.spacing)\n",
    "    ax6.set_ylabel(\"spacing\")\n",
    "\n",
    "ax6.set_xlabel(\"nfe\")\n",
    "\n",
    "sns.despine(fig)\n",
    "\n",
    "fig.suptitle('Convergence Metrics Scenario 0')\n",
    "\n",
    "\n",
    "\n",
    "plt.show()"
   ],
   "id": "7136b67969de5b23",
   "outputs": [
    {
     "ename": "NameError",
     "evalue": "name 'scenario_0_convergences' is not defined",
     "output_type": "error",
     "traceback": [
      "\u001B[0;31m---------------------------------------------------------------------------\u001B[0m",
      "\u001B[0;31mNameError\u001B[0m                                 Traceback (most recent call last)",
      "Cell \u001B[0;32mIn[14], line 7\u001B[0m\n\u001B[1;32m      3\u001B[0m fig, axes \u001B[38;5;241m=\u001B[39m plt\u001B[38;5;241m.\u001B[39msubplots(nrows\u001B[38;5;241m=\u001B[39m\u001B[38;5;241m5\u001B[39m, figsize\u001B[38;5;241m=\u001B[39m(\u001B[38;5;241m8\u001B[39m, \u001B[38;5;241m12\u001B[39m), sharex\u001B[38;5;241m=\u001B[39m\u001B[38;5;28;01mTrue\u001B[39;00m)\n\u001B[1;32m      5\u001B[0m ax2, ax3, ax4, ax5, ax6 \u001B[38;5;241m=\u001B[39m axes\n\u001B[0;32m----> 7\u001B[0m \u001B[38;5;28;01mfor\u001B[39;00m metrics, convergence \u001B[38;5;129;01min\u001B[39;00m \u001B[38;5;28mzip\u001B[39m(metrics_by_seed, scenario_0_convergences):\n\u001B[1;32m      9\u001B[0m     ax2\u001B[38;5;241m.\u001B[39mplot(convergence\u001B[38;5;241m.\u001B[39mnfe, convergence\u001B[38;5;241m.\u001B[39mepsilon_progress)\n\u001B[1;32m     10\u001B[0m     ax2\u001B[38;5;241m.\u001B[39mset_ylabel(\u001B[38;5;124m\"\u001B[39m\u001B[38;5;124m$\u001B[39m\u001B[38;5;124m\\\u001B[39m\u001B[38;5;124mepsilon$ progress\u001B[39m\u001B[38;5;124m\"\u001B[39m)\n",
      "\u001B[0;31mNameError\u001B[0m: name 'scenario_0_convergences' is not defined"
     ]
    },
    {
     "data": {
      "text/plain": [
       "<Figure size 800x1200 with 5 Axes>"
      ],
      "image/png": "[encoded data removed]"
     },
     "metadata": {},
     "output_type": "display_data"
    }
   ],
   "execution_count": 14
  }
 ],
 "metadata": {
  "kernelspec": {
   "display_name": "Python 3",
   "language": "python",
   "name": "python3"
  },
  "language_info": {
   "codemirror_mode": {
    "name": "ipython",
    "version": 2
   },
   "file_extension": ".py",
   "mimetype": "text/x-python",
   "name": "python",
   "nbconvert_exporter": "python",
   "pygments_lexer": "ipython2",
   "version": "2.7.6"
  }
 },
 "nbformat": 4,
 "nbformat_minor": 5
}
