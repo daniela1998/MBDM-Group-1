{
 "cells": [
  {
   "metadata": {
    "ExecuteTime": {
     "end_time": "2025-06-09T15:39:51.881383Z",
     "start_time": "2025-06-09T15:39:51.874029Z"
    }
   },
   "cell_type": "code",
   "source": [
    "import numpy as np\n",
    "import scipy as sp\n",
    "import pandas as pd\n",
    "import matplotlib.pyplot as plt\n",
    "import seaborn as sns\n",
    "import networkx as nx\n",
    "from SALib.analyze import sobol\n",
    "import warnings\n",
    "from ema_workbench.analysis import feature_scoring\n",
    "from ema_workbench.em_framework.salib_samplers import get_SALib_problem\n",
    "import ema_workbench.em_framework.optimization\n",
    "from ema_workbench.em_framework.optimization import to_problem, epsilon_nondominated, EpsilonProgress, ArchiveLogger, GenerationalDistanceMetric,  EpsilonIndicatorMetric, InvertedGenerationalDistanceMetric, SpacingMetric\n",
    "from ema_workbench import (\n",
    "    Model,\n",
    "    Policy,\n",
    "    ema_logging,\n",
    "    SequentialEvaluator,\n",
    "    MultiprocessingEvaluator,\n",
    "    perform_experiments,\n",
    "    Samplers,\n",
    ")\n",
    "\n",
    "\n",
    "from dike_model_function import DikeNetwork\n",
    "from problem_formulation import get_model_for_problem_formulation, sum_over, sum_over_time\n",
    "from ema_workbench.analysis import prim\n",
    "from ema_workbench.em_framework.parameters import Constant\n",
    "import pickle\n",
    "warnings.filterwarnings(\"ignore\")\n",
    "ema_logging.log_to_stderr(ema_logging.INFO)\n"
   ],
   "id": "2fd0693fe913fb07",
   "outputs": [
    {
     "data": {
      "text/plain": [
       "<Logger EMA (DEBUG)>"
      ]
     },
     "execution_count": 14,
     "metadata": {},
     "output_type": "execute_result"
    }
   ],
   "execution_count": 14
  },
  {
   "metadata": {},
   "cell_type": "markdown",
   "source": "## Delft Blue Incoming Files",
   "id": "d10bbd4abb05c6a"
  },
  {
   "metadata": {
    "ExecuteTime": {
     "end_time": "2025-06-09T15:25:10.099600Z",
     "start_time": "2025-06-09T15:25:09.190972Z"
    }
   },
   "cell_type": "code",
   "source": [
    "# Model\n",
    "dike_model, planning_steps = get_model_for_problem_formulation(2)"
   ],
   "id": "75ef3466a44c593c",
   "outputs": [],
   "execution_count": 2
  },
  {
   "metadata": {
    "ExecuteTime": {
     "end_time": "2025-06-09T15:49:00.765680Z",
     "start_time": "2025-06-09T15:49:00.737186Z"
    }
   },
   "cell_type": "code",
   "source": [
    "# Load results from DB\n",
    "scenario_results = []\n",
    "scenario_convergence = []\n",
    "seeds = [27097, 567] # 45646, 90, 676465]  # seeds used un DB - to change later\n",
    "for seed in seeds:\n",
    "    df = pd.read_csv(f\"output/results_seed_{seed}.csv\")\n",
    "    df_c = pd.read_csv(f\"output/convergence_seed_{seed}.csv\")\n",
    "    scenario_results.append(df)\n",
    "    scenario_convergence.append(df_c)\n",
    "    l = df.columns.tolist()"
   ],
   "id": "19d79e049fff5f0b",
   "outputs": [
    {
     "data": {
      "text/plain": [
       "37"
      ]
     },
     "execution_count": 20,
     "metadata": {},
     "output_type": "execute_result"
    }
   ],
   "execution_count": 20
  },
  {
   "metadata": {
    "ExecuteTime": {
     "end_time": "2025-06-09T15:25:19.328822Z",
     "start_time": "2025-06-09T15:25:19.310956Z"
    }
   },
   "cell_type": "code",
   "source": [
    "# Load archive\n",
    "archive_results = []\n",
    "seeds = [27097, 567] # 45646, 90, 676465]  # seeds used un DB - to change later\n",
    "for seed in seeds:\n",
    "   archives = ArchiveLogger.load_archives(f\"output/seed_{seed}_archive.tar.gz\")  # Use '/'\n",
    "   #for key in archives.keys():\n",
    "   archive_results.append(archives)"
   ],
   "id": "4ff9c8421e9c8009",
   "outputs": [],
   "execution_count": 4
  },
  {
   "metadata": {
    "ExecuteTime": {
     "end_time": "2025-06-09T15:25:23.417404Z",
     "start_time": "2025-06-09T15:25:23.410542Z"
    }
   },
   "cell_type": "code",
   "source": [
    "pol = []\n",
    "for policy in dike_model.levers:\n",
    "    pol.append(policy)\n",
    "\n",
    "for outcome in dike_model.outcomes:\n",
    "    pol.append(outcome)\n",
    "\n",
    "len(pol)\n",
    "dike_model_problem =dike_model\n",
    "dike_model_problem.outcomes"
   ],
   "id": "9c6e42e2a6f05b31",
   "outputs": [
    {
     "data": {
      "text/plain": [
       "<ema_workbench.em_framework.util.NamedObjectMap at 0x2061cd21730>"
      ]
     },
     "execution_count": 5,
     "metadata": {},
     "output_type": "execute_result"
    }
   ],
   "execution_count": 5
  },
  {
   "metadata": {},
   "cell_type": "markdown",
   "source": "## Merge Seeds",
   "id": "49e737238ed75d7f"
  },
  {
   "metadata": {
    "ExecuteTime": {
     "end_time": "2025-06-09T15:25:27.686653Z",
     "start_time": "2025-06-09T15:25:27.679352Z"
    }
   },
   "cell_type": "code",
   "source": [
    "for archive in archive_results:\n",
    "    for key, df in archive.items():\n",
    "        for col in dike_model.levers:\n",
    "            if col.name not in df.columns:\n",
    "                df[col.name] = 0"
   ],
   "id": "2585951ee185fba",
   "outputs": [],
   "execution_count": 6
  },
  {
   "metadata": {
    "ExecuteTime": {
     "end_time": "2025-06-09T15:25:29.338417Z",
     "start_time": "2025-06-09T15:25:29.332044Z"
    }
   },
   "cell_type": "code",
   "source": [
    "#Make sure that the results contain all policies (rest is set to 0)\n",
    "for df in scenario_results:\n",
    "    for col in dike_model.levers:\n",
    "        if col.name not in df.columns:\n",
    "            df[col.name] = 0"
   ],
   "id": "2894263eb927d428",
   "outputs": [],
   "execution_count": 7
  },
  {
   "metadata": {
    "ExecuteTime": {
     "end_time": "2025-06-09T15:25:33.293414Z",
     "start_time": "2025-06-09T15:25:33.288389Z"
    }
   },
   "cell_type": "code",
   "source": [
    "#Rename problem levers and outcomes to compatible name format\n",
    "\n",
    "for lever in dike_model_problem.levers:\n",
    "    lever.name = 'L_' + lever.name.replace(\" \", \"_\").replace(\".\", \"_\")\n",
    "\n",
    "for outcome in dike_model_problem.outcomes:\n",
    "    outcome.name = 'L_' + outcome.name.replace(\" \", \"_\").replace(\".\", \"_\")"
   ],
   "id": "c2c2918865b38125",
   "outputs": [],
   "execution_count": 8
  },
  {
   "metadata": {
    "ExecuteTime": {
     "end_time": "2025-06-09T15:25:35.132529Z",
     "start_time": "2025-06-09T15:25:35.125023Z"
    }
   },
   "cell_type": "code",
   "source": [
    "#Defining the problem\n",
    "problem = to_problem(dike_model_problem, searchover=\"levers\")"
   ],
   "id": "351ba0a8d7bf817c",
   "outputs": [],
   "execution_count": 9
  },
  {
   "metadata": {
    "ExecuteTime": {
     "end_time": "2025-06-09T15:25:38.642558Z",
     "start_time": "2025-06-09T15:25:38.637871Z"
    }
   },
   "cell_type": "code",
   "source": [
    "#Rename the scenario levers and outcomes\n",
    "\n",
    "def clean_names(name_list):\n",
    "    return ['L_' + name.replace(\" \", \"_\").replace(\".\", \"_\") for name in name_list]\n",
    "\n",
    "# Clean column names in the scenario results\n",
    "for i in range(len(scenario_results)):\n",
    "    scenario_results[i].columns = clean_names(scenario_results[i].columns)"
   ],
   "id": "c3a20bcbec164c72",
   "outputs": [],
   "execution_count": 10
  },
  {
   "metadata": {},
   "cell_type": "markdown",
   "source": "",
   "id": "e9e8118f48948ec0"
  },
  {
   "metadata": {
    "ExecuteTime": {
     "end_time": "2025-06-09T15:25:40.409317Z",
     "start_time": "2025-06-09T15:25:40.394578Z"
    }
   },
   "cell_type": "code",
   "source": [
    "#Merge the results from the different seeds for each of the two scenarios\n",
    "epsilons = [0.05] * len(dike_model.outcomes)\n",
    "\n",
    "#Merge the list of results into a single set of non dominated results using the provided epsilon values\n",
    "merged_results = epsilon_nondominated(scenario_results,epsilons,problem)"
   ],
   "id": "6c1034b86c77f9f3",
   "outputs": [],
   "execution_count": 11
  },
  {
   "metadata": {},
   "cell_type": "markdown",
   "source": "## Convergence Metrics",
   "id": "2ebcb967f511bc2a"
  },
  {
   "metadata": {
    "ExecuteTime": {
     "end_time": "2025-06-09T15:42:37.612807Z",
     "start_time": "2025-06-09T15:42:37.590999Z"
    }
   },
   "cell_type": "code",
   "source": [
    "gen_dis = GenerationalDistanceMetric(merged_results, problem, d=1)\n",
    "e_ind = EpsilonIndicatorMetric(merged_results, problem)\n",
    "i_gen = InvertedGenerationalDistanceMetric(merged_results, problem, d=1)\n",
    "s_met = SpacingMetric(problem)"
   ],
   "id": "3dc3bc97e06c6e0b",
   "outputs": [],
   "execution_count": 17
  },
  {
   "metadata": {
    "ExecuteTime": {
     "end_time": "2025-06-09T15:43:23.779750Z",
     "start_time": "2025-06-09T15:43:23.744966Z"
    }
   },
   "cell_type": "code",
   "source": [
    "metrics_by_seed = []\n",
    "for archives in archive_results:\n",
    "    metrics = []\n",
    "    for nfe, archive in archives.items():\n",
    "        if int(nfe) == 0:\n",
    "            continue\n",
    "        scores = {\n",
    "            \"generational_distance\": gen_dis.calculate(archive),\n",
    "            \"epsilon_indicator\": e_ind.calculate(archive),\n",
    "            \"inverted_gd\": i_gen.calculate(archive),\n",
    "            \"spacing\": s_met.calculate(archive),\n",
    "            \"nfe\": int(nfe),\n",
    "        }\n",
    "        metrics.append(scores)\n",
    "    metrics = pd.DataFrame.from_dict(metrics)\n",
    "\n",
    "    # sort metrics by number of function evaluations\n",
    "    metrics.sort_values(by=\"nfe\", inplace=True)\n",
    "    metrics_by_seed.append(metrics)"
   ],
   "id": "5fd106914ce40d23",
   "outputs": [
    {
     "ename": "EMAError",
     "evalue": "Parameter names ['L_0_RfR_0', 'L_0_RfR_1', 'L_0_RfR_2', 'L_1_RfR_0', 'L_1_RfR_1', 'L_1_RfR_2', 'L_2_RfR_0', 'L_2_RfR_1', 'L_2_RfR_2', 'L_3_RfR_0', 'L_3_RfR_1', 'L_3_RfR_2', 'L_4_RfR_0', 'L_4_RfR_1', 'L_4_RfR_2', 'L_EWS_DaysToThreat', 'L_A_1_DikeIncrease_0', 'L_A_1_DikeIncrease_1', 'L_A_1_DikeIncrease_2', 'L_A_2_DikeIncrease_0', 'L_A_2_DikeIncrease_1', 'L_A_2_DikeIncrease_2', 'L_A_3_DikeIncrease_0', 'L_A_3_DikeIncrease_1', 'L_A_3_DikeIncrease_2', 'L_A_4_DikeIncrease_0', 'L_A_4_DikeIncrease_1', 'L_A_4_DikeIncrease_2', 'L_A_5_DikeIncrease_0', 'L_A_5_DikeIncrease_1', 'L_A_5_DikeIncrease_2'] not found in archive",
     "output_type": "error",
     "traceback": [
      "\u001B[1;31m---------------------------------------------------------------------------\u001B[0m",
      "\u001B[1;31mAttributeError\u001B[0m                            Traceback (most recent call last)",
      "File \u001B[1;32m~\\AppData\\Local\\Packages\\PythonSoftwareFoundation.Python.3.12_qbz5n2kfra8p0\\LocalCache\\local-packages\\Python312\\site-packages\\ema_workbench\\em_framework\\optimization.py:895\u001B[0m, in \u001B[0;36mrebuild_platypus_population\u001B[1;34m(archive, problem)\u001B[0m\n\u001B[0;32m    894\u001B[0m \u001B[38;5;28;01mtry\u001B[39;00m:\n\u001B[1;32m--> 895\u001B[0m     decision_variables \u001B[38;5;241m=\u001B[39m [\u001B[38;5;28;43mgetattr\u001B[39;49m\u001B[43m(\u001B[49m\u001B[43mrow\u001B[49m\u001B[43m,\u001B[49m\u001B[43m \u001B[49m\u001B[43mattr\u001B[49m\u001B[43m)\u001B[49m \u001B[38;5;28;01mfor\u001B[39;00m attr \u001B[38;5;129;01min\u001B[39;00m problem\u001B[38;5;241m.\u001B[39mparameter_names]\n\u001B[0;32m    896\u001B[0m \u001B[38;5;28;01mexcept\u001B[39;00m \u001B[38;5;167;01mAttributeError\u001B[39;00m:\n",
      "\u001B[1;31mAttributeError\u001B[0m: 'Pandas' object has no attribute 'L_0_RfR_0'",
      "\nDuring handling of the above exception, another exception occurred:\n",
      "\u001B[1;31mEMAError\u001B[0m                                  Traceback (most recent call last)",
      "Cell \u001B[1;32mIn[19], line 8\u001B[0m\n\u001B[0;32m      5\u001B[0m     \u001B[38;5;28;01mif\u001B[39;00m \u001B[38;5;28mint\u001B[39m(nfe) \u001B[38;5;241m==\u001B[39m \u001B[38;5;241m0\u001B[39m:\n\u001B[0;32m      6\u001B[0m         \u001B[38;5;28;01mcontinue\u001B[39;00m\n\u001B[0;32m      7\u001B[0m     scores \u001B[38;5;241m=\u001B[39m {\n\u001B[1;32m----> 8\u001B[0m         \u001B[38;5;124m\"\u001B[39m\u001B[38;5;124mgenerational_distance\u001B[39m\u001B[38;5;124m\"\u001B[39m: \u001B[43mgen_dis\u001B[49m\u001B[38;5;241;43m.\u001B[39;49m\u001B[43mcalculate\u001B[49m\u001B[43m(\u001B[49m\u001B[43marchive\u001B[49m\u001B[43m)\u001B[49m,\n\u001B[0;32m      9\u001B[0m         \u001B[38;5;124m\"\u001B[39m\u001B[38;5;124mepsilon_indicator\u001B[39m\u001B[38;5;124m\"\u001B[39m: e_ind\u001B[38;5;241m.\u001B[39mcalculate(archive),\n\u001B[0;32m     10\u001B[0m         \u001B[38;5;124m\"\u001B[39m\u001B[38;5;124minverted_gd\u001B[39m\u001B[38;5;124m\"\u001B[39m: i_gen\u001B[38;5;241m.\u001B[39mcalculate(archive),\n\u001B[0;32m     11\u001B[0m         \u001B[38;5;124m\"\u001B[39m\u001B[38;5;124mspacing\u001B[39m\u001B[38;5;124m\"\u001B[39m: s_met\u001B[38;5;241m.\u001B[39mcalculate(archive),\n\u001B[0;32m     12\u001B[0m         \u001B[38;5;124m\"\u001B[39m\u001B[38;5;124mnfe\u001B[39m\u001B[38;5;124m\"\u001B[39m: \u001B[38;5;28mint\u001B[39m(nfe),\n\u001B[0;32m     13\u001B[0m     }\n\u001B[0;32m     14\u001B[0m     metrics\u001B[38;5;241m.\u001B[39mappend(scores)\n\u001B[0;32m     15\u001B[0m metrics \u001B[38;5;241m=\u001B[39m pd\u001B[38;5;241m.\u001B[39mDataFrame\u001B[38;5;241m.\u001B[39mfrom_dict(metrics)\n",
      "File \u001B[1;32m~\\AppData\\Local\\Packages\\PythonSoftwareFoundation.Python.3.12_qbz5n2kfra8p0\\LocalCache\\local-packages\\Python312\\site-packages\\ema_workbench\\em_framework\\optimization.py:518\u001B[0m, in \u001B[0;36mMetricWrapper.calculate\u001B[1;34m(self, archive)\u001B[0m\n\u001B[0;32m    517\u001B[0m \u001B[38;5;28;01mdef\u001B[39;00m \u001B[38;5;21mcalculate\u001B[39m(\u001B[38;5;28mself\u001B[39m, archive):\n\u001B[1;32m--> 518\u001B[0m     solutions \u001B[38;5;241m=\u001B[39m \u001B[43mrebuild_platypus_population\u001B[49m\u001B[43m(\u001B[49m\u001B[43marchive\u001B[49m\u001B[43m,\u001B[49m\u001B[43m \u001B[49m\u001B[38;5;28;43mself\u001B[39;49m\u001B[38;5;241;43m.\u001B[39;49m\u001B[43mproblem\u001B[49m\u001B[43m)\u001B[49m\n\u001B[0;32m    519\u001B[0m     \u001B[38;5;28;01mreturn\u001B[39;00m \u001B[38;5;28msuper\u001B[39m()\u001B[38;5;241m.\u001B[39mcalculate(solutions)\n",
      "File \u001B[1;32m~\\AppData\\Local\\Packages\\PythonSoftwareFoundation.Python.3.12_qbz5n2kfra8p0\\LocalCache\\local-packages\\Python312\\site-packages\\ema_workbench\\em_framework\\optimization.py:900\u001B[0m, in \u001B[0;36mrebuild_platypus_population\u001B[1;34m(archive, problem)\u001B[0m\n\u001B[0;32m    896\u001B[0m \u001B[38;5;28;01mexcept\u001B[39;00m \u001B[38;5;167;01mAttributeError\u001B[39;00m:\n\u001B[0;32m    897\u001B[0m     missing_parameters \u001B[38;5;241m=\u001B[39m [\n\u001B[0;32m    898\u001B[0m         attr \u001B[38;5;28;01mfor\u001B[39;00m attr \u001B[38;5;129;01min\u001B[39;00m problem\u001B[38;5;241m.\u001B[39mparameter_names \u001B[38;5;28;01mif\u001B[39;00m \u001B[38;5;129;01mnot\u001B[39;00m \u001B[38;5;28mhasattr\u001B[39m(row, attr)\n\u001B[0;32m    899\u001B[0m     ]\n\u001B[1;32m--> 900\u001B[0m     \u001B[38;5;28;01mraise\u001B[39;00m EMAError(\u001B[38;5;124mf\u001B[39m\u001B[38;5;124m\"\u001B[39m\u001B[38;5;124mParameter names \u001B[39m\u001B[38;5;132;01m{\u001B[39;00mmissing_parameters\u001B[38;5;132;01m}\u001B[39;00m\u001B[38;5;124m not found in archive\u001B[39m\u001B[38;5;124m\"\u001B[39m)\n\u001B[0;32m    902\u001B[0m \u001B[38;5;28;01mtry\u001B[39;00m:\n\u001B[0;32m    903\u001B[0m     objectives \u001B[38;5;241m=\u001B[39m [\u001B[38;5;28mgetattr\u001B[39m(row, attr) \u001B[38;5;28;01mfor\u001B[39;00m attr \u001B[38;5;129;01min\u001B[39;00m problem\u001B[38;5;241m.\u001B[39moutcome_names]\n",
      "\u001B[1;31mEMAError\u001B[0m: Parameter names ['L_0_RfR_0', 'L_0_RfR_1', 'L_0_RfR_2', 'L_1_RfR_0', 'L_1_RfR_1', 'L_1_RfR_2', 'L_2_RfR_0', 'L_2_RfR_1', 'L_2_RfR_2', 'L_3_RfR_0', 'L_3_RfR_1', 'L_3_RfR_2', 'L_4_RfR_0', 'L_4_RfR_1', 'L_4_RfR_2', 'L_EWS_DaysToThreat', 'L_A_1_DikeIncrease_0', 'L_A_1_DikeIncrease_1', 'L_A_1_DikeIncrease_2', 'L_A_2_DikeIncrease_0', 'L_A_2_DikeIncrease_1', 'L_A_2_DikeIncrease_2', 'L_A_3_DikeIncrease_0', 'L_A_3_DikeIncrease_1', 'L_A_3_DikeIncrease_2', 'L_A_4_DikeIncrease_0', 'L_A_4_DikeIncrease_1', 'L_A_4_DikeIncrease_2', 'L_A_5_DikeIncrease_0', 'L_A_5_DikeIncrease_1', 'L_A_5_DikeIncrease_2'] not found in archive"
     ]
    }
   ],
   "execution_count": 19
  },
  {
   "metadata": {},
   "cell_type": "markdown",
   "source": "## Plots",
   "id": "57b4e2c330d609e5"
  },
  {
   "metadata": {},
   "cell_type": "code",
   "outputs": [],
   "execution_count": null,
   "source": [
    "sns.set_style(\"white\")\n",
    "\n",
    "fig, axes = plt.subplots(nrows=5, figsize=(8, 12), sharex=True)\n",
    "\n",
    "ax2, ax3, ax4, ax5, ax6 = axes\n",
    "\n",
    "for metrics, convergence in zip(metrics_by_seed, scenario_0_convergences):\n",
    "\n",
    "    ax2.plot(convergence.nfe, convergence.epsilon_progress)\n",
    "    ax2.set_ylabel(\"$\\epsilon$ progress\")\n",
    "\n",
    "    ax3.plot(metrics.nfe, metrics.generational_distance)\n",
    "    ax3.set_ylabel(\"generational distance\")\n",
    "\n",
    "    ax4.plot(metrics.nfe, metrics.epsilon_indicator)\n",
    "    ax4.set_ylabel(\"epsilon indicator\")\n",
    "\n",
    "    ax5.plot(metrics.nfe, metrics.inverted_gd)\n",
    "    ax5.set_ylabel(\"inverted generational\\ndistance\")\n",
    "\n",
    "    ax6.plot(metrics.nfe, metrics.spacing)\n",
    "    ax6.set_ylabel(\"spacing\")\n",
    "\n",
    "ax6.set_xlabel(\"nfe\")\n",
    "\n",
    "sns.despine(fig)\n",
    "\n",
    "fig.suptitle('Convergence Metrics Scenario 0')\n",
    "\n",
    "\n",
    "\n",
    "plt.show()"
   ],
   "id": "7136b67969de5b23"
  }
 ],
 "metadata": {
  "kernelspec": {
   "display_name": "Python 3",
   "language": "python",
   "name": "python3"
  },
  "language_info": {
   "codemirror_mode": {
    "name": "ipython",
    "version": 2
   },
   "file_extension": ".py",
   "mimetype": "text/x-python",
   "name": "python",
   "nbconvert_exporter": "python",
   "pygments_lexer": "ipython2",
   "version": "2.7.6"
  }
 },
 "nbformat": 4,
 "nbformat_minor": 5
}
