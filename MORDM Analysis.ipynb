{
 "cells": [
  {
   "metadata": {
    "ExecuteTime": {
     "end_time": "2025-06-11T14:38:12.101075Z",
     "start_time": "2025-06-11T14:38:09.700373Z"
    }
   },
   "cell_type": "code",
   "source": [
    "import numpy as np\n",
    "import scipy as sp\n",
    "import pandas as pd\n",
    "import matplotlib.pyplot as plt\n",
    "import seaborn as sns\n",
    "import networkx as nx\n",
    "from SALib.analyze import sobol\n",
    "import warnings\n",
    "from ema_workbench.analysis import feature_scoring\n",
    "from ema_workbench.em_framework.salib_samplers import get_SALib_problem\n",
    "import ema_workbench.em_framework.optimization\n",
    "from ema_workbench.em_framework.optimization import to_problem, epsilon_nondominated, EpsilonProgress, ArchiveLogger\n",
    "from ema_workbench import (\n",
    "    Model,\n",
    "    Policy,\n",
    "    ema_logging,\n",
    "    SequentialEvaluator,\n",
    "    MultiprocessingEvaluator,\n",
    "    perform_experiments,\n",
    "    Samplers,\n",
    ")\n",
    "\n",
    "\n",
    "from dike_model_function import DikeNetwork\n",
    "from problem_formulation import get_model_for_problem_formulation, sum_over, sum_over_time\n",
    "from ema_workbench.analysis import prim\n",
    "from ema_workbench.em_framework.parameters import Constant\n",
    "import pickle\n",
    "warnings.filterwarnings(\"ignore\")\n",
    "ema_logging.log_to_stderr(ema_logging.INFO)\n"
   ],
   "id": "2fd0693fe913fb07",
   "outputs": [
    {
     "data": {
      "text/plain": [
       "<Logger EMA (DEBUG)>"
      ]
     },
     "execution_count": 1,
     "metadata": {},
     "output_type": "execute_result"
    }
   ],
   "execution_count": 1
  },
  {
   "metadata": {},
   "cell_type": "markdown",
   "source": "## Delft Blue Incoming Files",
   "id": "d10bbd4abb05c6a"
  },
  {
   "metadata": {
    "ExecuteTime": {
     "end_time": "2025-06-11T14:48:09.931829Z",
     "start_time": "2025-06-11T14:48:09.780568Z"
    }
   },
   "cell_type": "code",
   "source": [
    "# Model\n",
    "dike_model, planning_steps = get_model_for_problem_formulation(2)"
   ],
   "id": "75ef3466a44c593c",
   "outputs": [],
   "execution_count": 15
  },
  {
   "metadata": {
    "ExecuteTime": {
     "end_time": "2025-06-11T14:48:11.568584Z",
     "start_time": "2025-06-11T14:48:11.542804Z"
    }
   },
   "cell_type": "code",
   "source": [
    "# Load results from DB\n",
    "scenario_results = []\n",
    "seeds = [27097, 567, 45646, 90, 676465]  # seeds used un DB - to change later\n",
    "for seed in seeds:\n",
    "    df = pd.read_csv(f\"output/results_seed_{seed}.csv\")  # Use '/'\n",
    "    scenario_results.append(df)\n",
    "    l = df.columns.tolist()\n",
    "len(l)"
   ],
   "id": "19d79e049fff5f0b",
   "outputs": [
    {
     "data": {
      "text/plain": [
       "37"
      ]
     },
     "execution_count": 16,
     "metadata": {},
     "output_type": "execute_result"
    }
   ],
   "execution_count": 16
  },
  {
   "metadata": {
    "ExecuteTime": {
     "end_time": "2025-06-11T14:48:24.880890Z",
     "start_time": "2025-06-11T14:48:24.389416Z"
    }
   },
   "cell_type": "code",
   "source": [
    "# Load archive\n",
    "archive_results = []\n",
    "seeds = [27097, 567, 45646, 90, 676465]  # seeds used un DB - to change later\n",
    "for seed in seeds:\n",
    "   archives = ArchiveLogger.load_archives(f\"output/seed_{seed}_archive.tar.gz\")  # Use '/'\n",
    "   #for key in archives.keys():\n",
    "   archive_results.append(archives)"
   ],
   "id": "4ff9c8421e9c8009",
   "outputs": [],
   "execution_count": 17
  },
  {
   "metadata": {
    "ExecuteTime": {
     "end_time": "2025-06-11T14:48:27.132573Z",
     "start_time": "2025-06-11T14:48:27.110997Z"
    }
   },
   "cell_type": "code",
   "source": [
    "pol = []\n",
    "for policy in dike_model.levers:\n",
    "    pol.append(policy)\n",
    "\n",
    "for outcome in dike_model.outcomes:\n",
    "    pol.append(outcome)\n",
    "\n",
    "len(pol)\n",
    "dike_model_problem =dike_model\n",
    "dike_model_problem.outcomes"
   ],
   "id": "9c6e42e2a6f05b31",
   "outputs": [
    {
     "data": {
      "text/plain": [
       "<ema_workbench.em_framework.util.NamedObjectMap at 0x23c7b581fa0>"
      ]
     },
     "execution_count": 18,
     "metadata": {},
     "output_type": "execute_result"
    }
   ],
   "execution_count": 18
  },
  {
   "metadata": {},
   "cell_type": "markdown",
   "source": "## Merge Seeds",
   "id": "49e737238ed75d7f"
  },
  {
   "metadata": {
    "ExecuteTime": {
     "end_time": "2025-06-11T14:48:35.188393Z",
     "start_time": "2025-06-11T14:48:35.175562Z"
    }
   },
   "cell_type": "code",
   "source": [
    "for archive in archive_results:\n",
    "    for key, df in archive.items():\n",
    "        for col in dike_model.levers:\n",
    "            if col.name not in df.columns:\n",
    "                df[col.name] = 0"
   ],
   "id": "2585951ee185fba",
   "outputs": [],
   "execution_count": 19
  },
  {
   "metadata": {
    "ExecuteTime": {
     "end_time": "2025-06-11T14:48:36.813431Z",
     "start_time": "2025-06-11T14:48:36.804779Z"
    }
   },
   "cell_type": "code",
   "source": [
    "#Make sure that the results contain all policies (rest is set to 0)\n",
    "for df in scenario_results:\n",
    "    for col in dike_model.levers:\n",
    "        if col.name not in df.columns:\n",
    "            df[col.name] = 0"
   ],
   "id": "2894263eb927d428",
   "outputs": [],
   "execution_count": 20
  },
  {
   "metadata": {
    "ExecuteTime": {
     "end_time": "2025-06-11T14:48:41.462436Z",
     "start_time": "2025-06-11T14:48:41.456682Z"
    }
   },
   "cell_type": "code",
   "source": [
    "#Rename problem levers and outcomes to compatible name format\n",
    "\n",
    "for lever in dike_model_problem.levers:\n",
    "    lever.name = 'L_' + lever.name.replace(\" \", \"_\").replace(\".\", \"_\")\n",
    "\n",
    "for outcome in dike_model_problem.outcomes:\n",
    "    outcome.name = 'L_' + outcome.name.replace(\" \", \"_\").replace(\".\", \"_\")"
   ],
   "id": "c2c2918865b38125",
   "outputs": [],
   "execution_count": 21
  },
  {
   "metadata": {
    "ExecuteTime": {
     "end_time": "2025-06-11T14:48:43.208327Z",
     "start_time": "2025-06-11T14:48:43.203357Z"
    }
   },
   "cell_type": "code",
   "source": [
    "#Defining the problem\n",
    "problem = to_problem(dike_model_problem, searchover=\"levers\")"
   ],
   "id": "351ba0a8d7bf817c",
   "outputs": [],
   "execution_count": 22
  },
  {
   "metadata": {
    "ExecuteTime": {
     "end_time": "2025-06-11T14:48:44.678114Z",
     "start_time": "2025-06-11T14:48:44.671153Z"
    }
   },
   "cell_type": "code",
   "source": [
    "#Rename the scenario levers and outcomes\n",
    "\n",
    "def clean_names(name_list):\n",
    "    return ['L_' + name.replace(\" \", \"_\").replace(\".\", \"_\") for name in name_list]\n",
    "\n",
    "# Clean column names in the scenario results\n",
    "for i in range(len(scenario_results)):\n",
    "    scenario_results[i].columns = clean_names(scenario_results[i].columns)"
   ],
   "id": "c3a20bcbec164c72",
   "outputs": [],
   "execution_count": 23
  },
  {
   "metadata": {},
   "cell_type": "markdown",
   "source": "",
   "id": "e9e8118f48948ec0"
  },
  {
   "metadata": {
    "ExecuteTime": {
     "end_time": "2025-06-11T14:49:03.866276Z",
     "start_time": "2025-06-11T14:48:59.654454Z"
    }
   },
   "cell_type": "code",
   "source": [
    "#Merge the results from the different seeds for each of the two scenarios\n",
    "epsilons = [0.05] * len(dike_model.outcomes)\n",
    "\n",
    "#Merge the list of results into a single set of non dominated results using the provided epsilon values\n",
    "merged_results = epsilon_nondominated(scenario_results,epsilons,problem)"
   ],
   "id": "6c1034b86c77f9f3",
   "outputs": [],
   "execution_count": 27
  },
  {
   "metadata": {
    "ExecuteTime": {
     "end_time": "2025-06-11T14:48:57.373172Z",
     "start_time": "2025-06-11T14:48:57.367832Z"
    }
   },
   "cell_type": "code",
   "source": "len(merged_results)",
   "id": "1c016ea0cb12c77d",
   "outputs": [
    {
     "data": {
      "text/plain": [
       "719"
      ]
     },
     "execution_count": 26,
     "metadata": {},
     "output_type": "execute_result"
    }
   ],
   "execution_count": 26
  },
  {
   "metadata": {},
   "cell_type": "markdown",
   "source": "## Policies: TO ADD MORE FILTERS",
   "id": "2ebcb967f511bc2a"
  },
  {
   "metadata": {
    "ExecuteTime": {
     "end_time": "2025-06-11T14:49:24.852734Z",
     "start_time": "2025-06-11T14:49:24.821284Z"
    }
   },
   "cell_type": "code",
   "source": [
    "# Further filter results based on a threshold for total costs\n",
    "results_filter = merged_results[merged_results['L_Expected_Number_of_Deaths']==0]\n",
    "results_filter.to_excel('Results Filter.xlsx')\n",
    "policies_ = results_filter\n",
    "len(policies_)"
   ],
   "id": "3dc3bc97e06c6e0b",
   "outputs": [
    {
     "data": {
      "text/plain": [
       "13"
      ]
     },
     "execution_count": 28,
     "metadata": {},
     "output_type": "execute_result"
    }
   ],
   "execution_count": 28
  },
  {
   "metadata": {
    "ExecuteTime": {
     "end_time": "2025-06-11T14:49:27.257275Z",
     "start_time": "2025-06-11T14:49:26.925076Z"
    }
   },
   "cell_type": "code",
   "source": [
    "from ema_workbench.analysis import parcoords\n",
    "\n",
    "data = policies_.loc[:, [o.name for o in dike_model.outcomes]]\n",
    "limits = parcoords.get_limits(data)\n",
    "limits.loc[0, [o.name for o in dike_model.outcomes]] = 0\n",
    "\n",
    "plt.figure(figsize=(30, 5))\n",
    "paraxes = parcoords.ParallelAxes(limits)\n",
    "paraxes.plot(data)\n",
    "#paraxes.invert_axis('A.5_Minimum Water Level')\n",
    "plt.show()"
   ],
   "id": "1a428e7baa30260b",
   "outputs": [
    {
     "data": {
      "text/plain": [
       "<Figure size 3000x500 with 0 Axes>"
      ]
     },
     "metadata": {},
     "output_type": "display_data"
    },
    {
     "data": {
      "text/plain": [
       "<Figure size 640x480 with 5 Axes>"
      ],
      "image/png": "[encoded data removed]"
     },
     "metadata": {},
     "output_type": "display_data"
    }
   ],
   "execution_count": 29
  },
  {
   "metadata": {},
   "cell_type": "markdown",
   "source": [
    "## Candidate Strategies\n",
    "Re evaluate candidate solutions to assess their robustness. Run EMA workbench again. Reduce the size of the list of the robust policies by adding extra constaints (Insights on the debate)\n",
    "\n"
   ],
   "id": "8e0aee15f49f5b02"
  },
  {
   "metadata": {
    "ExecuteTime": {
     "end_time": "2025-06-11T14:50:33.247438Z",
     "start_time": "2025-06-11T14:50:33.231271Z"
    }
   },
   "cell_type": "code",
   "source": [
    "# Create a list with a format EMA workbench can use\n",
    "from ema_workbench import Policy\n",
    "\n",
    "policies_.index = [i for i in range(len(policies_.index))]\n",
    "\n",
    "# Drop the outcome columns from the policies DataFrame, keeping only the decision variables\n",
    "policies_pareto = policies_.drop([o.name for o in dike_model.outcomes], axis=1)\n",
    "\n",
    "policies_to_analyze = []\n",
    "\n",
    "# Create policy objects\n",
    "for i, policy in policies_.iterrows():\n",
    "    policies_to_analyze.append(Policy(str(i), **policy.to_dict()))"
   ],
   "id": "bc3e569206337f20",
   "outputs": [],
   "execution_count": 30
  },
  {
   "metadata": {
    "jupyter": {
     "is_executing": true
    },
    "ExecuteTime": {
     "start_time": "2025-06-11T14:50:37.525027Z"
    }
   },
   "cell_type": "code",
   "source": [
    "# Run experiments again only on selected robust policies\n",
    "n_scenarios = 1\n",
    "with MultiprocessingEvaluator(dike_model) as evaluator:\n",
    "    results = evaluator.perform_experiments(n_scenarios,\n",
    "                                            policies_to_analyze)\n",
    "\n",
    "experiments, outcomes = results"
   ],
   "id": "2fce4611abd843e1",
   "outputs": [],
   "execution_count": null
  },
  {
   "metadata": {},
   "cell_type": "code",
   "outputs": [],
   "execution_count": null,
   "source": [
    "# Plot outcomes\n",
    "sns.pairplot(pd.DataFrame(outcomes))"
   ],
   "id": "a5669ef52d94a26f"
  },
  {
   "metadata": {},
   "cell_type": "markdown",
   "source": "## Robustness Metrics",
   "id": "706cb612e43d21e6"
  },
  {
   "metadata": {},
   "cell_type": "markdown",
   "source": [
    "**Signal to Noise**\n",
    "\n",
    "The signal-to-noise ratio gives an indication of the variation of the outcomes over different scenarios. This metric captures both the average and the standard deviation of the candidate solution. By taking the standard deviation into account not only the average performance, but also the range of the performance of the candidate solutions becomes clear\n",
    "The aim is to keep this variance as low as possible, as a\n",
    "narrow range of uncertainty shows robustness (Kwakkel et al., 2016). When the objective needs to be minimised, the signal-to-noise ratio is calculated by multiplying the mean and the standard deviation, as both the mean and the standard deviation needs to be as low as possible. When maximising the objective, the signal-to-noise ratio is calculated by dividing the mean by the standard deviation, as the mean needs to be maximised, while having a minimal standard deviation. Thus, in case of maximisation of the objective, a high signal-to-noise ratio indicates robustness, while in case of minimisation, a low signal-to-noise ratio is preferred."
   ],
   "id": "8eb5f65d7c8b77dc"
  },
  {
   "metadata": {},
   "cell_type": "code",
   "outputs": [],
   "execution_count": null,
   "source": [
    "#Function to calculate the signal to noise ratio\n",
    "def s_to_n(data, direction):\n",
    "    mean = np.mean(data)\n",
    "    std = np.std(data)\n",
    "\n",
    "    if direction==ScalarOutcome.MAXIMIZE:\n",
    "        return mean/std\n",
    "    else:\n",
    "        return mean*std"
   ],
   "id": "72b1eb502a28d824"
  },
  {
   "metadata": {},
   "cell_type": "code",
   "outputs": [],
   "execution_count": null,
   "source": [
    "#Calculate signal to noise scores for every candidate policy\n",
    "overall_scores = {}\n",
    "for policy in np.unique(experiments['policy']):\n",
    "    scores = {}\n",
    "\n",
    "    logical = experiments['policy']==policy\n",
    "\n",
    "    for outcome in dike_model.outcomes:\n",
    "        value  = outcomes[outcome.name][logical]\n",
    "        sn_ratio = s_to_n(value, outcome.kind)\n",
    "        scores[outcome.name] = sn_ratio\n",
    "    overall_scores[policy] = scores\n",
    "scores = pd.DataFrame.from_dict(overall_scores).T"
   ],
   "id": "a33c42d8e5aba11"
  },
  {
   "metadata": {},
   "cell_type": "code",
   "outputs": [],
   "execution_count": null,
   "source": [
    "#Plotting with seaborn\n",
    "\n",
    "import pandas as pd\n",
    "import seaborn as sns\n",
    "import matplotlib.pyplot as plt\n",
    "from pandas.plotting import parallel_coordinates\n",
    "\n",
    "data1 = scores.copy()\n",
    "\n",
    "# Normalize the data\n",
    "zero_columns = data1.columns[(data1 == 0).all()]\n",
    "data_normalized1 = data1.copy()\n",
    "for col in data1.columns:\n",
    "    if col not in zero_columns:\n",
    "        data_normalized1[col] = (data1[col] - data1[col].min()) / (data1[col].max() - data1[col].min())\n",
    "\n",
    "data_normalized1['class'] = ['Policy ' + str(i) for i in range(len(data_normalized1))]\n",
    "\n",
    "plt.figure(figsize=(12, 6))\n",
    "parallel_coordinates(data_normalized1, 'class', colormap=plt.get_cmap(\"viridis\"))\n",
    "\n",
    "plt.title(\"Parallel Coordinates Plot Signal to Noise Ratio\")\n",
    "plt.xlabel(\"Outcomes\")\n",
    "plt.ylabel(\"Normalized Value\")\n",
    "\n",
    "ax = plt.gca()\n",
    "\n",
    "#Makes sure that x labels are vertically positioned\n",
    "ax.set_xticklabels(ax.get_xticklabels(), rotation=90)\n",
    "\n",
    "#Makes sure the legend is on the right side of the graph\n",
    "plt.legend(bbox_to_anchor=(1.05, 1), loc='upper left')\n",
    "\n",
    "#Remove the background grid\n",
    "plt.grid(False)\n",
    "plt.gca().spines['top'].set_visible(False)\n",
    "plt.gca().spines['right'].set_visible(False)\n",
    "plt.gca().spines['left'].set_visible(False)\n",
    "plt.gca().spines['bottom'].set_visible(False)\n",
    "\n",
    "plt.show()\n"
   ],
   "id": "78fa2254dd344ee1"
  },
  {
   "metadata": {},
   "cell_type": "markdown",
   "source": [
    "**Maximum Regret**\n",
    "\n",
    " Defined for each policy under each scenario, as the difference between the performance of the policy in a specific scenario and the performance of a no-regret (i.e. best possible result in that scenario) policy. The maximum regret is then the maximum of such regret values across all scenarios. We of course favor policy options with low maximum regret values."
   ],
   "id": "302af2d2c443aa2d"
  },
  {
   "metadata": {},
   "cell_type": "code",
   "outputs": [],
   "execution_count": null,
   "source": [
    "#Function to calculate regret\n",
    "def calculate_regret(data, best):\n",
    "    return np.abs(best - data)\n",
    "\n",
    "\n",
    "#Calculate max regret for every policy\n",
    "overall_regret = {}"
   ],
   "id": "12b24373b955f97e"
  },
  {
   "metadata": {},
   "cell_type": "code",
   "outputs": [],
   "execution_count": null,
   "source": [
    "#Calculate max regret for every policy\n",
    "overall_regret = {}\n",
    "max_regret = {}\n",
    "\n",
    "for outcome in dike_model.outcomes:\n",
    "    policy_column = experiments['policy']\n",
    "\n",
    "    # create a DataFrame with all the relevent information\n",
    "    data = pd.DataFrame({outcome.name: outcomes[outcome.name],\n",
    "                         \"policy\":experiments['policy'],\n",
    "                         \"scenario\":experiments['scenario']})\n",
    "\n",
    "    # reorient the data by indexing with policy and scenario id\n",
    "    data = data.pivot(index='scenario', columns='policy')\n",
    "\n",
    "    # flatten the resulting hierarchical index resulting from\n",
    "    # pivoting\n",
    "    data.columns = data.columns.get_level_values(1)\n",
    "\n",
    "    # we need to control the broadcasting.\n",
    "    # max returns a 1d vector across scenario id. By passing\n",
    "    # np.newaxis we ensure that the shape is the same as the data\n",
    "    # next we take the absolute value\n",
    "    #\n",
    "    # basically we take the difference of the maximum across\n",
    "    # the row and the actual values in the row\n",
    "    outcome_regret = (data.max(axis=1).values[:, np.newaxis] - data).abs()\n",
    "\n",
    "    overall_regret[outcome.name] = outcome_regret\n",
    "    max_regret[outcome.name] = outcome_regret.max()"
   ],
   "id": "b1d87413928190b3"
  },
  {
   "metadata": {},
   "cell_type": "code",
   "outputs": [],
   "execution_count": null,
   "source": [
    "# Create heatmap\n",
    "max_regret = pd.DataFrame(max_regret)\n",
    "sns.heatmap(max_regret/max_regret.max(), cmap='viridis', annot=True)\n",
    "plt.show()"
   ],
   "id": "6439950d7de2f095"
  },
  {
   "metadata": {
    "ExecuteTime": {
     "end_time": "2025-06-10T09:13:07.996978Z",
     "start_time": "2025-06-10T09:13:07.350230Z"
    }
   },
   "cell_type": "code",
   "source": [
    "#Normalized values\n",
    "data = max_regret.copy()\n",
    "plt.style.use({'figure.facecolor': 'white'})\n",
    "\n",
    "# Normalize the data\n",
    "zero_columns = data.columns[(data == 0).all()]\n",
    "data_normalized = data.copy()\n",
    "for col in data.columns:\n",
    "    if col not in zero_columns:\n",
    "        data_normalized[col] = (data[col] - data[col].min()) / (data[col].max() - data[col].min())\n",
    "data_normalized = data_normalized.reset_index()\n",
    "\n",
    "# Plot\n",
    "parallel_coordinates(data_normalized.loc[:, cols1], 'policy', colormap=plt.get_cmap(\"Set1\"))\n",
    "\n",
    "plt.title(\"Parallel Coordinates Plot Max Regret\")\n",
    "plt.xlabel(\"Outcomes\")\n",
    "plt.ylabel(\"Normalized Value\")\n",
    "\n",
    "ax = plt.gca()\n",
    "\n",
    "#Makes sure that x labels are vertically positioned\n",
    "ax.set_xticklabels(ax.get_xticklabels(), rotation=90)\n",
    "\n",
    "#Makes sure the legend is on the right side of the graph\n",
    "plt.legend(bbox_to_anchor=(1.05, 1), loc='upper left')\n",
    "\n",
    "#Remove the background grid\n",
    "plt.grid(False)\n",
    "plt.gca().spines['top'].set_visible(False)\n",
    "plt.gca().spines['right'].set_visible(False)\n",
    "plt.gca().spines['left'].set_visible(False)\n",
    "plt.gca().spines['bottom'].set_visible(False)\n",
    "\n",
    "plt.show()\n",
    "\n",
    "\n"
   ],
   "id": "97b83fdea282b83c",
   "outputs": [
    {
     "ename": "NameError",
     "evalue": "name 'max_regret' is not defined",
     "output_type": "error",
     "traceback": [
      "\u001B[1;31m---------------------------------------------------------------------------\u001B[0m",
      "\u001B[1;31mNameError\u001B[0m                                 Traceback (most recent call last)",
      "Cell \u001B[1;32mIn[3], line 2\u001B[0m\n\u001B[0;32m      1\u001B[0m \u001B[38;5;66;03m#Normalized values\u001B[39;00m\n\u001B[1;32m----> 2\u001B[0m data \u001B[38;5;241m=\u001B[39m \u001B[43mmax_regret\u001B[49m\u001B[38;5;241m.\u001B[39mcopy()\n\u001B[0;32m      3\u001B[0m plt\u001B[38;5;241m.\u001B[39mstyle\u001B[38;5;241m.\u001B[39muse({\u001B[38;5;124m'\u001B[39m\u001B[38;5;124mfigure.facecolor\u001B[39m\u001B[38;5;124m'\u001B[39m: \u001B[38;5;124m'\u001B[39m\u001B[38;5;124mwhite\u001B[39m\u001B[38;5;124m'\u001B[39m})\n\u001B[0;32m      5\u001B[0m \u001B[38;5;66;03m# Normalize the data\u001B[39;00m\n",
      "\u001B[1;31mNameError\u001B[0m: name 'max_regret' is not defined"
     ]
    }
   ],
   "execution_count": 3
  },
  {
   "metadata": {},
   "cell_type": "markdown",
   "source": "## Final Policies",
   "id": "246352e975eb1e81"
  },
  {
   "metadata": {},
   "cell_type": "code",
   "outputs": [],
   "execution_count": null,
   "source": [
    "# Create a list of final policies\n",
    "max_regret\n",
    "robustness_policies = []\n",
    "for policy in"
   ],
   "id": "b27ef20a5a5ee662"
  },
  {
   "metadata": {},
   "cell_type": "code",
   "outputs": [],
   "execution_count": null,
   "source": "",
   "id": "bbc972d8ad5593ab"
  },
  {
   "metadata": {},
   "cell_type": "code",
   "outputs": [],
   "execution_count": null,
   "source": "",
   "id": "56fc19072008b40f"
  }
 ],
 "metadata": {
  "kernelspec": {
   "display_name": "Python 3",
   "language": "python",
   "name": "python3"
  },
  "language_info": {
   "codemirror_mode": {
    "name": "ipython",
    "version": 2
   },
   "file_extension": ".py",
   "mimetype": "text/x-python",
   "name": "python",
   "nbconvert_exporter": "python",
   "pygments_lexer": "ipython2",
   "version": "2.7.6"
  }
 },
 "nbformat": 4,
 "nbformat_minor": 5
}
