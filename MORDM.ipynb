{
 "cells": [
  {
   "metadata": {},
   "cell_type": "markdown",
   "source": [
    "# MORDM\n",
    "\n",
    "Many Objectives Decision Making\n",
    "\n",
    "MORDM has four main steps:\n",
    "\n",
    "(i) problem formulation based on a systems analytical problem definition framework\n",
    "\n",
    "(ii) searching for candidate solutions that optimize multiple objectives by using multi-objective evolutionary algorithms\n",
    "\n",
    "(iii) generating an ensemble of scenarios to explore the effects of uncertainties\n",
    "\n",
    "(iv) using scenario discovery to detect the vulnerabilities of candidate solutions and improving thecandidate solutions"
   ],
   "id": "18d7157a31820668"
  },
  {
   "metadata": {
    "collapsed": true,
    "ExecuteTime": {
     "end_time": "2025-05-30T13:27:43.858706Z",
     "start_time": "2025-05-30T13:27:43.851143Z"
    }
   },
   "cell_type": "code",
   "source": [
    "from ema_workbench import (\n",
    "    Model,\n",
    "    Policy,\n",
    "    ema_logging,\n",
    "    SequentialEvaluator,\n",
    "    MultiprocessingEvaluator,\n",
    "    perform_experiments,\n",
    "    Samplers,\n",
    "    Scenario\n",
    ")\n",
    "import numpy as np\n",
    "import pandas as pd\n",
    "import copy\n",
    "from problem_formulation import get_model_for_problem_formulation, sum_over, sum_over_time, min_over, guaranteed95_over, guaranteed98_over\n",
    "\n",
    "from ema_workbench.em_framework.optimization import EpsilonProgress\n"
   ],
   "id": "initial_id",
   "outputs": [],
   "execution_count": 15
  },
  {
   "metadata": {
    "ExecuteTime": {
     "end_time": "2025-05-30T13:27:45.917727Z",
     "start_time": "2025-05-30T13:27:45.815035Z"
    }
   },
   "cell_type": "code",
   "source": [
    "# Select problem formulation 3 - Water Levels\n",
    "ema_logging.log_to_stderr(ema_logging.INFO)\n",
    "dike_model, planning_steps = get_model_for_problem_formulation(3)"
   ],
   "id": "c3b5ce0250693bea",
   "outputs": [],
   "execution_count": 16
  },
  {
   "metadata": {},
   "cell_type": "markdown",
   "source": [
    "## Problem Formulation\n",
    "\n",
    "\n",
    "The room for the river model has 6 outcome indicators. The first four indicators are specific to each dike and the last two concern the model as a whole:\n",
    "- Expected Annual Damage\n",
    "- Expected Number of Deaths\n",
    "- Dike Investment Costs\n",
    "- Water Level\n",
    "- RfR Total Costs\n",
    "- Expected Evacuation Costs\n",
    "\n",
    "As analysts for the transport company, the capacity to transport goods in the river is heavily dependent on the water level staying above a threshold. Therefore, it is crucial for the problem owner to focus on the policies where this target is met. Nonetheless, based on the insights provided by the different stakeholders during the debate, it becomes imperative to explore options that have the desired water level with the least amount of casualties and costs."
   ],
   "id": "b95fd043f2d52b2f"
  },
  {
   "metadata": {
    "ExecuteTime": {
     "end_time": "2025-05-30T13:27:51.581457Z",
     "start_time": "2025-05-30T13:27:51.568800Z"
    }
   },
   "cell_type": "code",
   "source": [
    "# Model Uncertainties\n",
    "for uncertainty in dike_model.uncertainties:\n",
    "    print(repr(uncertainty))\n",
    "\n",
    "uncertainties = copy.deepcopy(dike_model.uncertainties)"
   ],
   "id": "481124c2a6c2d9dc",
   "outputs": [
    {
     "name": "stdout",
     "output_type": "stream",
     "text": [
      "CategoricalParameter('discount rate 0', [0, 1, 2, 3])\n",
      "CategoricalParameter('discount rate 1', [0, 1, 2, 3])\n",
      "CategoricalParameter('discount rate 2', [0, 1, 2, 3])\n",
      "IntegerParameter('A.0_ID flood wave shape', 0, 132, resolution=None, default=None, variable_name=['A.0_ID flood wave shape'], pff=False)\n",
      "RealParameter('A.1_Bmax', 30, 350, resolution=None, default=None, variable_name=['A.1_Bmax'], pff=False)\n",
      "RealParameter('A.1_pfail', 0, 1, resolution=None, default=None, variable_name=['A.1_pfail'], pff=False)\n",
      "CategoricalParameter('A.1_Brate', [0, 1, 2])\n",
      "RealParameter('A.2_Bmax', 30, 350, resolution=None, default=None, variable_name=['A.2_Bmax'], pff=False)\n",
      "RealParameter('A.2_pfail', 0, 1, resolution=None, default=None, variable_name=['A.2_pfail'], pff=False)\n",
      "CategoricalParameter('A.2_Brate', [0, 1, 2])\n",
      "RealParameter('A.3_Bmax', 30, 350, resolution=None, default=None, variable_name=['A.3_Bmax'], pff=False)\n",
      "RealParameter('A.3_pfail', 0, 1, resolution=None, default=None, variable_name=['A.3_pfail'], pff=False)\n",
      "CategoricalParameter('A.3_Brate', [0, 1, 2])\n",
      "RealParameter('A.4_Bmax', 30, 350, resolution=None, default=None, variable_name=['A.4_Bmax'], pff=False)\n",
      "RealParameter('A.4_pfail', 0, 1, resolution=None, default=None, variable_name=['A.4_pfail'], pff=False)\n",
      "CategoricalParameter('A.4_Brate', [0, 1, 2])\n",
      "RealParameter('A.5_Bmax', 30, 350, resolution=None, default=None, variable_name=['A.5_Bmax'], pff=False)\n",
      "RealParameter('A.5_pfail', 0, 1, resolution=None, default=None, variable_name=['A.5_pfail'], pff=False)\n",
      "CategoricalParameter('A.5_Brate', [0, 1, 2])\n"
     ]
    }
   ],
   "execution_count": 17
  },
  {
   "metadata": {
    "ExecuteTime": {
     "end_time": "2025-05-30T13:27:56.098914Z",
     "start_time": "2025-05-30T13:27:56.087750Z"
    }
   },
   "cell_type": "code",
   "source": [
    "# Policy Levers\n",
    "for policy in dike_model.levers:\n",
    "    print(repr(policy))\n",
    "\n",
    "levers = copy.deepcopy(dike_model.levers)"
   ],
   "id": "bd5bd05dad6e94ba",
   "outputs": [
    {
     "name": "stdout",
     "output_type": "stream",
     "text": [
      "IntegerParameter('0_RfR 0', 0, 1, resolution=None, default=None, variable_name=['0_RfR 0'], pff=False)\n",
      "IntegerParameter('0_RfR 1', 0, 1, resolution=None, default=None, variable_name=['0_RfR 1'], pff=False)\n",
      "IntegerParameter('0_RfR 2', 0, 1, resolution=None, default=None, variable_name=['0_RfR 2'], pff=False)\n",
      "IntegerParameter('1_RfR 0', 0, 1, resolution=None, default=None, variable_name=['1_RfR 0'], pff=False)\n",
      "IntegerParameter('1_RfR 1', 0, 1, resolution=None, default=None, variable_name=['1_RfR 1'], pff=False)\n",
      "IntegerParameter('1_RfR 2', 0, 1, resolution=None, default=None, variable_name=['1_RfR 2'], pff=False)\n",
      "IntegerParameter('2_RfR 0', 0, 1, resolution=None, default=None, variable_name=['2_RfR 0'], pff=False)\n",
      "IntegerParameter('2_RfR 1', 0, 1, resolution=None, default=None, variable_name=['2_RfR 1'], pff=False)\n",
      "IntegerParameter('2_RfR 2', 0, 1, resolution=None, default=None, variable_name=['2_RfR 2'], pff=False)\n",
      "IntegerParameter('3_RfR 0', 0, 1, resolution=None, default=None, variable_name=['3_RfR 0'], pff=False)\n",
      "IntegerParameter('3_RfR 1', 0, 1, resolution=None, default=None, variable_name=['3_RfR 1'], pff=False)\n",
      "IntegerParameter('3_RfR 2', 0, 1, resolution=None, default=None, variable_name=['3_RfR 2'], pff=False)\n",
      "IntegerParameter('4_RfR 0', 0, 1, resolution=None, default=None, variable_name=['4_RfR 0'], pff=False)\n",
      "IntegerParameter('4_RfR 1', 0, 1, resolution=None, default=None, variable_name=['4_RfR 1'], pff=False)\n",
      "IntegerParameter('4_RfR 2', 0, 1, resolution=None, default=None, variable_name=['4_RfR 2'], pff=False)\n",
      "IntegerParameter('EWS_DaysToThreat', 0, 4, resolution=None, default=None, variable_name=['EWS_DaysToThreat'], pff=False)\n",
      "IntegerParameter('A.1_DikeIncrease 0', 0, 10, resolution=None, default=None, variable_name=['A.1_DikeIncrease 0'], pff=False)\n",
      "IntegerParameter('A.1_DikeIncrease 1', 0, 10, resolution=None, default=None, variable_name=['A.1_DikeIncrease 1'], pff=False)\n",
      "IntegerParameter('A.1_DikeIncrease 2', 0, 10, resolution=None, default=None, variable_name=['A.1_DikeIncrease 2'], pff=False)\n",
      "IntegerParameter('A.2_DikeIncrease 0', 0, 10, resolution=None, default=None, variable_name=['A.2_DikeIncrease 0'], pff=False)\n",
      "IntegerParameter('A.2_DikeIncrease 1', 0, 10, resolution=None, default=None, variable_name=['A.2_DikeIncrease 1'], pff=False)\n",
      "IntegerParameter('A.2_DikeIncrease 2', 0, 10, resolution=None, default=None, variable_name=['A.2_DikeIncrease 2'], pff=False)\n",
      "IntegerParameter('A.3_DikeIncrease 0', 0, 10, resolution=None, default=None, variable_name=['A.3_DikeIncrease 0'], pff=False)\n",
      "IntegerParameter('A.3_DikeIncrease 1', 0, 10, resolution=None, default=None, variable_name=['A.3_DikeIncrease 1'], pff=False)\n",
      "IntegerParameter('A.3_DikeIncrease 2', 0, 10, resolution=None, default=None, variable_name=['A.3_DikeIncrease 2'], pff=False)\n",
      "IntegerParameter('A.4_DikeIncrease 0', 0, 10, resolution=None, default=None, variable_name=['A.4_DikeIncrease 0'], pff=False)\n",
      "IntegerParameter('A.4_DikeIncrease 1', 0, 10, resolution=None, default=None, variable_name=['A.4_DikeIncrease 1'], pff=False)\n",
      "IntegerParameter('A.4_DikeIncrease 2', 0, 10, resolution=None, default=None, variable_name=['A.4_DikeIncrease 2'], pff=False)\n",
      "IntegerParameter('A.5_DikeIncrease 0', 0, 10, resolution=None, default=None, variable_name=['A.5_DikeIncrease 0'], pff=False)\n",
      "IntegerParameter('A.5_DikeIncrease 1', 0, 10, resolution=None, default=None, variable_name=['A.5_DikeIncrease 1'], pff=False)\n",
      "IntegerParameter('A.5_DikeIncrease 2', 0, 10, resolution=None, default=None, variable_name=['A.5_DikeIncrease 2'], pff=False)\n"
     ]
    }
   ],
   "execution_count": 18
  },
  {
   "metadata": {
    "ExecuteTime": {
     "end_time": "2025-05-30T13:27:57.848537Z",
     "start_time": "2025-05-30T13:27:57.842856Z"
    }
   },
   "cell_type": "code",
   "source": [
    "# Model Outcomes\n",
    "for outcome in dike_model.outcomes:\n",
    "    print(repr(outcome))"
   ],
   "id": "83255d65d4ffc50d",
   "outputs": [
    {
     "name": "stdout",
     "output_type": "stream",
     "text": [
      "ScalarOutcome('A.1 Total Costs', variable_name=('A.1_Expected Annual Damage', 'A.1_Dike Investment Costs'), function=<function sum_over at 0x0000018DA135AFC0>)\n",
      "ScalarOutcome('A.1_Expected Number of Deaths', variable_name=('A.1_Expected Number of Deaths',), function=<function sum_over at 0x0000018DA135AFC0>)\n",
      "ScalarOutcome('A.1_Minimum Water Level', variable_name=('A.1_Water Level',), function=<function min_over at 0x0000018DA1C36B60>)\n",
      "ScalarOutcome('A.1_95% Guaranteed Water Level', variable_name=('A.1_Water Level',), function=<function guaranteed95_over at 0x0000018DA1C50EA0>)\n",
      "ScalarOutcome('A.1_98% Guaranteed Water Level', variable_name=('A.1_Water Level',), function=<function guaranteed98_over at 0x0000018DA1C50F40>)\n",
      "ScalarOutcome('A.2 Total Costs', variable_name=('A.2_Expected Annual Damage', 'A.2_Dike Investment Costs'), function=<function sum_over at 0x0000018DA135AFC0>)\n",
      "ScalarOutcome('A.2_Expected Number of Deaths', variable_name=('A.2_Expected Number of Deaths',), function=<function sum_over at 0x0000018DA135AFC0>)\n",
      "ScalarOutcome('A.2_Minimum Water Level', variable_name=('A.2_Water Level',), function=<function min_over at 0x0000018DA1C36B60>)\n",
      "ScalarOutcome('A.2_95% Guaranteed Water Level', variable_name=('A.2_Water Level',), function=<function guaranteed95_over at 0x0000018DA1C50EA0>)\n",
      "ScalarOutcome('A.2_98% Guaranteed Water Level', variable_name=('A.2_Water Level',), function=<function guaranteed98_over at 0x0000018DA1C50F40>)\n",
      "ScalarOutcome('A.3 Total Costs', variable_name=('A.3_Expected Annual Damage', 'A.3_Dike Investment Costs'), function=<function sum_over at 0x0000018DA135AFC0>)\n",
      "ScalarOutcome('A.3_Expected Number of Deaths', variable_name=('A.3_Expected Number of Deaths',), function=<function sum_over at 0x0000018DA135AFC0>)\n",
      "ScalarOutcome('A.3_Minimum Water Level', variable_name=('A.3_Water Level',), function=<function min_over at 0x0000018DA1C36B60>)\n",
      "ScalarOutcome('A.3_95% Guaranteed Water Level', variable_name=('A.3_Water Level',), function=<function guaranteed95_over at 0x0000018DA1C50EA0>)\n",
      "ScalarOutcome('A.3_98% Guaranteed Water Level', variable_name=('A.3_Water Level',), function=<function guaranteed98_over at 0x0000018DA1C50F40>)\n",
      "ScalarOutcome('A.4 Total Costs', variable_name=('A.4_Expected Annual Damage', 'A.4_Dike Investment Costs'), function=<function sum_over at 0x0000018DA135AFC0>)\n",
      "ScalarOutcome('A.4_Expected Number of Deaths', variable_name=('A.4_Expected Number of Deaths',), function=<function sum_over at 0x0000018DA135AFC0>)\n",
      "ScalarOutcome('A.4_Minimum Water Level', variable_name=('A.4_Water Level',), function=<function min_over at 0x0000018DA1C36B60>)\n",
      "ScalarOutcome('A.4_95% Guaranteed Water Level', variable_name=('A.4_Water Level',), function=<function guaranteed95_over at 0x0000018DA1C50EA0>)\n",
      "ScalarOutcome('A.4_98% Guaranteed Water Level', variable_name=('A.4_Water Level',), function=<function guaranteed98_over at 0x0000018DA1C50F40>)\n",
      "ScalarOutcome('A.5 Total Costs', variable_name=('A.5_Expected Annual Damage', 'A.5_Dike Investment Costs'), function=<function sum_over at 0x0000018DA135AFC0>)\n",
      "ScalarOutcome('A.5_Expected Number of Deaths', variable_name=('A.5_Expected Number of Deaths',), function=<function sum_over at 0x0000018DA135AFC0>)\n",
      "ScalarOutcome('A.5_Minimum Water Level', variable_name=('A.5_Water Level',), function=<function min_over at 0x0000018DA1C36B60>)\n",
      "ScalarOutcome('A.5_95% Guaranteed Water Level', variable_name=('A.5_Water Level',), function=<function guaranteed95_over at 0x0000018DA1C50EA0>)\n",
      "ScalarOutcome('A.5_98% Guaranteed Water Level', variable_name=('A.5_Water Level',), function=<function guaranteed98_over at 0x0000018DA1C50F40>)\n",
      "ScalarOutcome('RfR Total Costs', variable_name=('RfR Total Costs',), function=<function sum_over at 0x0000018DA135AFC0>)\n",
      "ScalarOutcome('Expected Evacuation Costs', variable_name=('Expected Evacuation Costs',), function=<function sum_over at 0x0000018DA135AFC0>)\n"
     ]
    }
   ],
   "execution_count": 19
  },
  {
   "metadata": {},
   "cell_type": "markdown",
   "source": [
    "## Candidate Strategies\n",
    "\n",
    "### Search over levers\n",
    "Direct search is used to go through the decision levers to find good candidate strategies that meet the desired outcomes of the problem owner."
   ],
   "id": "f5c5382f5efeb8e7"
  },
  {
   "metadata": {
    "ExecuteTime": {
     "end_time": "2025-05-30T13:28:06.282169Z",
     "start_time": "2025-05-30T13:28:06.276936Z"
    }
   },
   "cell_type": "code",
   "source": [
    "# Define a reference scenario (This scenario came by default on the model)\n",
    "reference_values = {\n",
    "        \"Bmax\": 175,\n",
    "        \"Brate\": 1.5,\n",
    "        \"pfail\": 0.5,\n",
    "        \"discount rate 0\": 3.5,\n",
    "        \"discount rate 1\": 3.5,\n",
    "        \"discount rate 2\": 3.5,\n",
    "        \"ID flood wave shape\": 4,\n",
    "    }\n",
    "scen1 = {}\n",
    "for key in dike_model.uncertainties:\n",
    "    name_split = key.name.split(\"_\")\n",
    "\n",
    "    if len(name_split) == 1:\n",
    "        scen1.update({key.name: reference_values[key.name]})\n",
    "\n",
    "    else:\n",
    "        scen1.update({key.name: reference_values[name_split[1]]})\n",
    "\n",
    "ref_scenario = Scenario(\"reference\", **scen1)"
   ],
   "id": "aa30e39fbbb1e240",
   "outputs": [],
   "execution_count": 20
  },
  {
   "metadata": {
    "ExecuteTime": {
     "end_time": "2025-05-30T13:28:51.394223Z",
     "start_time": "2025-05-30T13:28:11.409720Z"
    }
   },
   "cell_type": "code",
   "source": [
    "# Define metrics for the optimization\n",
    "convergence_metrics = [EpsilonProgress()]\n",
    "epsilon = [1e3] * len(dike_model.outcomes)\n",
    "nfe = 200  # proof of principle only, way to low for actual use\n",
    "\n",
    "with MultiprocessingEvaluator(dike_model) as evaluator:\n",
    "    results, convergence = evaluator.optimize(\n",
    "        nfe=nfe,\n",
    "        searchover=\"levers\",\n",
    "        epsilons=epsilon,\n",
    "        convergence=convergence_metrics,\n",
    "        reference=ref_scenario,\n",
    "        )"
   ],
   "id": "265c14751f06148b",
   "outputs": [
    {
     "name": "stderr",
     "output_type": "stream",
     "text": [
      "[MainProcess/INFO] pool started with 12 workers\n",
      "100%|████████████████████████████████████████| 200/200 [00:16<00:00, 12.01it/s]\n",
      "[MainProcess/INFO] optimization completed, found 97 solutions\n",
      "[MainProcess/INFO] terminating pool\n"
     ]
    }
   ],
   "execution_count": 21
  },
  {
   "metadata": {
    "ExecuteTime": {
     "end_time": "2025-05-30T13:31:53.053951Z",
     "start_time": "2025-05-30T13:31:52.900515Z"
    }
   },
   "cell_type": "code",
   "source": [
    "results\n",
    "results.to_excel('MORDM.xlsx')"
   ],
   "id": "8ecc00c61dd646aa",
   "outputs": [],
   "execution_count": 23
  },
  {
   "metadata": {
    "jupyter": {
     "is_executing": true
    },
    "ExecuteTime": {
     "start_time": "2025-05-30T13:33:21.855937Z"
    }
   },
   "cell_type": "code",
   "source": [
    "ema_logging.log_to_stderr(ema_logging.INFO)\n",
    "# Evolutionary algorithm\n",
    "with MultiprocessingEvaluator(dike_model) as evaluator:\n",
    "    results = evaluator.optimize(nfe=250, searchover=\"levers\", epsilons=[0.1] * len(dike_model.outcomes))"
   ],
   "id": "6c38617de7dedaf7",
   "outputs": [
    {
     "name": "stderr",
     "output_type": "stream",
     "text": [
      "[MainProcess/INFO] pool started with 12 workers\n",
      "  0%|                                                  | 0/250 [00:00<?, ?it/s]"
     ]
    }
   ],
   "execution_count": null
  }
 ],
 "metadata": {
  "kernelspec": {
   "display_name": "Python 3",
   "language": "python",
   "name": "python3"
  },
  "language_info": {
   "codemirror_mode": {
    "name": "ipython",
    "version": 2
   },
   "file_extension": ".py",
   "mimetype": "text/x-python",
   "name": "python",
   "nbconvert_exporter": "python",
   "pygments_lexer": "ipython2",
   "version": "2.7.6"
  }
 },
 "nbformat": 4,
 "nbformat_minor": 5
}
