{
 "cells": [
  {
   "metadata": {},
   "cell_type": "markdown",
   "source": [
    "# MORDM\n",
    "\n",
    "Many Objectives Decision Making\n",
    "\n",
    "MORDM has four main steps:\n",
    "\n",
    "(i) problem formulation based on a systems analytical problem definition framework\n",
    "\n",
    "(ii) searching for candidate solutions that optimize multiple objectives by using multi-objective evolutionary algorithms\n",
    "\n",
    "(iii) generating an ensemble of scenarios to explore the effects of uncertainties\n",
    "\n",
    "(iv) using scenario discovery to detect the vulnerabilities of candidate solutions and improving thecandidate solutions"
   ],
   "id": "18d7157a31820668"
  },
  {
   "metadata": {
    "collapsed": true,
    "ExecuteTime": {
     "end_time": "2025-05-30T14:44:53.201097Z",
     "start_time": "2025-05-30T14:44:53.193531Z"
    }
   },
   "cell_type": "code",
   "source": [
    "from ema_workbench import (\n",
    "    Model,\n",
    "    Policy,\n",
    "    ema_logging,\n",
    "    SequentialEvaluator,\n",
    "    MultiprocessingEvaluator,\n",
    "    perform_experiments,\n",
    "    Samplers,\n",
    "    Scenario,\n",
    "    ScalarOutcome\n",
    ")\n",
    "import numpy as np\n",
    "import pandas as pd\n",
    "import copy\n",
    "from problem_formulation import get_model_for_problem_formulation, sum_over, sum_over_time, min_over, guaranteed95_over, guaranteed98_over\n",
    "\n",
    "from ema_workbench.em_framework.optimization import EpsilonProgress\n",
    "\n",
    "import seaborn as sns\n",
    "import matplotlib.pyplot as plt"
   ],
   "id": "initial_id",
   "outputs": [],
   "execution_count": 35
  },
  {
   "metadata": {
    "ExecuteTime": {
     "end_time": "2025-05-30T13:47:30.726945Z",
     "start_time": "2025-05-30T13:47:30.292211Z"
    }
   },
   "cell_type": "code",
   "source": [
    "# Select problem formulation 3 - Water Levels\n",
    "ema_logging.log_to_stderr(ema_logging.INFO)\n",
    "dike_model, planning_steps = get_model_for_problem_formulation(3)"
   ],
   "id": "c3b5ce0250693bea",
   "outputs": [],
   "execution_count": 3
  },
  {
   "metadata": {},
   "cell_type": "markdown",
   "source": [
    "## Problem Formulation\n",
    "\n",
    "\n",
    "The room for the river model has 6 outcome indicators. The first four indicators are specific to each dike and the last two concern the model as a whole:\n",
    "- Expected Annual Damage\n",
    "- Expected Number of Deaths\n",
    "- Dike Investment Costs\n",
    "- Water Level\n",
    "- RfR Total Costs\n",
    "- Expected Evacuation Costs\n",
    "\n",
    "As analysts for the transport company, the capacity to transport goods in the river is heavily dependent on the water level staying above a threshold. Therefore, it is crucial for the problem owner to focus on the policies where this target is met. Nonetheless, based on the insights provided by the different stakeholders during the debate, it becomes imperative to explore options that have the desired water level with the least amount of casualties and costs."
   ],
   "id": "b95fd043f2d52b2f"
  },
  {
   "metadata": {
    "ExecuteTime": {
     "end_time": "2025-05-30T13:47:35.641107Z",
     "start_time": "2025-05-30T13:47:35.629792Z"
    }
   },
   "cell_type": "code",
   "source": [
    "# Model Uncertainties\n",
    "for uncertainty in dike_model.uncertainties:\n",
    "    print(repr(uncertainty))\n",
    "\n",
    "uncertainties = copy.deepcopy(dike_model.uncertainties)"
   ],
   "id": "481124c2a6c2d9dc",
   "outputs": [
    {
     "name": "stdout",
     "output_type": "stream",
     "text": [
      "CategoricalParameter('discount rate 0', [0, 1, 2, 3])\n",
      "CategoricalParameter('discount rate 1', [0, 1, 2, 3])\n",
      "CategoricalParameter('discount rate 2', [0, 1, 2, 3])\n",
      "IntegerParameter('A.0_ID flood wave shape', 0, 132, resolution=None, default=None, variable_name=['A.0_ID flood wave shape'], pff=False)\n",
      "RealParameter('A.1_Bmax', 30, 350, resolution=None, default=None, variable_name=['A.1_Bmax'], pff=False)\n",
      "RealParameter('A.1_pfail', 0, 1, resolution=None, default=None, variable_name=['A.1_pfail'], pff=False)\n",
      "CategoricalParameter('A.1_Brate', [0, 1, 2])\n",
      "RealParameter('A.2_Bmax', 30, 350, resolution=None, default=None, variable_name=['A.2_Bmax'], pff=False)\n",
      "RealParameter('A.2_pfail', 0, 1, resolution=None, default=None, variable_name=['A.2_pfail'], pff=False)\n",
      "CategoricalParameter('A.2_Brate', [0, 1, 2])\n",
      "RealParameter('A.3_Bmax', 30, 350, resolution=None, default=None, variable_name=['A.3_Bmax'], pff=False)\n",
      "RealParameter('A.3_pfail', 0, 1, resolution=None, default=None, variable_name=['A.3_pfail'], pff=False)\n",
      "CategoricalParameter('A.3_Brate', [0, 1, 2])\n",
      "RealParameter('A.4_Bmax', 30, 350, resolution=None, default=None, variable_name=['A.4_Bmax'], pff=False)\n",
      "RealParameter('A.4_pfail', 0, 1, resolution=None, default=None, variable_name=['A.4_pfail'], pff=False)\n",
      "CategoricalParameter('A.4_Brate', [0, 1, 2])\n",
      "RealParameter('A.5_Bmax', 30, 350, resolution=None, default=None, variable_name=['A.5_Bmax'], pff=False)\n",
      "RealParameter('A.5_pfail', 0, 1, resolution=None, default=None, variable_name=['A.5_pfail'], pff=False)\n",
      "CategoricalParameter('A.5_Brate', [0, 1, 2])\n"
     ]
    }
   ],
   "execution_count": 4
  },
  {
   "metadata": {
    "ExecuteTime": {
     "end_time": "2025-05-30T13:47:40.764082Z",
     "start_time": "2025-05-30T13:47:40.750761Z"
    }
   },
   "cell_type": "code",
   "source": [
    "# Policy Levers\n",
    "for policy in dike_model.levers:\n",
    "    print(repr(policy))\n",
    "\n",
    "levers = copy.deepcopy(dike_model.levers)"
   ],
   "id": "bd5bd05dad6e94ba",
   "outputs": [
    {
     "name": "stdout",
     "output_type": "stream",
     "text": [
      "IntegerParameter('0_RfR 0', 0, 1, resolution=None, default=None, variable_name=['0_RfR 0'], pff=False)\n",
      "IntegerParameter('0_RfR 1', 0, 1, resolution=None, default=None, variable_name=['0_RfR 1'], pff=False)\n",
      "IntegerParameter('0_RfR 2', 0, 1, resolution=None, default=None, variable_name=['0_RfR 2'], pff=False)\n",
      "IntegerParameter('1_RfR 0', 0, 1, resolution=None, default=None, variable_name=['1_RfR 0'], pff=False)\n",
      "IntegerParameter('1_RfR 1', 0, 1, resolution=None, default=None, variable_name=['1_RfR 1'], pff=False)\n",
      "IntegerParameter('1_RfR 2', 0, 1, resolution=None, default=None, variable_name=['1_RfR 2'], pff=False)\n",
      "IntegerParameter('2_RfR 0', 0, 1, resolution=None, default=None, variable_name=['2_RfR 0'], pff=False)\n",
      "IntegerParameter('2_RfR 1', 0, 1, resolution=None, default=None, variable_name=['2_RfR 1'], pff=False)\n",
      "IntegerParameter('2_RfR 2', 0, 1, resolution=None, default=None, variable_name=['2_RfR 2'], pff=False)\n",
      "IntegerParameter('3_RfR 0', 0, 1, resolution=None, default=None, variable_name=['3_RfR 0'], pff=False)\n",
      "IntegerParameter('3_RfR 1', 0, 1, resolution=None, default=None, variable_name=['3_RfR 1'], pff=False)\n",
      "IntegerParameter('3_RfR 2', 0, 1, resolution=None, default=None, variable_name=['3_RfR 2'], pff=False)\n",
      "IntegerParameter('4_RfR 0', 0, 1, resolution=None, default=None, variable_name=['4_RfR 0'], pff=False)\n",
      "IntegerParameter('4_RfR 1', 0, 1, resolution=None, default=None, variable_name=['4_RfR 1'], pff=False)\n",
      "IntegerParameter('4_RfR 2', 0, 1, resolution=None, default=None, variable_name=['4_RfR 2'], pff=False)\n",
      "IntegerParameter('EWS_DaysToThreat', 0, 4, resolution=None, default=None, variable_name=['EWS_DaysToThreat'], pff=False)\n",
      "IntegerParameter('A.1_DikeIncrease 0', 0, 10, resolution=None, default=None, variable_name=['A.1_DikeIncrease 0'], pff=False)\n",
      "IntegerParameter('A.1_DikeIncrease 1', 0, 10, resolution=None, default=None, variable_name=['A.1_DikeIncrease 1'], pff=False)\n",
      "IntegerParameter('A.1_DikeIncrease 2', 0, 10, resolution=None, default=None, variable_name=['A.1_DikeIncrease 2'], pff=False)\n",
      "IntegerParameter('A.2_DikeIncrease 0', 0, 10, resolution=None, default=None, variable_name=['A.2_DikeIncrease 0'], pff=False)\n",
      "IntegerParameter('A.2_DikeIncrease 1', 0, 10, resolution=None, default=None, variable_name=['A.2_DikeIncrease 1'], pff=False)\n",
      "IntegerParameter('A.2_DikeIncrease 2', 0, 10, resolution=None, default=None, variable_name=['A.2_DikeIncrease 2'], pff=False)\n",
      "IntegerParameter('A.3_DikeIncrease 0', 0, 10, resolution=None, default=None, variable_name=['A.3_DikeIncrease 0'], pff=False)\n",
      "IntegerParameter('A.3_DikeIncrease 1', 0, 10, resolution=None, default=None, variable_name=['A.3_DikeIncrease 1'], pff=False)\n",
      "IntegerParameter('A.3_DikeIncrease 2', 0, 10, resolution=None, default=None, variable_name=['A.3_DikeIncrease 2'], pff=False)\n",
      "IntegerParameter('A.4_DikeIncrease 0', 0, 10, resolution=None, default=None, variable_name=['A.4_DikeIncrease 0'], pff=False)\n",
      "IntegerParameter('A.4_DikeIncrease 1', 0, 10, resolution=None, default=None, variable_name=['A.4_DikeIncrease 1'], pff=False)\n",
      "IntegerParameter('A.4_DikeIncrease 2', 0, 10, resolution=None, default=None, variable_name=['A.4_DikeIncrease 2'], pff=False)\n",
      "IntegerParameter('A.5_DikeIncrease 0', 0, 10, resolution=None, default=None, variable_name=['A.5_DikeIncrease 0'], pff=False)\n",
      "IntegerParameter('A.5_DikeIncrease 1', 0, 10, resolution=None, default=None, variable_name=['A.5_DikeIncrease 1'], pff=False)\n",
      "IntegerParameter('A.5_DikeIncrease 2', 0, 10, resolution=None, default=None, variable_name=['A.5_DikeIncrease 2'], pff=False)\n"
     ]
    }
   ],
   "execution_count": 5
  },
  {
   "metadata": {
    "ExecuteTime": {
     "end_time": "2025-05-30T13:47:45.608597Z",
     "start_time": "2025-05-30T13:47:45.603254Z"
    }
   },
   "cell_type": "code",
   "source": [
    "# Model Outcomes\n",
    "for outcome in dike_model.outcomes:\n",
    "    print(repr(outcome))"
   ],
   "id": "83255d65d4ffc50d",
   "outputs": [
    {
     "name": "stdout",
     "output_type": "stream",
     "text": [
      "ScalarOutcome('A.1 Total Costs', variable_name=('A.1_Expected Annual Damage', 'A.1_Dike Investment Costs'), function=<function sum_over at 0x0000022237D3E520>)\n",
      "ScalarOutcome('A.1_Expected Number of Deaths', variable_name=('A.1_Expected Number of Deaths',), function=<function sum_over at 0x0000022237D3E520>)\n",
      "ScalarOutcome('A.1_Minimum Water Level', variable_name=('A.1_Water Level',), function=<function min_over at 0x000002223863A840>)\n",
      "ScalarOutcome('A.1_95% Guaranteed Water Level', variable_name=('A.1_Water Level',), function=<function guaranteed95_over at 0x0000022238664B80>)\n",
      "ScalarOutcome('A.1_98% Guaranteed Water Level', variable_name=('A.1_Water Level',), function=<function guaranteed98_over at 0x0000022238664C20>)\n",
      "ScalarOutcome('A.2 Total Costs', variable_name=('A.2_Expected Annual Damage', 'A.2_Dike Investment Costs'), function=<function sum_over at 0x0000022237D3E520>)\n",
      "ScalarOutcome('A.2_Expected Number of Deaths', variable_name=('A.2_Expected Number of Deaths',), function=<function sum_over at 0x0000022237D3E520>)\n",
      "ScalarOutcome('A.2_Minimum Water Level', variable_name=('A.2_Water Level',), function=<function min_over at 0x000002223863A840>)\n",
      "ScalarOutcome('A.2_95% Guaranteed Water Level', variable_name=('A.2_Water Level',), function=<function guaranteed95_over at 0x0000022238664B80>)\n",
      "ScalarOutcome('A.2_98% Guaranteed Water Level', variable_name=('A.2_Water Level',), function=<function guaranteed98_over at 0x0000022238664C20>)\n",
      "ScalarOutcome('A.3 Total Costs', variable_name=('A.3_Expected Annual Damage', 'A.3_Dike Investment Costs'), function=<function sum_over at 0x0000022237D3E520>)\n",
      "ScalarOutcome('A.3_Expected Number of Deaths', variable_name=('A.3_Expected Number of Deaths',), function=<function sum_over at 0x0000022237D3E520>)\n",
      "ScalarOutcome('A.3_Minimum Water Level', variable_name=('A.3_Water Level',), function=<function min_over at 0x000002223863A840>)\n",
      "ScalarOutcome('A.3_95% Guaranteed Water Level', variable_name=('A.3_Water Level',), function=<function guaranteed95_over at 0x0000022238664B80>)\n",
      "ScalarOutcome('A.3_98% Guaranteed Water Level', variable_name=('A.3_Water Level',), function=<function guaranteed98_over at 0x0000022238664C20>)\n",
      "ScalarOutcome('A.4 Total Costs', variable_name=('A.4_Expected Annual Damage', 'A.4_Dike Investment Costs'), function=<function sum_over at 0x0000022237D3E520>)\n",
      "ScalarOutcome('A.4_Expected Number of Deaths', variable_name=('A.4_Expected Number of Deaths',), function=<function sum_over at 0x0000022237D3E520>)\n",
      "ScalarOutcome('A.4_Minimum Water Level', variable_name=('A.4_Water Level',), function=<function min_over at 0x000002223863A840>)\n",
      "ScalarOutcome('A.4_95% Guaranteed Water Level', variable_name=('A.4_Water Level',), function=<function guaranteed95_over at 0x0000022238664B80>)\n",
      "ScalarOutcome('A.4_98% Guaranteed Water Level', variable_name=('A.4_Water Level',), function=<function guaranteed98_over at 0x0000022238664C20>)\n",
      "ScalarOutcome('A.5 Total Costs', variable_name=('A.5_Expected Annual Damage', 'A.5_Dike Investment Costs'), function=<function sum_over at 0x0000022237D3E520>)\n",
      "ScalarOutcome('A.5_Expected Number of Deaths', variable_name=('A.5_Expected Number of Deaths',), function=<function sum_over at 0x0000022237D3E520>)\n",
      "ScalarOutcome('A.5_Minimum Water Level', variable_name=('A.5_Water Level',), function=<function min_over at 0x000002223863A840>)\n",
      "ScalarOutcome('A.5_95% Guaranteed Water Level', variable_name=('A.5_Water Level',), function=<function guaranteed95_over at 0x0000022238664B80>)\n",
      "ScalarOutcome('A.5_98% Guaranteed Water Level', variable_name=('A.5_Water Level',), function=<function guaranteed98_over at 0x0000022238664C20>)\n",
      "ScalarOutcome('RfR Total Costs', variable_name=('RfR Total Costs',), function=<function sum_over at 0x0000022237D3E520>)\n",
      "ScalarOutcome('Expected Evacuation Costs', variable_name=('Expected Evacuation Costs',), function=<function sum_over at 0x0000022237D3E520>)\n"
     ]
    }
   ],
   "execution_count": 6
  },
  {
   "metadata": {},
   "cell_type": "markdown",
   "source": [
    "## Candidate Strategies\n",
    "There are three ways in which we can use optimization in the workbench:\n",
    "\n",
    "### Option 1: Search over levers\n",
    "Direct search is used to go through the decision levers to find good candidate strategies that meet the desired outcomes of the problem owner."
   ],
   "id": "f5c5382f5efeb8e7"
  },
  {
   "metadata": {
    "ExecuteTime": {
     "end_time": "2025-05-30T14:16:26.002938Z",
     "start_time": "2025-05-30T14:16:25.989497Z"
    }
   },
   "cell_type": "code",
   "source": [
    "# Define a reference scenario. (EXAMPLE SCENARIO) Change for PRIM results (ONLY STATISTICAL SIGNIFICANT VALUES)\n",
    "\n",
    "reference_scenario = Scenario('reference', **{'discount rate 0': 2.5,\n",
    "                                              'discount rate 1': 2.5,\n",
    "                                              'discount rate 2': 2.5,\n",
    "                                              'A.0_ID flood wave shape': 75,\n",
    "                                              'A.1_Bmax': 190, 'A.1_pfail': (0.2 - 0.0005)/2, 'A.1_Brate': 1.5,\n",
    "                                              'A.2_Bmax': 190, 'A.2_pfail': 0.5, 'A.2_Brate': 1.5,\n",
    "                                              'A.3_Bmax': 190, 'A.3_pfail': 0.5, 'A.3_Brate': 1.5,\n",
    "                                              'A.4_Bmax': 190, 'A.4_pfail': 0.5, 'A.4_Brate': 1.5,\n",
    "                                              'A.5_Bmax': 190, 'A.5_pfail': 0.5, 'A.5_Brate': 1.5})"
   ],
   "id": "aa30e39fbbb1e240",
   "outputs": [],
   "execution_count": 24
  },
  {
   "metadata": {
    "ExecuteTime": {
     "end_time": "2025-05-30T14:22:03.485361Z",
     "start_time": "2025-05-30T14:20:02.429474Z"
    }
   },
   "cell_type": "code",
   "source": [
    "# Define metrics for the optimization\n",
    "convergence_metrics = [EpsilonProgress()]\n",
    "epsilon = [0.05] * len(dike_model.outcomes)\n",
    "nfe = 1000  # proof of principle only, way to low for actual use\n",
    "\n",
    "with MultiprocessingEvaluator(dike_model) as evaluator:\n",
    "    results, convergence = evaluator.optimize(\n",
    "        nfe=nfe,\n",
    "        searchover=\"levers\",\n",
    "        epsilons=epsilon,\n",
    "        convergence=convergence_metrics,\n",
    "        reference=reference_scenario,\n",
    "        )"
   ],
   "id": "265c14751f06148b",
   "outputs": [
    {
     "name": "stderr",
     "output_type": "stream",
     "text": [
      "[MainProcess/INFO] pool started with 12 workers\n",
      "100%|██████████████████████████████████████| 1000/1000 [01:35<00:00, 10.42it/s]\n",
      "[MainProcess/INFO] optimization completed, found 390 solutions\n",
      "[MainProcess/INFO] terminating pool\n"
     ]
    }
   ],
   "execution_count": 29
  },
  {
   "metadata": {
    "ExecuteTime": {
     "end_time": "2025-05-30T14:22:13.716923Z",
     "start_time": "2025-05-30T14:22:13.507053Z"
    }
   },
   "cell_type": "code",
   "source": [
    "results\n",
    "results.to_excel('MORDM_.xlsx')"
   ],
   "id": "8ecc00c61dd646aa",
   "outputs": [],
   "execution_count": 30
  },
  {
   "metadata": {
    "ExecuteTime": {
     "end_time": "2025-05-30T14:22:24.339168Z",
     "start_time": "2025-05-30T14:22:24.271411Z"
    }
   },
   "cell_type": "code",
   "source": [
    "#fig, (ax1, ax2) = plt.subplots(ncols=2, sharex=True)\n",
    "fig, ax1 = plt.subplots(ncols=1)\n",
    "ax1.plot(convergence.epsilon_progress)\n",
    "ax1.set_xlabel(\"nr. of generations\")\n",
    "ax1.set_ylabel(r\"$\\epsilon$ progress\")\n",
    "sns.despine()"
   ],
   "id": "f52eb91e76575067",
   "outputs": [
    {
     "data": {
      "text/plain": [
       "<Figure size 640x480 with 1 Axes>"
      ],
      "image/png": "[encoded data removed]"
     },
     "metadata": {},
     "output_type": "display_data"
    }
   ],
   "execution_count": 32
  },
  {
   "metadata": {},
   "cell_type": "markdown",
   "source": "### Option 2: Search over uncertainties",
   "id": "21c797b58e9af10"
  },
  {
   "metadata": {
    "ExecuteTime": {
     "end_time": "2025-05-30T14:12:17.879151Z",
     "start_time": "2025-05-30T14:12:17.868862Z"
    }
   },
   "cell_type": "code",
   "source": [
    "\n",
    "# Define a reference scenario (This scenario came by default on the model). Change for PRIM results (ONLY STATISTICAL SIGNIFICANT VALUES)\n",
    "reference_values = {\n",
    "    \"Bmax\": 175,\n",
    "    \"Brate\": 1.5,\n",
    "    \"pfail\": 0.5,\n",
    "    \"discount rate 0\": 3.5,\n",
    "    \"discount rate 1\": 3.5,\n",
    "    \"discount rate 2\": 3.5,\n",
    "    \"ID flood wave shape\": 4,\n",
    "}\n",
    "scen1 = {}\n",
    "for key in dike_model.uncertainties:\n",
    "    name_split = key.name.split(\"_\")\n",
    "\n",
    "    if len(name_split) == 1:\n",
    "        scen1.update({key.name: reference_values[key.name]})\n",
    "\n",
    "    else:\n",
    "        scen1.update({key.name: reference_values[name_split[1]]})\n",
    "\n",
    "ref_scenario = Scenario(\"reference\", **scen1)"
   ],
   "id": "123bba1a4e86843f",
   "outputs": [],
   "execution_count": 21
  },
  {
   "metadata": {},
   "cell_type": "code",
   "outputs": [],
   "execution_count": null,
   "source": [
    "# Define metrics for the optimization\n",
    "convergence_metrics = [EpsilonProgress()]\n",
    "epsilon = [0.05] * len(dike_model.outcomes)\n",
    "nfe = 1000  # proof of principle only, way to low for actual use\n",
    "\n",
    "with MultiprocessingEvaluator(dike_model) as evaluator:\n",
    "    results, convergence = evaluator.optimize(\n",
    "        nfe=nfe,\n",
    "        searchover=\"uncertainties\",\n",
    "        epsilons=epsilon,\n",
    "        convergence=convergence_metrics,\n",
    "        reference=reference_values,\n",
    "        )"
   ],
   "id": "7c665b8fe9e07c07"
  },
  {
   "metadata": {},
   "cell_type": "markdown",
   "source": [
    "### Option 3: Search over decision levers given a set of scenarios\n",
    "Search over the levers for solutions that have robust performance over a set of scenarios"
   ],
   "id": "5c2540769c12fab8"
  },
  {
   "metadata": {
    "ExecuteTime": {
     "end_time": "2025-05-30T14:52:10.682294Z",
     "start_time": "2025-05-30T14:52:10.677600Z"
    }
   },
   "cell_type": "code",
   "source": [
    "import functools\n",
    "\n",
    "# Robustness functions\n",
    "percentile10 = functools.partial(np.percentile, q=10)\n",
    "percentile90 = functools.partial(np.percentile, q=90)\n",
    "\n",
    "# Definition of kinds - To ask oscar\n",
    "MINIMIZE = ScalarOutcome.MINIMIZE\n",
    "\n",
    "#A robustness metric takes as input the performance of a candidate policy over a set of scenarios and returns a single robustness score.\n",
    "# THIS IS A TEST\n",
    "robustness_functions = [\n",
    "    ScalarOutcome(\n",
    "        \"90th percentile RFR Total Costs\", kind=MINIMIZE, variable_name= \"RfR Total Costs\", function=percentile90\n",
    "    )\n",
    "]"
   ],
   "id": "77c55e0e88930584",
   "outputs": [],
   "execution_count": 42
  },
  {
   "metadata": {},
   "cell_type": "markdown",
   "source": "With the robustness metrics specified, and the scenarios, sampled, we can now perform robust many-objective optimization. This is computationally very expensive since each candidate solution is going to be run for ten scenarios before we can calculate the robustness for each outcome of interest.",
   "id": "d73ee0d68bd8c3c2"
  },
  {
   "metadata": {
    "ExecuteTime": {
     "end_time": "2025-05-30T14:52:15.266342Z",
     "start_time": "2025-05-30T14:52:15.242490Z"
    }
   },
   "cell_type": "code",
   "source": [
    "from ema_workbench.em_framework import sample_uncertainties\n",
    "\n",
    "n_scenarios = 10\n",
    "scenarios = sample_uncertainties(dike_model, n_scenarios)"
   ],
   "id": "82824706b64b9ab0",
   "outputs": [],
   "execution_count": 43
  },
  {
   "metadata": {
    "ExecuteTime": {
     "end_time": "2025-05-30T14:56:23.241879Z",
     "start_time": "2025-05-30T14:52:19.487015Z"
    }
   },
   "cell_type": "code",
   "source": [
    "from ema_workbench.em_framework import ArchiveLogger\n",
    "\n",
    "nfe = 200\n",
    "with MultiprocessingEvaluator(dike_model) as evaluator:\n",
    "    robust_results = evaluator.robust_optimize(\n",
    "        robustness_functions,\n",
    "        scenarios,\n",
    "        nfe=nfe,\n",
    "        epsilons=[\n",
    "            0.025,\n",
    "        ]\n",
    "        * len(robustness_functions),\n",
    "    )"
   ],
   "id": "3aa4f7b426654b5a",
   "outputs": [
    {
     "name": "stderr",
     "output_type": "stream",
     "text": [
      "[MainProcess/INFO] pool started with 12 workers\n",
      "100%|████████████████████████████████████████| 200/200 [03:39<00:00,  1.10s/it]\n",
      "[MainProcess/INFO] optimization completed, found 1 solutions\n",
      "[MainProcess/INFO] terminating pool\n"
     ]
    }
   ],
   "execution_count": 44
  },
  {
   "metadata": {
    "ExecuteTime": {
     "end_time": "2025-05-30T15:03:56.018778Z",
     "start_time": "2025-05-30T15:03:55.996153Z"
    }
   },
   "cell_type": "code",
   "source": "robust_results",
   "id": "a39e84393febde80",
   "outputs": [
    {
     "data": {
      "text/plain": [
       "   0_RfR 0  0_RfR 1  0_RfR 2  1_RfR 0  1_RfR 1  1_RfR 2  2_RfR 0  2_RfR 1  \\\n",
       "0        0        0        0        0        0        0        0        0   \n",
       "\n",
       "   2_RfR 2  3_RfR 0  ...  A.3_DikeIncrease 0  A.3_DikeIncrease 1  \\\n",
       "0        0        0  ...                   2                   4   \n",
       "\n",
       "   A.3_DikeIncrease 2  A.4_DikeIncrease 0  A.4_DikeIncrease 1  \\\n",
       "0                   7                   9                   0   \n",
       "\n",
       "   A.4_DikeIncrease 2  A.5_DikeIncrease 0  A.5_DikeIncrease 1  \\\n",
       "0                   7                   9                   6   \n",
       "\n",
       "   A.5_DikeIncrease 2  90th percentile RFR Total Costs  \n",
       "0                   9                              0.0  \n",
       "\n",
       "[1 rows x 32 columns]"
      ],
      "text/html": [
       "<div>\n",
       "<style scoped>\n",
       "    .dataframe tbody tr th:only-of-type {\n",
       "        vertical-align: middle;\n",
       "    }\n",
       "\n",
       "    .dataframe tbody tr th {\n",
       "        vertical-align: top;\n",
       "    }\n",
       "\n",
       "    .dataframe thead th {\n",
       "        text-align: right;\n",
       "    }\n",
       "</style>\n",
       "<table border=\"1\" class=\"dataframe\">\n",
       "  <thead>\n",
       "    <tr style=\"text-align: right;\">\n",
       "      <th></th>\n",
       "      <th>0_RfR 0</th>\n",
       "      <th>0_RfR 1</th>\n",
       "      <th>0_RfR 2</th>\n",
       "      <th>1_RfR 0</th>\n",
       "      <th>1_RfR 1</th>\n",
       "      <th>1_RfR 2</th>\n",
       "      <th>2_RfR 0</th>\n",
       "      <th>2_RfR 1</th>\n",
       "      <th>2_RfR 2</th>\n",
       "      <th>3_RfR 0</th>\n",
       "      <th>...</th>\n",
       "      <th>A.3_DikeIncrease 0</th>\n",
       "      <th>A.3_DikeIncrease 1</th>\n",
       "      <th>A.3_DikeIncrease 2</th>\n",
       "      <th>A.4_DikeIncrease 0</th>\n",
       "      <th>A.4_DikeIncrease 1</th>\n",
       "      <th>A.4_DikeIncrease 2</th>\n",
       "      <th>A.5_DikeIncrease 0</th>\n",
       "      <th>A.5_DikeIncrease 1</th>\n",
       "      <th>A.5_DikeIncrease 2</th>\n",
       "      <th>90th percentile RFR Total Costs</th>\n",
       "    </tr>\n",
       "  </thead>\n",
       "  <tbody>\n",
       "    <tr>\n",
       "      <th>0</th>\n",
       "      <td>0</td>\n",
       "      <td>0</td>\n",
       "      <td>0</td>\n",
       "      <td>0</td>\n",
       "      <td>0</td>\n",
       "      <td>0</td>\n",
       "      <td>0</td>\n",
       "      <td>0</td>\n",
       "      <td>0</td>\n",
       "      <td>0</td>\n",
       "      <td>...</td>\n",
       "      <td>2</td>\n",
       "      <td>4</td>\n",
       "      <td>7</td>\n",
       "      <td>9</td>\n",
       "      <td>0</td>\n",
       "      <td>7</td>\n",
       "      <td>9</td>\n",
       "      <td>6</td>\n",
       "      <td>9</td>\n",
       "      <td>0.0</td>\n",
       "    </tr>\n",
       "  </tbody>\n",
       "</table>\n",
       "<p>1 rows × 32 columns</p>\n",
       "</div>"
      ]
     },
     "execution_count": 55,
     "metadata": {},
     "output_type": "execute_result"
    }
   ],
   "execution_count": 55
  },
  {
   "metadata": {
    "ExecuteTime": {
     "end_time": "2025-05-30T15:02:59.416508Z",
     "start_time": "2025-05-30T15:02:59.373027Z"
    }
   },
   "cell_type": "code",
   "source": [
    "from ema_workbench.analysis import parcoords\n",
    "import matplotlib.pyplot as plt\n",
    "\n",
    "# Prepare data\n",
    "data = robust_results.loc[:, [o.name for o in robustness_functions]]\n",
    "limits = parcoords.get_limits(data)\n",
    "limits.loc[0, [o.name for o in robustness_functions]] = 0\n",
    "\n",
    "# Create plot\n",
    "paraxes = parcoords.ParallelAxes(limits) # Pass the axis explicitly\n",
    "paraxes.plot(data)\n",
    "paraxes.invert_axis(\"90th percentile RFR Total Costs\")\n",
    "plt.show()\n"
   ],
   "id": "2c4f8725a4e36227",
   "outputs": [
    {
     "ename": "UnboundLocalError",
     "evalue": "cannot access local variable 'ax' where it is not associated with a value",
     "output_type": "error",
     "traceback": [
      "\u001B[1;31m---------------------------------------------------------------------------\u001B[0m",
      "\u001B[1;31mUnboundLocalError\u001B[0m                         Traceback (most recent call last)",
      "Cell \u001B[1;32mIn[54], line 10\u001B[0m\n\u001B[0;32m      7\u001B[0m limits\u001B[38;5;241m.\u001B[39mloc[\u001B[38;5;241m0\u001B[39m, [o\u001B[38;5;241m.\u001B[39mname \u001B[38;5;28;01mfor\u001B[39;00m o \u001B[38;5;129;01min\u001B[39;00m robustness_functions]] \u001B[38;5;241m=\u001B[39m \u001B[38;5;241m0\u001B[39m\n\u001B[0;32m      9\u001B[0m \u001B[38;5;66;03m# Create plot\u001B[39;00m\n\u001B[1;32m---> 10\u001B[0m paraxes \u001B[38;5;241m=\u001B[39m \u001B[43mparcoords\u001B[49m\u001B[38;5;241;43m.\u001B[39;49m\u001B[43mParallelAxes\u001B[49m\u001B[43m(\u001B[49m\u001B[43mlimits\u001B[49m\u001B[43m)\u001B[49m \u001B[38;5;66;03m# Pass the axis explicitly\u001B[39;00m\n\u001B[0;32m     11\u001B[0m paraxes\u001B[38;5;241m.\u001B[39mplot(data)\n\u001B[0;32m     12\u001B[0m paraxes\u001B[38;5;241m.\u001B[39minvert_axis(\u001B[38;5;124m\"\u001B[39m\u001B[38;5;124m90th percentile RFR Total Costs\u001B[39m\u001B[38;5;124m\"\u001B[39m)\n",
      "File \u001B[1;32m~\\AppData\\Local\\Packages\\PythonSoftwareFoundation.Python.3.12_qbz5n2kfra8p0\\LocalCache\\local-packages\\Python312\\site-packages\\ema_workbench\\analysis\\parcoords.py:204\u001B[0m, in \u001B[0;36mParallelAxes.__init__\u001B[1;34m(self, limits, formatter, fontsize, rot)\u001B[0m\n\u001B[0;32m    201\u001B[0m \u001B[38;5;28mself\u001B[39m\u001B[38;5;241m.\u001B[39m_normalizer \u001B[38;5;241m=\u001B[39m preprocessing\u001B[38;5;241m.\u001B[39mMinMaxScaler()\n\u001B[0;32m    202\u001B[0m \u001B[38;5;28mself\u001B[39m\u001B[38;5;241m.\u001B[39m_normalizer\u001B[38;5;241m.\u001B[39mfit(\u001B[38;5;28mself\u001B[39m\u001B[38;5;241m.\u001B[39mlimits)\n\u001B[1;32m--> 204\u001B[0m fig, axes, ticklabels \u001B[38;5;241m=\u001B[39m \u001B[43msetup_parallel_plot\u001B[49m\u001B[43m(\u001B[49m\n\u001B[0;32m    205\u001B[0m \u001B[43m    \u001B[49m\u001B[38;5;28;43mself\u001B[39;49m\u001B[38;5;241;43m.\u001B[39;49m\u001B[43maxis_labels\u001B[49m\u001B[43m,\u001B[49m\n\u001B[0;32m    206\u001B[0m \u001B[43m    \u001B[49m\u001B[38;5;28;43mself\u001B[39;49m\u001B[38;5;241;43m.\u001B[39;49m\u001B[43mlimits\u001B[49m\u001B[38;5;241;43m.\u001B[39;49m\u001B[43mmin\u001B[49m\u001B[43m(\u001B[49m\u001B[43m)\u001B[49m\u001B[43m,\u001B[49m\n\u001B[0;32m    207\u001B[0m \u001B[43m    \u001B[49m\u001B[38;5;28;43mself\u001B[39;49m\u001B[38;5;241;43m.\u001B[39;49m\u001B[43mlimits\u001B[49m\u001B[38;5;241;43m.\u001B[39;49m\u001B[43mmax\u001B[49m\u001B[43m(\u001B[49m\u001B[43m)\u001B[49m\u001B[43m,\u001B[49m\n\u001B[0;32m    208\u001B[0m \u001B[43m    \u001B[49m\u001B[43mfs\u001B[49m\u001B[38;5;241;43m=\u001B[39;49m\u001B[38;5;28;43mself\u001B[39;49m\u001B[38;5;241;43m.\u001B[39;49m\u001B[43mfontsize\u001B[49m\u001B[43m,\u001B[49m\n\u001B[0;32m    209\u001B[0m \u001B[43m    \u001B[49m\u001B[43mrot\u001B[49m\u001B[38;5;241;43m=\u001B[39;49m\u001B[43mrot\u001B[49m\u001B[43m,\u001B[49m\n\u001B[0;32m    210\u001B[0m \u001B[43m    \u001B[49m\u001B[43mformatter\u001B[49m\u001B[38;5;241;43m=\u001B[39;49m\u001B[43mformatter\u001B[49m\u001B[43m,\u001B[49m\n\u001B[0;32m    211\u001B[0m \u001B[43m\u001B[49m\u001B[43m)\u001B[49m\n\u001B[0;32m    213\u001B[0m \u001B[38;5;28mself\u001B[39m\u001B[38;5;241m.\u001B[39mfig \u001B[38;5;241m=\u001B[39m fig\n\u001B[0;32m    214\u001B[0m \u001B[38;5;28mself\u001B[39m\u001B[38;5;241m.\u001B[39maxes \u001B[38;5;241m=\u001B[39m axes\n",
      "File \u001B[1;32m~\\AppData\\Local\\Packages\\PythonSoftwareFoundation.Python.3.12_qbz5n2kfra8p0\\LocalCache\\local-packages\\Python312\\site-packages\\ema_workbench\\analysis\\parcoords.py:79\u001B[0m, in \u001B[0;36msetup_parallel_plot\u001B[1;34m(labels, minima, maxima, formatter, fs, rot)\u001B[0m\n\u001B[0;32m     76\u001B[0m     ax\u001B[38;5;241m.\u001B[39mspines[\u001B[38;5;124m\"\u001B[39m\u001B[38;5;124mbottom\u001B[39m\u001B[38;5;124m\"\u001B[39m]\u001B[38;5;241m.\u001B[39mset_visible(\u001B[38;5;28;01mFalse\u001B[39;00m)\n\u001B[0;32m     78\u001B[0m \u001B[38;5;66;03m# for the last axis, we need 2 ticks (also for the right hand side\u001B[39;00m\n\u001B[1;32m---> 79\u001B[0m \u001B[43max\u001B[49m\u001B[38;5;241m.\u001B[39mxaxis\u001B[38;5;241m.\u001B[39mset_major_locator(ticker\u001B[38;5;241m.\u001B[39mFixedLocator([i, i \u001B[38;5;241m+\u001B[39m \u001B[38;5;241m1\u001B[39m]))\n\u001B[0;32m     80\u001B[0m ax\u001B[38;5;241m.\u001B[39mxaxis\u001B[38;5;241m.\u001B[39mset_ticklabels(labels[i \u001B[38;5;241m-\u001B[39m \u001B[38;5;241m1\u001B[39m : i \u001B[38;5;241m+\u001B[39m \u001B[38;5;241m1\u001B[39m], fontsize\u001B[38;5;241m=\u001B[39mfs, rotation\u001B[38;5;241m=\u001B[39mrot)\n\u001B[0;32m     82\u001B[0m label \u001B[38;5;241m=\u001B[39m labels[\u001B[38;5;241m-\u001B[39m\u001B[38;5;241m1\u001B[39m]\n",
      "\u001B[1;31mUnboundLocalError\u001B[0m: cannot access local variable 'ax' where it is not associated with a value"
     ]
    },
    {
     "data": {
      "text/plain": [
       "<Figure size 640x480 with 0 Axes>"
      ]
     },
     "metadata": {},
     "output_type": "display_data"
    }
   ],
   "execution_count": 54
  }
 ],
 "metadata": {
  "kernelspec": {
   "display_name": "Python 3",
   "language": "python",
   "name": "python3"
  },
  "language_info": {
   "codemirror_mode": {
    "name": "ipython",
    "version": 2
   },
   "file_extension": ".py",
   "mimetype": "text/x-python",
   "name": "python",
   "nbconvert_exporter": "python",
   "pygments_lexer": "ipython2",
   "version": "2.7.6"
  }
 },
 "nbformat": 4,
 "nbformat_minor": 5
}
