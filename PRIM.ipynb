{
 "cells": [
  {
   "cell_type": "code",
   "execution_count": null,
   "id": "initial_id",
   "metadata": {
    "collapsed": true
   },
   "outputs": [],
   "source": [
    "import pandas as pd\n",
    "import numpy as np\n",
    "import matplotlib.pyplot as plt\n",
    "\n",
    "from ema_workbench.analysis import prim\n",
    "from ema_workbench import load_results\n",
    "\n",
    "# === Load results ===\n",
    "experiments, outcomes = load_results('dike_experiments_2.tar.gz')"
   ]
  },
  {
   "metadata": {},
   "cell_type": "code",
   "outputs": [],
   "execution_count": null,
   "source": [
    "# Print all available outcome names\n",
    "print(\"Available outcome names:\")\n",
    "for outcome_name in outcomes.keys():\n",
    "    print(outcome_name)"
   ],
   "id": "81b09160f0aee0e2"
  },
  {
   "metadata": {},
   "cell_type": "code",
   "outputs": [],
   "execution_count": null,
   "source": [
    "# === Define targets for PRIM ===\n",
    "\n",
    "target = (outcomes['A.1_Minimum Water Level'] > 4) & (outcomes['A.2_Minimum Water Level'] > 4) & (outcomes['A.3_Minimum Water Level'] > 4)  & (outcomes['A.4_Minimum Water Level'] > 4) & (outcomes['A.5_Minimum Water Level'] > 5)"
   ],
   "id": "10dd7b684937382"
  },
  {
   "metadata": {},
   "cell_type": "code",
   "outputs": [],
   "execution_count": null,
   "source": [
    "# === Run PRIM ===\n",
    "prim_alg = prim.Prim(experiments, target, threshold=0.8)\n",
    "box = prim_alg.find_box()\n"
   ],
   "id": "b1ebcb9ab7328d02"
  },
  {
   "metadata": {},
   "cell_type": "code",
   "outputs": [],
   "execution_count": null,
   "source": [
    "# === Plot and inspect ===\n",
    "box.show_tradeoff()\n",
    "plt.show()"
   ],
   "id": "8d161b8ff395c23f"
  },
  {
   "metadata": {},
   "cell_type": "code",
   "outputs": [],
   "execution_count": null,
   "source": [
    "# choose a mox that has moderate to high coverage (captures many good cases)\n",
    "# and higher density\n",
    "\n",
    "# Inspect top box\n",
    "box.inspect(18)\n",
    "box.inspect(18, style='graph')\n",
    "plt.show()"
   ],
   "id": "f9514e0854e2230c"
  },
  {
   "metadata": {},
   "cell_type": "code",
   "outputs": [],
   "execution_count": null,
   "source": [
    "#Coverage 58.3% of the \"good\" cases (i.e. target = True) are in this box\n",
    "# density  51.9% of the box meets your success criteria\n",
    "#k 28 = There are 28 \"good\" cases in the box (target=True)\n",
    "#mass = This box includes 18% of the total dataset (relatively small, meaning it's selective)\n",
    "#n = There are 54 total cases in the box\n",
    "#res_dim = 9 parameters were constrained in this box – it's fairly restrictive\n",
    "\n",
    "#Here are the rules that define Box 15:\n",
    "\n",
    "#Variable\tBox Range / Values\tNotes\n",
    "#A.1_Bmax\t32.7 – 333.3\tBmax for location A.1 – wide range 📊\n",
    "#A.1_Brate\t{10.0, 1.0}\tCategorical (likely binary choice) – may cause warnings ⚠️\n",
    "#discount rate 1\t{1.5, 2.5, 3.5}\tAll values – not restricted.\n",
    "#discount rate 2\t{1.5, 2.5, 4.5}\tAll values – not restricted.\n",
    "#A.0_ID flood wave shape\t4 – 119\tRange of inflow/flood shape parameter 📈\n",
    "#A.3_pfail\t0.03 – 0.896\tFailure probability in section A.3\n",
    "#A.3_Bmax\t43.3 – 333.6\tCapacity of section A.3\n",
    "#A.4_pfail\t0.082 – 0.996\tFailure probability of section A.4\n",
    "#A.1_pfail\t0.042 – 0.880\tFailure probability of section A.1"
   ],
   "id": "f3f71c3cbc5173b0"
  }
 ],
 "metadata": {
  "kernelspec": {
   "display_name": "Python 3",
   "language": "python",
   "name": "python3"
  },
  "language_info": {
   "codemirror_mode": {
    "name": "ipython",
    "version": 2
   },
   "file_extension": ".py",
   "mimetype": "text/x-python",
   "name": "python",
   "nbconvert_exporter": "python",
   "pygments_lexer": "ipython2",
   "version": "2.7.6"
  }
 },
 "nbformat": 4,
 "nbformat_minor": 5
}
