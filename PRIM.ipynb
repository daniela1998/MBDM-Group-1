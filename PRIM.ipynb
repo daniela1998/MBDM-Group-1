{
 "cells": [
  {
   "cell_type": "code",
   "id": "initial_id",
   "metadata": {
    "collapsed": true,
    "ExecuteTime": {
     "end_time": "2025-05-31T08:46:10.404370Z",
     "start_time": "2025-05-31T08:46:10.384581Z"
    }
   },
   "source": [
    "import pandas as pd\n",
    "import numpy as np\n",
    "import matplotlib.pyplot as plt\n",
    "\n",
    "from ema_workbench.analysis import prim\n",
    "from ema_workbench import load_results\n",
    "\n",
    "# === Load results ===\n",
    "experiments, outcomes = load_results('dike_experiments_2.tar.gz')"
   ],
   "outputs": [],
   "execution_count": 2
  },
  {
   "metadata": {
    "ExecuteTime": {
     "end_time": "2025-05-31T08:57:56.308400Z",
     "start_time": "2025-05-31T08:57:56.302356Z"
    }
   },
   "cell_type": "code",
   "source": [
    "# Display a summary\n",
    "print(\"Experiments (designs and uncertainties):\")\n",
    "print(experiments.head())\n",
    "\n",
    "print(\"\\nOutcomes (keys only):\")\n",
    "print(list(outcomes.keys()))\n"
   ],
   "id": "e7d6d8b5dcbd006b",
   "outputs": [
    {
     "name": "stdout",
     "output_type": "stream",
     "text": [
      "Experiments (designs and uncertainties):\n",
      "   A.0_ID flood wave shape    A.1_Bmax A.1_Brate  A.1_pfail    A.2_Bmax  \\\n",
      "0                       11  216.780621       1.0   0.433801  283.858027   \n",
      "1                       82   95.215442       1.5   0.703122  322.450624   \n",
      "2                       73  267.991455       1.5   0.160434  146.614704   \n",
      "3                       91  238.390714      10.0   0.211686  287.549784   \n",
      "4                      105   70.300044       1.0   0.861464  129.755588   \n",
      "\n",
      "  A.2_Brate  A.2_pfail    A.3_Bmax A.3_Brate  A.3_pfail  ...  \\\n",
      "0      10.0   0.698797  325.440404       1.5   0.301720  ...   \n",
      "1      10.0   0.554337  138.863464       1.5   0.411571  ...   \n",
      "2       1.0   0.907989  191.801788      10.0   0.886706  ...   \n",
      "3       1.0   0.091643  332.362639      10.0   0.077169  ...   \n",
      "4       1.0   0.525107  257.601929       1.5   0.508596  ...   \n",
      "\n",
      "   A.4_DikeIncrease 0 A.4_DikeIncrease 1  A.4_DikeIncrease 2  \\\n",
      "0                   0                  3                  10   \n",
      "1                   0                  3                  10   \n",
      "2                   0                  3                  10   \n",
      "3                   0                  3                  10   \n",
      "4                   0                  3                  10   \n",
      "\n",
      "   A.5_DikeIncrease 0 A.5_DikeIncrease 1  A.5_DikeIncrease 2 EWS_DaysToThreat  \\\n",
      "0                   6                  9                   8                3   \n",
      "1                   6                  9                   8                3   \n",
      "2                   6                  9                   8                3   \n",
      "3                   6                  9                   8                3   \n",
      "4                   6                  9                   8                3   \n",
      "\n",
      "  scenario policy     model  \n",
      "0        4      0  dikesnet  \n",
      "1        5      0  dikesnet  \n",
      "2        6      0  dikesnet  \n",
      "3        7      0  dikesnet  \n",
      "4        8      0  dikesnet  \n",
      "\n",
      "[5 rows x 53 columns]\n",
      "\n",
      "Outcomes (keys only):\n",
      "['A.1 Total Costs', 'A.1_Expected Number of Deaths', 'A.1_Minimum Water Level', 'A.1_95% Guaranteed Water Level', 'A.1_98% Guaranteed Water Level', 'A.2 Total Costs', 'A.2_Expected Number of Deaths', 'A.2_Minimum Water Level', 'A.2_95% Guaranteed Water Level', 'A.2_98% Guaranteed Water Level', 'A.3 Total Costs', 'A.3_Expected Number of Deaths', 'A.3_Minimum Water Level', 'A.3_95% Guaranteed Water Level', 'A.3_98% Guaranteed Water Level', 'A.4 Total Costs', 'A.4_Expected Number of Deaths', 'A.4_Minimum Water Level', 'A.4_95% Guaranteed Water Level', 'A.4_98% Guaranteed Water Level', 'A.5 Total Costs', 'A.5_Expected Number of Deaths', 'A.5_Minimum Water Level', 'A.5_95% Guaranteed Water Level', 'A.5_98% Guaranteed Water Level', 'RfR Total Costs', 'Expected Evacuation Costs']\n"
     ]
    }
   ],
   "execution_count": 13
  },
  {
   "metadata": {
    "ExecuteTime": {
     "end_time": "2025-05-31T09:00:52.898386Z",
     "start_time": "2025-05-31T09:00:52.896128Z"
    }
   },
   "cell_type": "code",
   "source": "print(len(experiments))\n",
   "id": "3d144c15c9e896f0",
   "outputs": [
    {
     "name": "stdout",
     "output_type": "stream",
     "text": [
      "200\n"
     ]
    }
   ],
   "execution_count": 14
  },
  {
   "metadata": {
    "ExecuteTime": {
     "end_time": "2025-05-31T08:46:10.409393Z",
     "start_time": "2025-05-31T08:46:10.407198Z"
    }
   },
   "cell_type": "code",
   "source": [
    "# Print all available outcome names\n",
    "print(\"Available outcome names:\")\n",
    "for outcome_name in outcomes.keys():\n",
    "    print(outcome_name)"
   ],
   "id": "81b09160f0aee0e2",
   "outputs": [
    {
     "name": "stdout",
     "output_type": "stream",
     "text": [
      "Available outcome names:\n",
      "A.1 Total Costs\n",
      "A.1_Expected Number of Deaths\n",
      "A.1_Minimum Water Level\n",
      "A.1_95% Guaranteed Water Level\n",
      "A.1_98% Guaranteed Water Level\n",
      "A.2 Total Costs\n",
      "A.2_Expected Number of Deaths\n",
      "A.2_Minimum Water Level\n",
      "A.2_95% Guaranteed Water Level\n",
      "A.2_98% Guaranteed Water Level\n",
      "A.3 Total Costs\n",
      "A.3_Expected Number of Deaths\n",
      "A.3_Minimum Water Level\n",
      "A.3_95% Guaranteed Water Level\n",
      "A.3_98% Guaranteed Water Level\n",
      "A.4 Total Costs\n",
      "A.4_Expected Number of Deaths\n",
      "A.4_Minimum Water Level\n",
      "A.4_95% Guaranteed Water Level\n",
      "A.4_98% Guaranteed Water Level\n",
      "A.5 Total Costs\n",
      "A.5_Expected Number of Deaths\n",
      "A.5_Minimum Water Level\n",
      "A.5_95% Guaranteed Water Level\n",
      "A.5_98% Guaranteed Water Level\n",
      "RfR Total Costs\n",
      "Expected Evacuation Costs\n"
     ]
    }
   ],
   "execution_count": 3
  },
  {
   "metadata": {
    "ExecuteTime": {
     "end_time": "2025-05-31T08:46:10.426627Z",
     "start_time": "2025-05-31T08:46:10.424758Z"
    }
   },
   "cell_type": "code",
   "source": [
    "# === Define targets for PRIM ===\n",
    "\n",
    "target = (outcomes['A.1_Minimum Water Level'] > 4) & (outcomes['A.2_Minimum Water Level'] > 4) & (outcomes['A.3_Minimum Water Level'] > 4)  & (outcomes['A.4_Minimum Water Level'] > 4) & (outcomes['A.5_Minimum Water Level'] > 5)"
   ],
   "id": "10dd7b684937382",
   "outputs": [],
   "execution_count": 4
  },
  {
   "metadata": {
    "ExecuteTime": {
     "end_time": "2025-05-31T08:46:10.648604Z",
     "start_time": "2025-05-31T08:46:10.438763Z"
    }
   },
   "cell_type": "code",
   "source": [
    "# === Run PRIM ===\n",
    "prim_alg = prim.Prim(experiments, target, threshold=0.8)\n",
    "box = prim_alg.find_box()\n"
   ],
   "id": "b1ebcb9ab7328d02",
   "outputs": [],
   "execution_count": 5
  },
  {
   "metadata": {
    "ExecuteTime": {
     "end_time": "2025-05-31T08:46:10.711643Z",
     "start_time": "2025-05-31T08:46:10.655659Z"
    }
   },
   "cell_type": "code",
   "source": [
    "# === Plot and inspect ===\n",
    "box.show_tradeoff()\n",
    "plt.show()"
   ],
   "id": "8d161b8ff395c23f",
   "outputs": [
    {
     "data": {
      "text/plain": [
       "<Figure size 640x480 with 2 Axes>"
      ],
      "image/png": "[encoded data removed]"
     },
     "metadata": {},
     "output_type": "display_data"
    }
   ],
   "execution_count": 6
  },
  {
   "metadata": {
    "ExecuteTime": {
     "end_time": "2025-05-31T08:46:10.787964Z",
     "start_time": "2025-05-31T08:46:10.713813Z"
    }
   },
   "cell_type": "code",
   "source": [
    "# choose a mox that has moderate to high coverage (captures many good cases)\n",
    "# and higher density\n",
    "\n",
    "# Inspect top box\n",
    "box.inspect(18)\n",
    "box.inspect(18, style='graph')\n",
    "plt.show()"
   ],
   "id": "f9514e0854e2230c",
   "outputs": [
    {
     "ename": "IndexError",
     "evalue": "single positional indexer is out-of-bounds",
     "output_type": "error",
     "traceback": [
      "\u001B[31m---------------------------------------------------------------------------\u001B[39m",
      "\u001B[31mIndexError\u001B[39m                                Traceback (most recent call last)",
      "\u001B[36mCell\u001B[39m\u001B[36m \u001B[39m\u001B[32mIn[7]\u001B[39m\u001B[32m, line 5\u001B[39m\n\u001B[32m      1\u001B[39m \u001B[38;5;66;03m# choose a mox that has moderate to high coverage (captures many good cases)\u001B[39;00m\n\u001B[32m      2\u001B[39m \u001B[38;5;66;03m# and higher density\u001B[39;00m\n\u001B[32m      3\u001B[39m \n\u001B[32m      4\u001B[39m \u001B[38;5;66;03m# Inspect top box\u001B[39;00m\n\u001B[32m----> \u001B[39m\u001B[32m5\u001B[39m \u001B[43mbox\u001B[49m\u001B[43m.\u001B[49m\u001B[43minspect\u001B[49m\u001B[43m(\u001B[49m\u001B[32;43m18\u001B[39;49m\u001B[43m)\u001B[49m\n\u001B[32m      6\u001B[39m box.inspect(\u001B[32m18\u001B[39m, style=\u001B[33m'\u001B[39m\u001B[33mgraph\u001B[39m\u001B[33m'\u001B[39m)\n\u001B[32m      7\u001B[39m plt.show()\n",
      "\u001B[36mFile \u001B[39m\u001B[32m~/Downloads/epa141A_open-master/.venv/lib/python3.13/site-packages/ema_workbench/analysis/prim.py:445\u001B[39m, in \u001B[36mPrimBox.inspect\u001B[39m\u001B[34m(self, i, style, ax, **kwargs)\u001B[39m\n\u001B[32m    443\u001B[39m         \u001B[38;5;28;01mreturn\u001B[39;00m [\u001B[38;5;28mself\u001B[39m._inspect(i_j, style=style, ax=ax, **kwargs) \u001B[38;5;28;01mfor\u001B[39;00m i_j, ax \u001B[38;5;129;01min\u001B[39;00m \u001B[38;5;28mzip\u001B[39m(i, ax)]\n\u001B[32m    444\u001B[39m \u001B[38;5;28;01melse\u001B[39;00m:\n\u001B[32m--> \u001B[39m\u001B[32m445\u001B[39m     \u001B[38;5;28;01mreturn\u001B[39;00m [\u001B[38;5;28;43mself\u001B[39;49m\u001B[43m.\u001B[49m\u001B[43m_inspect\u001B[49m\u001B[43m(\u001B[49m\u001B[43mentry\u001B[49m\u001B[43m,\u001B[49m\u001B[43m \u001B[49m\u001B[43mstyle\u001B[49m\u001B[43m=\u001B[49m\u001B[43mstyle\u001B[49m\u001B[43m,\u001B[49m\u001B[43m \u001B[49m\u001B[43m*\u001B[49m\u001B[43m*\u001B[49m\u001B[43mkwargs\u001B[49m\u001B[43m)\u001B[49m \u001B[38;5;28;01mfor\u001B[39;00m entry \u001B[38;5;129;01min\u001B[39;00m i]\n",
      "\u001B[36mFile \u001B[39m\u001B[32m~/Downloads/epa141A_open-master/.venv/lib/python3.13/site-packages/ema_workbench/analysis/prim.py:461\u001B[39m, in \u001B[36mPrimBox._inspect\u001B[39m\u001B[34m(self, i, style, **kwargs)\u001B[39m\n\u001B[32m    447\u001B[39m \u001B[38;5;28;01mdef\u001B[39;00m\u001B[38;5;250m \u001B[39m\u001B[34m_inspect\u001B[39m(\u001B[38;5;28mself\u001B[39m, i=\u001B[38;5;28;01mNone\u001B[39;00m, style=\u001B[33m\"\u001B[39m\u001B[33mtable\u001B[39m\u001B[33m\"\u001B[39m, **kwargs):\n\u001B[32m    448\u001B[39m \u001B[38;5;250m    \u001B[39m\u001B[33;03m\"\"\"Helper method for inspecting one or more boxes on the\u001B[39;00m\n\u001B[32m    449\u001B[39m \u001B[33;03m    peeling trajectory\u001B[39;00m\n\u001B[32m    450\u001B[39m \n\u001B[32m   (...)\u001B[39m\u001B[32m    458\u001B[39m \n\u001B[32m    459\u001B[39m \u001B[33;03m    \"\"\"\u001B[39;00m\n\u001B[32m--> \u001B[39m\u001B[32m461\u001B[39m     stats = \u001B[38;5;28;43mself\u001B[39;49m\u001B[43m.\u001B[49m\u001B[43mpeeling_trajectory\u001B[49m\u001B[43m.\u001B[49m\u001B[43miloc\u001B[49m\u001B[43m[\u001B[49m\u001B[43mi\u001B[49m\u001B[43m]\u001B[49m.to_dict()\n\u001B[32m    462\u001B[39m     stats[\u001B[33m\"\u001B[39m\u001B[33mrestricted_dim\u001B[39m\u001B[33m\"\u001B[39m] = stats[\u001B[33m\"\u001B[39m\u001B[33mres_dim\u001B[39m\u001B[33m\"\u001B[39m]\n\u001B[32m    464\u001B[39m     qp_values = \u001B[38;5;28mself\u001B[39m.qp[i]\n",
      "\u001B[36mFile \u001B[39m\u001B[32m~/Downloads/epa141A_open-master/.venv/lib/python3.13/site-packages/pandas/core/indexing.py:1191\u001B[39m, in \u001B[36m_LocationIndexer.__getitem__\u001B[39m\u001B[34m(self, key)\u001B[39m\n\u001B[32m   1189\u001B[39m maybe_callable = com.apply_if_callable(key, \u001B[38;5;28mself\u001B[39m.obj)\n\u001B[32m   1190\u001B[39m maybe_callable = \u001B[38;5;28mself\u001B[39m._check_deprecated_callable_usage(key, maybe_callable)\n\u001B[32m-> \u001B[39m\u001B[32m1191\u001B[39m \u001B[38;5;28;01mreturn\u001B[39;00m \u001B[38;5;28;43mself\u001B[39;49m\u001B[43m.\u001B[49m\u001B[43m_getitem_axis\u001B[49m\u001B[43m(\u001B[49m\u001B[43mmaybe_callable\u001B[49m\u001B[43m,\u001B[49m\u001B[43m \u001B[49m\u001B[43maxis\u001B[49m\u001B[43m=\u001B[49m\u001B[43maxis\u001B[49m\u001B[43m)\u001B[49m\n",
      "\u001B[36mFile \u001B[39m\u001B[32m~/Downloads/epa141A_open-master/.venv/lib/python3.13/site-packages/pandas/core/indexing.py:1752\u001B[39m, in \u001B[36m_iLocIndexer._getitem_axis\u001B[39m\u001B[34m(self, key, axis)\u001B[39m\n\u001B[32m   1749\u001B[39m     \u001B[38;5;28;01mraise\u001B[39;00m \u001B[38;5;167;01mTypeError\u001B[39;00m(\u001B[33m\"\u001B[39m\u001B[33mCannot index by location index with a non-integer key\u001B[39m\u001B[33m\"\u001B[39m)\n\u001B[32m   1751\u001B[39m \u001B[38;5;66;03m# validate the location\u001B[39;00m\n\u001B[32m-> \u001B[39m\u001B[32m1752\u001B[39m \u001B[38;5;28;43mself\u001B[39;49m\u001B[43m.\u001B[49m\u001B[43m_validate_integer\u001B[49m\u001B[43m(\u001B[49m\u001B[43mkey\u001B[49m\u001B[43m,\u001B[49m\u001B[43m \u001B[49m\u001B[43maxis\u001B[49m\u001B[43m)\u001B[49m\n\u001B[32m   1754\u001B[39m \u001B[38;5;28;01mreturn\u001B[39;00m \u001B[38;5;28mself\u001B[39m.obj._ixs(key, axis=axis)\n",
      "\u001B[36mFile \u001B[39m\u001B[32m~/Downloads/epa141A_open-master/.venv/lib/python3.13/site-packages/pandas/core/indexing.py:1685\u001B[39m, in \u001B[36m_iLocIndexer._validate_integer\u001B[39m\u001B[34m(self, key, axis)\u001B[39m\n\u001B[32m   1683\u001B[39m len_axis = \u001B[38;5;28mlen\u001B[39m(\u001B[38;5;28mself\u001B[39m.obj._get_axis(axis))\n\u001B[32m   1684\u001B[39m \u001B[38;5;28;01mif\u001B[39;00m key >= len_axis \u001B[38;5;129;01mor\u001B[39;00m key < -len_axis:\n\u001B[32m-> \u001B[39m\u001B[32m1685\u001B[39m     \u001B[38;5;28;01mraise\u001B[39;00m \u001B[38;5;167;01mIndexError\u001B[39;00m(\u001B[33m\"\u001B[39m\u001B[33msingle positional indexer is out-of-bounds\u001B[39m\u001B[33m\"\u001B[39m)\n",
      "\u001B[31mIndexError\u001B[39m: single positional indexer is out-of-bounds"
     ]
    }
   ],
   "execution_count": 7
  },
  {
   "metadata": {},
   "cell_type": "code",
   "outputs": [],
   "execution_count": null,
   "source": [
    "#Coverage 58.3% of the \"good\" cases (i.e. target = True) are in this box\n",
    "# density  51.9% of the box meets your success criteria\n",
    "#k 28 = There are 28 \"good\" cases in the box (target=True)\n",
    "#mass = This box includes 18% of the total dataset (relatively small, meaning it's selective)\n",
    "#n = There are 54 total cases in the box\n",
    "#res_dim = 9 parameters were constrained in this box – it's fairly restrictive\n",
    "\n",
    "#Here are the rules that define Box 15:\n",
    "\n",
    "#Variable\tBox Range / Values\tNotes\n",
    "#A.1_Bmax\t32.7 – 333.3\tBmax for location A.1 – wide range 📊\n",
    "#A.1_Brate\t{10.0, 1.0}\tCategorical (likely binary choice) – may cause warnings ⚠️\n",
    "#discount rate 1\t{1.5, 2.5, 3.5}\tAll values – not restricted.\n",
    "#discount rate 2\t{1.5, 2.5, 4.5}\tAll values – not restricted.\n",
    "#A.0_ID flood wave shape\t4 – 119\tRange of inflow/flood shape parameter 📈\n",
    "#A.3_pfail\t0.03 – 0.896\tFailure probability in section A.3\n",
    "#A.3_Bmax\t43.3 – 333.6\tCapacity of section A.3\n",
    "#A.4_pfail\t0.082 – 0.996\tFailure probability of section A.4\n",
    "#A.1_pfail\t0.042 – 0.880\tFailure probability of section A.1"
   ],
   "id": "f3f71c3cbc5173b0"
  }
 ],
 "metadata": {
  "kernelspec": {
   "display_name": "Python 3",
   "language": "python",
   "name": "python3"
  },
  "language_info": {
   "codemirror_mode": {
    "name": "ipython",
    "version": 2
   },
   "file_extension": ".py",
   "mimetype": "text/x-python",
   "name": "python",
   "nbconvert_exporter": "python",
   "pygments_lexer": "ipython2",
   "version": "2.7.6"
  }
 },
 "nbformat": 4,
 "nbformat_minor": 5
}
